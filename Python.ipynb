{
 "cells": [
  {
   "cell_type": "markdown",
   "metadata": {
    "id": "Z5vmhotcXvaY"
   },
   "source": [
    "<p style=\"text-align:center;font-size:15px;\">Fundamentos de los Computadores - Curso 2024-25</p>\n",
    "<p style=\"text-align:center;font-size:30px; font-weight:bold;\">LENGUAJE DE PROGRAMACIÓN PYTHON</p>  \n",
    "<p style=\"text-align:center;\"><img src=imagenes/LogoPython.jpeg width=\"100\"></p"
   ]
  },
  {
   "cell_type": "markdown",
   "metadata": {
    "id": "ewrJn_Stb6CC"
   },
   "source": [
    "<h1 style=\"color:Brown;text-align:center;\">INTRODUCCIÓN</h1>"
   ]
  },
  {
   "cell_type": "markdown",
   "metadata": {
    "id": "yQk-ML9wTyno"
   },
   "source": [
    "<h2 style=\"color:DarkBlue;text-align:center;\">Los lenguajes de programación</h2>"
   ]
  },
  {
   "cell_type": "markdown",
   "metadata": {
    "id": "yQk-ML9wTyno",
    "tags": []
   },
   "source": [
    "Un **lenguaje de programación** es un conjunto limitado de palabras y símbolos que representan procedimientos, cálculos, decisiones y operaciones que se pueden ejecutar en una computadora.\n",
    "\n",
    "Los lenguajes de programación se pueden clasificar en:\n",
    "\n",
    "<h3 style=\"color:MediumBlue\">Lenguajes de BAJO NIVEL</h3>\n",
    "\n",
    "Lenguajes directamente relacionados con las instrucciones que ejecuta el procesador.\n",
    "\n",
    "- **Lenguaje Máquina**: utiliza instrucciones en forma de cadenas de números binarios (ceros y unos) reconocibles directamente por el procesador.\n",
    "```\n",
    "Ejemplo de instrucción del procesador x86:  1011 0000 0110 0001\n",
    "Mueve (1011) al registro AL (0000) del procesador el número hexadecimal 61 (01100001)\n",
    "```\n",
    "\n",
    "- **Lenguaje Ensamblador**: Lenguaje de bajo nivel que utiliza mnemotécnicos para representar instrucciones y direcciones simbólicas.\n",
    "```\n",
    "Ejemplo anterior: MOV AL,61h\n",
    "```\n",
    "\n",
    "Ventajas: mayor adaptación al equipo, máxima velocidad con mínimo uso de memoria.\n",
    "\n",
    "Inconvenientes: imposibilidad de escribir código independiente de la máquina, mayor dificultad en la programación y en la comprensión de los programas.\n",
    "\n",
    "<h3 style=\"color:MediumBlue\">Lenguajes de ALTO NIVEL</h3>\n",
    "\n",
    "Lenguajes que utilizan un repertorio de instrucciones complejas siguiendo unas estrictas reglas gramaticales (sintaxis del lenguaje).\n",
    "\n",
    "No existe relación directa entre estas instrucciones y las que ejecuta el procesador.   \n",
    "```\n",
    "Ejemplos: Basic, C, C++, C#, Cobol, Fortran, Java, Pascal, Perl, PHP, Python, Lisp, Ada, Prolog, etc…\n",
    "```"
   ]
  },
  {
   "cell_type": "markdown",
   "metadata": {
    "id": "VCZLyrg3XRXk"
   },
   "source": [
    "<h2 style=\"color:DarkBlue;text-align:center;\">Compiladores e intérpretes</h2>"
   ]
  },
  {
   "cell_type": "markdown",
   "metadata": {
    "id": "VCZLyrg3XRXk"
   },
   "source": [
    "<h3 style=\"color:MediumBlue\">Lenguajes COMPILADOS</h3>\n",
    "\n",
    "La ejecución de programas escritos en un lenguaje compilado requiere la traducción previa de todo el código fuente a código máquina (Código objeto).\n",
    "\n",
    "La herramienta que utilizamos para dicha traducción se llama **Compilador**.\n",
    "El programa desarrollado nunca se ejecuta mientras haya errores en el código fuente.\n",
    "\n",
    "<p style=\"text-align:center;\"><img src=imagenes/LenguajesCompilados.png width=\"400\"></p>"
   ]
  },
  {
   "cell_type": "markdown",
   "metadata": {
    "id": "VCZLyrg3XRXk"
   },
   "source": [
    "<h3 style=\"color:MediumBlue\">Lenguajes INTERPRETADOS</h3>\n",
    "\n",
    "La ejecución de programas escritos en un lenguaje interpretado requiere solamente la traducción a código máquina de la instrucción que se va a ejecutar en ese momento.\n",
    "\n",
    "La herramienta que utilizados para la traducción/ejecución se llama **Interprete**.\n",
    "\n",
    "El programa desarrollado puede ejecutarse aunque haya errores en el código fuente. Solo se detecta el error cuando se ejecuta la instrucción errónea.\n",
    "\n",
    "<p style=\"text-align:center;\"><img src=imagenes/LenguajesInterpretados.png width=\"400\"></p>"
   ]
  },
  {
   "cell_type": "markdown",
   "metadata": {
    "id": "scRYawe1NP9e"
   },
   "source": [
    "<h2 style=\"color:DarkBlue;text-align:center;\">Estilos de programación</h2>"
   ]
  },
  {
   "cell_type": "markdown",
   "metadata": {
    "id": "CrLwMgtRN958"
   },
   "source": [
    "Permite 3 modos o estilos de programación (paradigmas):"
   ]
  },
  {
   "cell_type": "markdown",
   "metadata": {
    "id": "W1yQJtDTM_s9"
   },
   "source": [
    "<h3 style=\"color:MediumBlue\">Programación imperativa</h3>\n",
    "\n",
    "Conjunto de instrucciones que se ejecutan una tras otra (pasos de ejecución) de forma secuencial.\n",
    "En la ejecución de estas instrucciones se van cambiando los valores de las variables y, dependiendo de estos valores, se modifica el flujo de control de la ejecución del programa."
   ]
  },
  {
   "cell_type": "code",
   "execution_count": null,
   "metadata": {
    "id": "pYu_E6ErFGod",
    "tags": []
   },
   "outputs": [],
   "source": [
    "n = 5\n",
    "factorial = 1\n",
    "while n>1:\n",
    "  factorial=factorial*n\n",
    "  n=n-1\n",
    "print(\"Factorial de 5 =\",factorial)  # Factorial de 5 = 120"
   ]
  },
  {
   "cell_type": "markdown",
   "metadata": {
    "id": "mgsxBUH0Ggy7"
   },
   "source": [
    "<h3 style=\"color:MediumBlue\">Programación funcional</h3>\n",
    "\n",
    "El código es una secuencia de declaración de funciones.  \n",
    "\n",
    "No existen asignación de variables, las funciones se llaman entre ellas y las repeticiones de instrucciones se sustituyen por recursividad (cuando una función se llama a si misma)."
   ]
  },
  {
   "cell_type": "code",
   "execution_count": null,
   "metadata": {
    "id": "P4dQHn44G-IG",
    "tags": []
   },
   "outputs": [],
   "source": [
    "def doble(x):\n",
    "  return x+x\n",
    "def triple(x):\n",
    "  return doble(x)+x\n",
    "def factorial(n):\n",
    "  if n>1:\n",
    "    return n*factorial(n-1)\n",
    "  else:\n",
    "    return 1"
   ]
  },
  {
   "cell_type": "markdown",
   "metadata": {
    "id": "o8HVJdEzG-m1"
   },
   "source": [
    "<h3 style=\"color:MediumBlue\">Programación orientada a objetos</h3>\n",
    "\n",
    "El código se organiza en unidades denominadas clases, de las cuales se crean objetos que se relacionan entre sí para conseguir un objetivo.\n",
    "\n",
    "Forma de programación más cercana a la realidad donde cada elemento persona/cosa (objetos) con sus características que lo identifica (atributos) son capaces de realizar determinadas acciones (métodos)."
   ]
  },
  {
   "cell_type": "code",
   "execution_count": null,
   "metadata": {
    "id": "BvRBFYqAHAIA"
   },
   "outputs": [],
   "source": [
    "class Persona:\n",
    "  # Atributos\n",
    "  nombre = \"Pedro\"\n",
    "  # Métodos\n",
    "  def saludo(self):\n",
    "    print(\"hola\",self.nombre)\n",
    "    return\n",
    "  def cambiaNombre(self,nuevo):\n",
    "    self.nombre = nuevo\n",
    "    return"
   ]
  },
  {
   "cell_type": "code",
   "execution_count": null,
   "metadata": {
    "id": "YHD1XMG9PbVI"
   },
   "outputs": [],
   "source": [
    "hombre = Persona()\n",
    "hombre.saludo()                     # hola Pedro\n",
    "hombre.cambiaNombre(\"Alejandro\")\n",
    "hombre.saludo()                     # hola Alejandro"
   ]
  },
  {
   "cell_type": "markdown",
   "metadata": {
    "id": "3uXnZCsPMUpL"
   },
   "source": [
    "<h2 style=\"color:DarkBlue;text-align:center;\">El lenguaje Python</h2>"
   ]
  },
  {
   "cell_type": "markdown",
   "metadata": {
    "id": "3uXnZCsPMUpL"
   },
   "source": [
    "Python es un lenguaje de programación de alto nivel multiparadigma y de propósito general creado por Guido van Rossum en 1990.\n",
    "\n",
    "Actualmente el lenguaje lo desarrollan y mantiene la “Python Software Foundation” (www.python.org)\n",
    "\n",
    "- Es de código abierto (certificado por la OSI).\n",
    "- Es interpretable y compilable.\n",
    "- Es fácil de aprender gracias a que su sintaxis es bastante legible para los humanos.\n",
    "- Es fácilmente extensible e integrable en otros lenguajes (C, java).\n",
    "- Mantenido por una gran comunidad de desarrolladores y hay multitud de recursos para su aprendizaje."
   ]
  },
  {
   "cell_type": "markdown",
   "metadata": {
    "id": "GKWWBvq-PDnH"
   },
   "source": [
    "<h3 style=\"color:MediumBlue\">Modos de ejecución</h3>"
   ]
  },
  {
   "cell_type": "markdown",
   "metadata": {
    "id": "KJHGL3G0JGcS"
   },
   "source": [
    "#### Interpretado en la consola de Python\n",
    "\n",
    "El usuario introduce una instrucción y el interprete la ejecuta. Similar a una calculadora \n",
    "\n",
    "<p style=\"text-align:center;\"><img src=imagenes/Consola.png width=\"300\"></p>"
   ]
  },
  {
   "cell_type": "markdown",
   "metadata": {
    "id": "I1OEZOVfP4u1"
   },
   "source": [
    "#### Interpretado en fichero\n",
    "\n",
    "El usuario crea un fichero de texto con una secuencia de instrucciones (programa) y el interperte ejecuta de forma secuencial todas las instrucciones contenidas en el fichero.\n",
    "\n",
    "<p style=\"text-align:center;\"><img src=imagenes/Fichero1.png width=\"300\"></p>"
   ]
  },
  {
   "cell_type": "markdown",
   "metadata": {
    "id": "WyrN3GPqpdQ0"
   },
   "source": [
    "<h3 style=\"color:MediumBlue\">El entorno de programación</h3>\n",
    "\n",
    "Para escribir y ejecutar código en Python instalaremos el interprete y el entorno de desarrollo (**IDLE**) que descargaremos de la página de la fundación: https://www.python.org/downloads\n",
    "\n",
    "Ejecutando el IDLE de Python entramos en la consola (shell) donde podremos ejecutar instrucciones de manera interactiva.\n",
    "\n",
    "Desde el Shell podremos lanzar el Editor que nos permitirá crear y ejecutar el fichero o (módulo) con la extensión \"**.py**\". Este fichero contendrá las líneas de código de nuestro programa.\n",
    "\n",
    "Manual completo del IDLE de Python: https://docs.python.org/es/3/library/idle.html"
   ]
  },
  {
   "cell_type": "markdown",
   "metadata": {
    "id": "4JhF7tDB6dze"
   },
   "source": [
    "<h1 style=\"color:Brown;text-align:center;\">VARIABLES</h1>"
   ]
  },
  {
   "cell_type": "markdown",
   "metadata": {
    "id": "oj7HOY-3Efkj"
   },
   "source": [
    "Una variable es el **nombre** que se utiliza para referirse a un objeto que reside en la memoria.\n",
    "\n",
    "Cada variable debe tener un nombre **único** llamado identificador.\n",
    "\n",
    "A diferencia de otros lenguajes no tienen asociado un tipo y no es necesario declararlas antes de usarlas (**tipado dinámico**).\n",
    "\n",
    "El **nombre** de la variable debe respetar las siguientes reglas:\n",
    "\n",
    "- Comienzar siempre por una **letra**, seguida de otras letras o números.\n",
    "- No utilizar **palabras reservadas** del lenguaje: *False  None  True  __peg_parser__  and  as  assert  async  await  break  class  continue  def  del  elif  else  except  finally  for  from  global  if  import  in  is  lambda  nonlocal  not  or  pass  raise  return  try  while  with  yield*.\n",
    "\n",
    "Para asignar un valor a una variable se utiliza el operador **=**. Este operador permite asignar valores a mas de una variable con una sola instrucción (**asignación múltiple**).\n",
    "\n",
    "<font style=\"color:Brown;font-weight:bold;letter-spacing:1px;\">id(variable)</font> : Devuelve la dirección de memoria a la que apunta la variable (donde se encuentra el objeto).\n",
    "\n",
    "<font style=\"color:Brown;font-weight:bold;letter-spacing:1px;\">del(variable)</font> : Borra una variable.\n",
    "\n",
    "Por economía del lenguaje, nos tomaremos la licencia de hablar de \"guardar un valor en una variable\" en vez de \"guardar el valor en un objeto y asociar una variable al objeto\"."
   ]
  },
  {
   "cell_type": "code",
   "execution_count": null,
   "metadata": {
    "id": "tXpwjGQoF01d"
   },
   "outputs": [],
   "source": [
    "lenguaje = 'Python'\n",
    "id(lenguaje)  # 138149071795632\n",
    "id('Python')  # 138149071795632\n",
    "x = 3.14\n",
    "y = 3 + 2\n",
    "a1,a2 = 1,2   # Asignación múltiple  a1 = 1 , a2 = 2\n",
    "x,y = y,x     # Intercambio de valores\n",
    "x += 2        # Incremento (equivale a x=x+2)\n",
    "x -= 1        # Decremento (equivale a x=x-1)\n",
    "x = None      # Valor no definido\n",
    "del(x)        # Elimina la variable"
   ]
  },
  {
   "cell_type": "markdown",
   "metadata": {
    "id": "BWIWdTRMmrog"
   },
   "source": [
    "<h1 style=\"color:Brown;text-align:center;\">TIPOS DE DATOS SIMPLES</h1>"
   ]
  },
  {
   "cell_type": "markdown",
   "metadata": {
    "id": "rMjS4moUTLk8"
   },
   "source": [
    "- **Números** (int,float) : 0 , -1 , 3.1415\n",
    "- **Cadenas** (strings) : 'Hola' , \"Adiós\"\n",
    "- **Booleanos** (boolean) : True , False\n",
    "\n",
    "Estos datos son **inmutables**, es decir, su valor es constante y no puede cambiar.\n",
    "\n",
    "La clase a la que pertenece un dato (objeto) se obtiene con la función **type()**."
   ]
  },
  {
   "cell_type": "markdown",
   "metadata": {
    "id": "rMjS4moUTLk8"
   },
   "source": [
    "- **Números** (numbers) : 0 , -1 , 3.1415\n",
    "- **Cadenas** (strings) : 'Hola' , \"Adiós\"\n",
    "- **Booleanos** (boolean) : True , False\n",
    "\n",
    "Estos datos son **inmutables**, es decir, su valor es constante y no puede cambiar.\n",
    "\n",
    "La clase a la que pertenece un dato (objeto) se obtiene con la función **type()**."
   ]
  },
  {
   "cell_type": "markdown",
   "metadata": {},
   "source": [
    "<h2 style=\"color:DarkBlue;text-align:center;\">NÚMEROS (clases int y float)</h2>"
   ]
  },
  {
   "cell_type": "markdown",
   "metadata": {
    "id": "48SAbjfaUkh1"
   },
   "source": [
    "Secuencia de dígitos que representan números.\n",
    "\n",
    "Pueden incluir el `-` para negativos, el `.` para decimales y la `e` para expresar potencias de 10 en notación científica.\n",
    "\n",
    "Pueden ser **enteros** (clase int) o **reales** (clase float)."
   ]
  },
  {
   "cell_type": "markdown",
   "metadata": {
    "id": "lvQiY63739L6"
   },
   "source": [
    "<h3 style=\"color:MediumBlue\">Operadores aritméticos</h3>\n",
    "\n",
    "`+` (suma)  `-` (resta)  `*` (producto)  `/` (cociente)  `**` (potencia)  \n",
    "`//` (cociente división entera)  `%` (resto división entera)"
   ]
  },
  {
   "cell_type": "markdown",
   "metadata": {
    "id": "lvQiY63739L6"
   },
   "source": [
    "<h3 style=\"color:MediumBlue\">Funciones Matemáticas</h3>\n",
    "\n",
    "<font style=\"color:Brown;font-weight:bold;letter-spacing:1px;\">abs(x)</font> : Devuelve el valor absoluto de x.  \n",
    "\n",
    "<font style=\"color:Brown;font-weight:bold;letter-spacing:1px;\">round(x)</font> : Redondea x al entero más cercano.  \n",
    "\n",
    "\n",
    "<font style=\"color:Brown;font-weight:bold;letter-spacing:1px;\">min(x, y, ...)</font> : Devuelve el valor mínimo de una secuencia.  \n",
    "\n",
    "<font style=\"color:Brown;font-weight:bold;letter-spacing:1px;\">max(x, y, ...)</font> : Devuelve el valor máximo de una secuencia.  "
   ]
  },
  {
   "cell_type": "markdown",
   "metadata": {
    "id": "WMszFgm4396n"
   },
   "source": [
    "**Orden de prioridad de evaluación**\n",
    "\n",
    "Funciones matemáticas >> Potencia >> Productos y cocientes >> Sumas y restas\n",
    "\n",
    "Se puede saltar el orden de evaluación utilizando paréntesis **( )**."
   ]
  },
  {
   "cell_type": "markdown",
   "metadata": {
    "id": "ek5G48Iz34Ds"
   },
   "source": [
    "<h3 style=\"color:MediumBlue\">Operadores lógicos</h3>\n",
    "\n",
    "Devuelven un valor lógico o booleano True/False:\n",
    "\n",
    " `==` (igual que)   `!=` (distinto de)        \n",
    " `<`   (menor que)  `<=`  (menor o igual que)  \n",
    " `>`   (mayor que)  `>=`  (mayor o igual que) "
   ]
  },
  {
   "cell_type": "code",
   "execution_count": null,
   "metadata": {
    "id": "1fycFQvKkl4i"
   },
   "outputs": [],
   "source": [
    "type(4.5)   # float\n",
    "type(-1)    # int\n",
    "type(4e5)   # float\n",
    "2+3         # 5\n",
    "5*-2        # -10\n",
    "5/2         # 2.5\n",
    "5//2        # 2\n",
    "5%2         # 1\n",
    "(2+3)**2    # 25\n",
    "3==3        # True\n",
    "3.1<=3      # False\n",
    "-1!=1       # True"
   ]
  },
  {
   "cell_type": "markdown",
   "metadata": {
    "id": "d5ZBAf6yz-dG"
   },
   "source": [
    "<h2 style=\"color:DarkBlue;text-align:center;\">CADENAS (clase str)</h2>"
   ]
  },
  {
   "cell_type": "markdown",
   "metadata": {
    "id": "d5ZBAf6yz-dG"
   },
   "source": [
    "Secuencia de caracteres alfanuméricos que representan un texto.  \n",
    "Se escriben entre comillas sencillas **'** o dobles **\"**.\n",
    "\n",
    "    Ejemplos de cadenas: 'Python'  \"123\"  'True'  'A'\n",
    "    Cadena vacía: ''  \"\"\n",
    "    Cadena con un espacio: ' '  \" \"\n",
    "    Cambio o salto de línea: '\\n'  \"\\n\"\n",
    "    Tabulador: '\\t'  \"\\t\""
   ]
  },
  {
   "cell_type": "markdown",
   "metadata": {
    "id": "j4EOB--z4ZjG"
   },
   "source": [
    "<h3 style=\"color:MediumBlue\">Acceso a los elementos de una cadena</h3>\n",
    "\n",
    "Cada carácter tiene asociado un índice que permite acceder a él.\n",
    "\n",
    "    Cadena            \" P   y   t   h   o   n \"\n",
    "    Índice positivo     0   1   2   3   4   5\n",
    "    Índice negativo    -6  -5  -4  -3  -2  -1\n",
    "\n",
    "<font style=\"color:Brown;font-weight:bold;letter-spacing:1px;\">c[i]</font> : Devuelve el carácter de la cadena **c** con el índice **i**. El índice del primer carácter de la cadena = **0**. Se pueden utilizar índices negativos para recorrer la cadena del final al principio. El índice del último carácter de la cadena = **-1**.\n",
    "\n",
    "<font style=\"color:Brown;font-weight:bold;letter-spacing:1px;\">c[i:j]</font> : Devuelve la subcadena de **c** desde el carácter con el índice **i** hasta el carácter con el índice **j-1**.\n",
    "\n",
    "<font style=\"color:Brown;font-weight:bold;letter-spacing:1px;\">c[i:j:k]</font> : Devuelve la subcadena de **c** desde el carácter con el índice **i** hasta el carácter con el índice **j-1** con saltos de **k** caracteres.\n"
   ]
  },
  {
   "cell_type": "code",
   "execution_count": null,
   "metadata": {
    "id": "Pz0kfLt-z_Ua"
   },
   "outputs": [],
   "source": [
    "c = 'Universidad Miguel Hernandez'\n",
    "c[2]      # 'i'\n",
    "c[3:7]    # 'vers'\n",
    "c[1:6:2]  # 'nvr'"
   ]
  },
  {
   "cell_type": "markdown",
   "metadata": {
    "id": "prZbERRb4h8c"
   },
   "source": [
    "<h3 style=\"color:MediumBlue\">Operaciones con cadenas</h3>\n",
    "\n",
    "<font style=\"color:Brown;font-weight:bold;letter-spacing:1px;\">c1 + c2</font> : Devuelve la cadena resultado de concatenar las cadenas c1 y c2.\n",
    "\n",
    "<font style=\"color:Brown;font-weight:bold;letter-spacing:1px;\">c * n</font>  : Devuelve la cadena resultado de concatenar n copias de la cadena c.\n",
    "\n",
    "<font style=\"color:Brown;font-weight:bold;letter-spacing:1px;\">c1 in c2</font> : Devuelve True si c1 es una cadena contenida en c2 y\n",
    "\n",
    "<font style=\"color:Brown;font-weight:bold;letter-spacing:1px;\">c1 not in c2</font> : Devuelve True si c1 es una cadena no contenida en c2 y False en caso contrario.\n",
    "\n",
    "<font style=\"color:Brown;font-weight:bold;letter-spacing:1px;\">c1 == c2</font> : Devuelve True si la cadena **c1** es igual que la cadena\n",
    "**c2** y False en caso contrario. Distingue entre mayúsculas y minúsculas.\n",
    "\n",
    "<font style=\"color:Brown;font-weight:bold;letter-spacing:1px;\">c1 > c2</font> : Devuelve True si la cadena **c1** sucede a la cadena **c2** y False en caso contrario.\n",
    "\n",
    "<font style=\"color:Brown;font-weight:bold;letter-spacing:1px;\">c1 < c2</font> : Devuelve True si la cadena c1 antecede a la cadena c2 y False en caso contrario.\n",
    "\n",
    "<font style=\"color:Brown;font-weight:bold;letter-spacing:1px;\">c1 >= c2</font> : Devuelve True si la cadena **c1** sucede o es igual a la cadena **c2** y False en caso contrario.\n",
    "\n",
    "<font style=\"color:Brown;font-weight:bold;letter-spacing:1px;\">c1 <= c2</font> : Devuelve True si la cadena c1 antecede o es igual a la cadena c2 y False en caso contrario.\n",
    "\n",
    "<font style=\"color:Brown;font-weight:bold;letter-spacing:1px;\">c1 != c2</font> : Devuelve True si la cadena c1 es distinta de la cadena c2 y False en caso contrario.\n",
    "\n",
    "Utilizan el orden establecido en el código [ASCII](https://www.google.com/search?q=tabla+ascii+completa&sca_esv=8536d3cccb765549&sca_upv=1&hl=es&udm=2&biw=1099&bih=799&sxsrf=ADLYWIKEgzLeoxID2rSA-J71e12_MJVWGg%3A1727464884556&ei=tAX3ZsDPIdqLkdUPmuGp4AI&ved=0ahUKEwjA-biW7OOIAxXaRaQEHZpwCiwQ4dUDCBA&uact=5&oq=tabla+ascii+completa&gs_lp=Egxnd3Mtd2l6LXNlcnAiFHRhYmxhIGFzY2lpIGNvbXBsZXRhMgUQABiABDIFEAAYgAQyBhAAGAUYHjIGEAAYCBgeMgYQABgIGB4yBhAAGAgYHjIGEAAYCBgeMgYQABgIGB4yBhAAGAgYHjIHEAAYgAQYGEjxalDHLViCZXACeACQAQCYAWKgAYQNqgECMjC4AQPIAQD4AQGYAhagArMOwgINEAAYgAQYsQMYQxiKBcICChAAGIAEGEMYigXCAggQABiABBixA8ICEBAAGIAEGLEDGEMYgwEYigXCAgsQABiABBixAxiDAZgDAIgGAZIHBDIwLjKgB8l0&sclient=gws-wiz-serp)."
   ]
  },
  {
   "cell_type": "code",
   "execution_count": null,
   "metadata": {
    "id": "WKktNcI74mI1"
   },
   "outputs": [],
   "source": [
    "'Me gusta '+'Python'    # 'Me gusta Python'\n",
    "'Python'*3              # 'PythonPythonPython'\n",
    "'y' in 'Python'         # True\n",
    "'Tho' not in 'Python'   # True\n",
    "'Python' == 'python'    # False\n",
    "'Python' < 'python'     # True\n",
    "'a' > 'Z'               # True\n",
    "'A' >= 'Z'              # False\n",
    "'' < 'Python'           # True"
   ]
  },
  {
   "cell_type": "markdown",
   "metadata": {
    "id": "DpXABASD9baE"
   },
   "source": [
    "<h3 style=\"color:MediumBlue\">Funciones con cadenas</h3>\n",
    "\n",
    "<font style=\"color:Brown;font-weight:bold;letter-spacing:1px;\">len(c)</font> : Devuelve el número de caracteres de la cadena c.\n",
    "\n",
    "<font style=\"color:Brown;font-weight:bold;letter-spacing:1px;\">min(c)</font> : Devuelve el carácter menor de la cadena c.\n",
    "\n",
    "<font style=\"color:Brown;font-weight:bold;letter-spacing:1px;\">max(c)</font> : Devuelve el carácter mayor de la cadena c.\n",
    "\n",
    "<font style=\"color:Brown;font-weight:bold;letter-spacing:1px;\">c.upper()</font> : Devuelve la cadena con los mismos caracteres que la cadena c pero en mayúsculas.\n",
    "\n",
    "<font style=\"color:Brown;font-weight:bold;letter-spacing:1px;\">c.lower()</font> : Devuelve la cadena con los mismos caracteres que la cadena c pero en minúsculas.\n",
    "\n",
    "<font style=\"color:Brown;font-weight:bold;letter-spacing:1px;\">c.title()</font> : Devuelve la cadena con los mismos caracteres que la cadena c con el primer carácter en mayúsculas y el resto en minúsculas.\n",
    "\n",
    "<font style=\"color:Brown;font-weight:bold;letter-spacing:1px;\">c.find(subcadena)</font> : Devuelve la posición (primer carácter) de la subcadena en la cadena c. Si no la encuentra devuelve -1.\n",
    "\n",
    "<font style=\"color:Brown;font-weight:bold;letter-spacing:1px;\">c.replace(c1,c2)</font> : Devuelve la cadena reemplazando las subcadenas c1 por c2.\n",
    "\n",
    "<font style=\"color:Brown;font-weight:bold;letter-spacing:1px;\">c.split(delimitador)</font> : Devuelve la lista formada por las subcadenas que resultan de partir la cadena c usando como delimitador la cadena delimitador. Si no se especifica el delimitador utiliza por defecto el espacio en blanco."
   ]
  },
  {
   "cell_type": "code",
   "execution_count": null,
   "metadata": {
    "id": "Xzb_Kbj09cLx"
   },
   "outputs": [],
   "source": [
    "len('Python')             # 6\n",
    "min('Python')             # 'P'\n",
    "max('Python')             # 'y'\n",
    "'Python'.upper()          # 'PYTHON'\n",
    "'A,B,C'.split(',')        # ['A', 'B', 'C']\n",
    "'I love Python'.split()   # ['I', 'love', 'Python']"
   ]
  },
  {
   "cell_type": "markdown",
   "metadata": {
    "id": "wyUjRj-c95F-"
   },
   "source": [
    "<h3 style=\"color:MediumBlue\">Cadenas formateadas</h3>\n",
    "\n",
    "<font style=\"color:Brown;font-weight:bold;letter-spacing:1px;\">f'cadena'</font> : La cadena formateada es un tipo de cadena que permite insertar en ellas datos números o cadenas de caracteres.  \n",
    "Se utilizan las llaves **{ }** (marcadores de posición) para señalar el lugar de inserción.  \n",
    "Sintaxis de los marcadores de posición:  \n",
    "**{d}** : Inserta el dato completo sin espacio adicional.  \n",
    "**{d:n}** : Reserva n caracteres e inserta el dato alineado izquierda (cadenas) y derecha (números).  \n",
    "**{d:&lt;n}** : Reserva n caracteres e inserta el dato (entero/real/cadena) alineado izquierda.  \n",
    "**{d:^n}** : Reserva n caracteres e inserta el dato (entero/real/cadena) alineado centro.  \n",
    "**{d:&gt;n}** : Reserva n caracteres e inserta el dato (entero/real/cadena) alineado derecha.  \n",
    "**{d:n.mf}** : Reserva n caracteres e  inserta el número real con m cifras decimales alineado derecha.  \n",
    "**{d:&lt;n.mf}** : Reserva n caracteres e  inserta el número real con m cifras decimales alineado izquierda.  \n",
    "**{d:^n.mf}** : Reserva n caracteres e  inserta el número real con m cifras decimales alineado centro.  \n",
    "**{d:&gt;n.mf}** : Reserva n caracteres e  inserta el número real con m cifras decimales alineado derecha.  \n",
    "- **d** dato a insertar  \n",
    "- **n** espacio reservado para representar el dato en formato cadena  \n",
    "- **Alineación** del dato dentro del espacio reservado (**&lt;** izquierda, **^** centro y **&gt;** derecha)\n",
    "- **m** número de decimales para datos de tipo float."
   ]
  },
  {
   "cell_type": "code",
   "execution_count": null,
   "metadata": {
    "id": "O67FJc-K95z8"
   },
   "outputs": [],
   "source": [
    "f'Texto {45} Texto'             # 'Texto 45 Texto'\n",
    "f'Texto {45:6} Texto'           # 'Texto     45 Texto'\n",
    "f'Texto {45:>6} Texto'          # 'Texto     45 Texto'\n",
    "f'Texto {45:^6} Texto'          # 'Texto   45   Texto'\n",
    "f'Texto {45:<6} Texto'          # 'Texto 45     Texto'\n",
    "f'Texto {3.1416:6.2f}'          # 'Texto   3.14'\n",
    "f'Texto {3.1416:<6.2f} Texto'   # 'Texto 3.14   Texto'\n",
    "f'Texto {\"Hola\":^6} Texto'      # 'Texto  Hola  Texto'\n",
    "f\"Texto {'Hola':^6} Texto\"      # 'Texto  Hola  Texto'\n",
    "f'Texto {'Hola':^6} Texto'      # ERROR"
   ]
  },
  {
   "cell_type": "markdown",
   "metadata": {
    "id": "myyuQ0g0zIrf"
   },
   "source": [
    "<h2 style=\"color:DarkBlue;text-align:center;\">DATOS LÓGICOS o BOOLEANOS (clase bool)</h2>"
   ]
  },
  {
   "cell_type": "markdown",
   "metadata": {
    "id": "myyuQ0g0zIrf"
   },
   "source": [
    "Contiene únicamente dos elementos **True** y **False** que representan los valores lógicos **verdadero** y **falso** respectivamente.  \n",
    "**False** tiene asociado el valor **0** y **True** tiene asociado el valor **1**.\n",
    "\n",
    "<h3 style=\"color:MediumBlue\">Operaciones con valores lógicos</h3>\n",
    "\n",
    "    == (igual que)       >  (mayor)           <  (menor)\n",
    "    >= (mayor o igual)   <= (menor o igual)   != (distinto de)\n",
    "\n",
    "<font style=\"color:Brown;font-weight:bold;letter-spacing:1px;\">not b</font> (negación) : Devuelve True si el dato booleano b es False y False en caso contrario.\n",
    "\n",
    "<font style=\"color:Brown;font-weight:bold;letter-spacing:1px;\">b1 and b2</font> : Devuelve True si los datos booleanos b1 y b2 son True y False en caso contrario.\n",
    "\n",
    "<font style=\"color:Brown;font-weight:bold;letter-spacing:1px;\">b1 or b2</font> : Devuelve True si alguno de los datos booleanos b1 o b2 son True, y False en caso contrario.\n",
    "\n",
    "Tabla de verdad :\n",
    "|   x | y | not x | x and y | x or y |\n",
    "|-----|---|-------|---------|--------|\n",
    "|False|False|True |False|False|\n",
    "|False|True |True |False|True |\n",
    "|True|False|False|False|True|\n",
    "|True|True|False|True|True|"
   ]
  },
  {
   "cell_type": "code",
   "execution_count": null,
   "metadata": {
    "id": "9U6KMSwAzMWF"
   },
   "outputs": [],
   "source": [
    "not True          # False\n",
    "False or True     # True\n",
    "True and False    # False\n",
    "True and True     # True\n",
    "True > False      # True\n",
    "True != False     # True"
   ]
  },
  {
   "cell_type": "markdown",
   "metadata": {
    "id": "E6Jvn1PjzPpW"
   },
   "source": [
    "<h2 style=\"color:DarkBlue;text-align:center;\">Conversión de datos primitivos simples</h2>\n",
    "\n",
    "Las siguientes funciones convierten un dato de un tipo en otro, siempre y cuando la conversión sea posible:\n",
    "\n",
    "<font style=\"color:Brown;font-weight:bold;letter-spacing:1px;\">int()</font> : convierte a entero.  \n",
    "<font style=\"color:Brown;font-weight:bold;letter-spacing:1px;\">float()</font> : convierte a real.  \n",
    "<font style=\"color:Brown;font-weight:bold;letter-spacing:1px;\">str()</font> : convierte a cadena.  \n",
    "<font style=\"color:Brown;font-weight:bold;letter-spacing:1px;\">bool()</font> : convierte a lógico.\n",
    "\n"
   ]
  },
  {
   "cell_type": "code",
   "execution_count": null,
   "metadata": {
    "id": "hkPuZTmKdD-U"
   },
   "outputs": [],
   "source": [
    "int(2.3)      # 2\n",
    "int('12')     # 12\n",
    "int(True)     # 1\n",
    "float(3)      # 3.0\n",
    "float('3.4')  # 3.4\n",
    "float(True)   # 1.0\n",
    "str(3)        # '3'\n",
    "str(3.14)     # '3.14'\n",
    "str(True)     # 'True'\n",
    "bool(0)       # False\n",
    "bool('')      # False\n",
    "bool('Hola')  # True"
   ]
  },
  {
   "cell_type": "markdown",
   "metadata": {
    "id": "9TVdyaajmx69"
   },
   "source": [
    "<h1 style=\"color:Brown;text-align:center;\">TIPOS DE DATOS COMPUESTOS</h1>"
   ]
  },
  {
   "cell_type": "markdown",
   "metadata": {
    "id": "QFjL7rL0quPV"
   },
   "source": [
    "Un **Contenedor** es un objeto que puede almacenar elementos y permite verificar si contiene ciertos valores (operador **in**).\n",
    "\n",
    "Un **Generador** es un objeto capaz de generar bajo demanda una secuencia iterable de elementos sin necesidad de almacenarla.\n",
    "\n",
    "Un **iterable** es cualquier objeto que puede ser recorrido o iterado elemento por elemento.\n",
    "\n",
    "Los contenedores y generadores iterables más comunes son:  \n",
    "\n",
    "**CONTENEDORES :**\n",
    "\n",
    "- **Cadenas de texto** (str): Secuencia **ordenada** e **inmutable** de caracteres alfanuméricos  \n",
    "- **Listas** (list): Colecciones **ordenadas** y **mutables** de elementos.  \n",
    "- **Tuplas** (tuple): Colecciones **ordenadas** e **inmutables** de elementos.  \n",
    "- **Conjuntos** (set): Colecciones **no ordenadas** de elementos **únicos**.  \n",
    "- **Diccionarios** (dict): Colecciones de pares **clave-valor**.  \n",
    "\n",
    "**GENERADORES :**\n",
    "\n",
    "- **Rangos** (range): Generador de secuencia **ordenada** e **inmutable** de números enteros en **sucesión aritmética**.\n",
    "\n",
    "Veremos más adelante cómo acceder mediante el bucle **for** a todos los elementos de un objeto iterable."
   ]
  },
  {
   "cell_type": "markdown",
   "metadata": {
    "id": "Torp6Q6589QS"
   },
   "source": [
    "<h2 style=\"color:DarkBlue;text-align:center;\">LISTAS (clase list)</h2>"
   ]
  },
  {
   "cell_type": "markdown",
   "metadata": {
    "id": "Torp6Q6589QS"
   },
   "source": [
    "Una lista es una secuencias ordenadas de objetos de distintos tipos.\n",
    "\n",
    "Se construyen poniendo los elementos entre corchetes **[ ]** separados por comas:\n",
    "\n",
    "<p style=\"color:Brown;font-weight:bold;letter-spacing:1px;text-align:center;\">[objeto1,objeto2, … ,objetoN]</p>\n",
    "\n",
    "Se caracterizan por:\n",
    "\n",
    "- Tienen **orden**.\n",
    "- Pueden contener elementos de **distintos tipos**.\n",
    "- Son **mutables**, pueden alterarse durante la ejecución de un programa.\n",
    "\n",
    "<font style=\"color:Brown;font-weight:bold;letter-spacing:1px;\">list(c)</font> : Crea una lista con los elementos de la secuencia o colección **c**. Se pueden indicar los elementos separados por comas, mediante una cadena, o mediante una colección de elementos iterable."
   ]
  },
  {
   "cell_type": "code",
   "execution_count": null,
   "metadata": {
    "id": "Jh0NmBX18_ov"
   },
   "outputs": [],
   "source": [
    "type([])          # list\n",
    "[1, \"dos\", True]\n",
    "[1, [2, 3], 4]\n",
    "list()            # []\n",
    "list((1, 2, 3))   # [1, 2, 3]\n",
    "list(\"Python\")    # ['P', 'y', 't', 'h', 'o', 'n']"
   ]
  },
  {
   "cell_type": "markdown",
   "metadata": {
    "id": "KJu7q9xD9APY"
   },
   "source": [
    "<h3 style=\"color:MediumBlue\">Acceso a los elementos de una lista</h3>\n",
    "\n",
    "Se utilizan los mismos operadores de acceso que para cadenas de caracteres.\n",
    "\n",
    "<font style=\"color:Brown;font-weight:bold;letter-spacing:1px;\">lista[i]</font> : Devuelve el elemento de lista con el índice i. El índice del primer elemento de lista es 0.\n",
    "\n",
    "<font style=\"color:Brown;font-weight:bold;letter-spacing:1px;\">lista[i:j]</font> : Devuelve la sublista desde el elemento con el índice i hasta el elemento con índice j-1.\n",
    "\n",
    "<font style=\"color:Brown;font-weight:bold;letter-spacing:1px;\">lista[i:j:k]</font> : Devuelve la sublista desde el elemento  i hasta el elemento j-1, tomando elementos cada k."
   ]
  },
  {
   "cell_type": "code",
   "execution_count": null,
   "metadata": {
    "id": "D3egn3kC9EPq"
   },
   "outputs": [],
   "source": [
    "lista = [0,1,2,3,4,5,6,7]\n",
    "lista[2]                  # 2\n",
    "lista[0:5]                # [0, 1, 2, 3, 4]\n",
    "lista[::2]                # [0, 2, 4, 6]\n",
    "lista[-1:4:-1]            # [7, 6, 5]"
   ]
  },
  {
   "cell_type": "markdown",
   "metadata": {
    "id": "3kOBcPL89HbT"
   },
   "source": [
    "<h3 style=\"color:MediumBlue\">Operaciones que no modifican la lista</h3>\n",
    "\n",
    "<font style=\"color:Brown;font-weight:bold;letter-spacing:1px;\">lista.index(dato)</font> : Devuelve la posición que ocupa en lista el primer elemento con valor dato.\n",
    "\n",
    "<font style=\"color:Brown;font-weight:bold;letter-spacing:1px;\">lista.count(dato)</font> : Devuelve el número de veces que el valor dato está contenido en lista.\n",
    "\n",
    "<font style=\"color:Brown;font-weight:bold;letter-spacing:1px;\">lista1 + lista2</font> : Crea una nueva lista concatenando los elementos de lista1 y lista2.\n",
    "\n"
   ]
  },
  {
   "cell_type": "code",
   "execution_count": null,
   "metadata": {
    "id": "Wvd-1yDT9ITq"
   },
   "outputs": [],
   "source": [
    "a = [1, 2, 2, 3]\n",
    "a.index(2)            # 1\n",
    "a.count(2)            # 2\n",
    "[1,2,3]+[6,7,8]       # [1, 2, 3, 6, 7, 8]"
   ]
  },
  {
   "cell_type": "markdown",
   "metadata": {
    "id": "RiuVjulF9Mbj"
   },
   "source": [
    "<h3 style=\"color:MediumBlue\">Operaciones que modifican la lista</h3>\n",
    "\n",
    "<font style=\"color:Brown;font-weight:bold;letter-spacing:1px;\">lista.append(dato)</font> : Añade dato al final de lista.\n",
    "\n",
    "<font style=\"color:Brown;font-weight:bold;letter-spacing:1px;\">lista.insert(índice, dato)</font> : Inserta dato en la posición índice de lista y desplaza los elementos una posición a partir de la posición índice.\n",
    "\n",
    "<font style=\"color:Brown;font-weight:bold;letter-spacing:1px;\">lista.remove(dato)</font> : Elimina el primer elemento con valor dato de lista y desplaza los que están por detrás de él una posición hacia delante.\n",
    "\n",
    "<font style=\"color:Brown;font-weight:bold;letter-spacing:1px;\">lista.pop(índice)</font> : Devuelve el dato en la posición índice y lo elimina de lista, desplazando los elementos por detrás de él una posición hacia delante.\n",
    "\n",
    "<font style=\"color:Brown;font-weight:bold;letter-spacing:1px;\">lista.sort()</font> : Ordena los elementos de lista de acuerdo al orden predefinido, siempre que los elementos sean comparables.\n",
    "\n",
    "<font style=\"color:Brown;font-weight:bold;letter-spacing:1px;\">lista.reverse()</font> : invierte el orden de los elementos de lista."
   ]
  },
  {
   "cell_type": "code",
   "execution_count": null,
   "metadata": {
    "id": "AjaFK5Tf9NOe"
   },
   "outputs": [],
   "source": [
    "a = [1, 3]\n",
    "b = [2, 4, 6]\n",
    "a.append(5)       # a = [1, 3, 5]\n",
    "a.extend([8, 9])  # a = [1, 3, 5, 8, 9]\n",
    "a.insert(2,9)     # a = [1, 3, 9, 5, 8, 9]\n",
    "a.remove(3)       # a = [1, 9, 5, 8, 9]\n",
    "x = a.pop(3)      # a = [1, 9, 5, 9]   x = 8\n",
    "a.sort()          # a = [1, 5, 9, 9]\n",
    "a.reverse()       # a = [9, 9, 5, 1]"
   ]
  },
  {
   "cell_type": "markdown",
   "metadata": {
    "id": "PYsej_mw9k3m"
   },
   "source": [
    "<h2 style=\"color:DarkBlue;text-align:center;\">TUPLAS (clase tuple)</h2>"
   ]
  },
  {
   "cell_type": "markdown",
   "metadata": {
    "id": "PYsej_mw9k3m"
   },
   "source": [
    "Una tupla es una secuencias ordenadas de objetos de distintos tipos.\n",
    "\n",
    "Se construyen poniendo los elementos entre paréntesis **( )** separados por comas.\n",
    "\n",
    "<p style=\"color:Brown;font-weight:bold;letter-spacing:1px;text-align:center;\">(objeto1,objeto2, … ,objetoN)</p>\n",
    "\n",
    "Se caracterizan por:\n",
    "\n",
    "- Tienen **orden**.\n",
    "- Pueden contener elementos de **distintos tipos**.\n",
    "- Son **inmutables**, no pueden alterarse durante la ejecución de un programa.\n",
    "\n",
    "<font style=\"color:Brown;font-weight:bold;letter-spacing:1px;\">tuple(c)</font> : Crea una tupla con los elementos de la secuencia o colección c."
   ]
  },
  {
   "cell_type": "code",
   "execution_count": null,
   "metadata": {
    "id": "jOnWnhp69mqR"
   },
   "outputs": [],
   "source": [
    "tuple()                 # ()\n",
    "tuple((1, 2, 'hola'))   # (1, 2, 'hola')\n",
    "tuple(\"Python\")         # ('P', 'y', 't', 'h', 'o', 'n')\n",
    "tuple([1, 2, 3])        # (1, 2, 3)"
   ]
  },
  {
   "cell_type": "markdown",
   "metadata": {
    "id": "2EpoTc0W9uv0"
   },
   "source": [
    "<h3 style=\"color:MediumBlue\">Operaciones con tuplas</h3>\n",
    "\n",
    "El **acceso a los elementos de una tupla** se realiza del mismo modo que en las **listas**. También se pueden obtener subtuplas de la misma manera que las sublistas.\n",
    "\n",
    "Las **operaciones de listas que no modifican la lista** también son aplicables a las tuplas."
   ]
  },
  {
   "cell_type": "code",
   "execution_count": null,
   "metadata": {
    "id": "CZs5ygo9Pd2x"
   },
   "outputs": [],
   "source": [
    "t=(1,2,3,4,5,6)\n",
    "t[2]              # 3\n",
    "t[0:5]            # (1, 2, 3, 4, 5)\n",
    "t[::2]            # (1, 3, 5)\n",
    "t[4:1:-1]         # (5, 4, 3)\n",
    "t.index(2)        # 1\n",
    "t.count(2)        # 1\n",
    "(1,2,3)+(6,7,8)   # (1, 2, 3, 6, 7, 8)"
   ]
  },
  {
   "cell_type": "markdown",
   "metadata": {
    "id": "Pk1c7f7I9yAF"
   },
   "source": [
    "<h2 style=\"color:DarkBlue;text-align:center;\">CONJUNTOS (clase set)</h2>"
   ]
  },
  {
   "cell_type": "markdown",
   "metadata": {
    "id": "Pk1c7f7I9yAF"
   },
   "source": [
    "Un conjunto es una colección no ordenada de objetos **únicos**.\n",
    "\n",
    "Se construyen poniendo los elementos entre llaves { } separados por comas:\n",
    "\n",
    "<p style=\"color:Brown;font-weight:bold;letter-spacing:1px;text-align:center;\">{objeto1,objeto2, … ,objetoN}</p>\n",
    "\n",
    "Se caracterizan por:\n",
    "\n",
    "- **No tienen orden**. Los elementos no tienen una posición fija, no se puede acceder a los elementos con índices (como ocurre con las listas o las tuplas).\n",
    "- **No se pueden repetir**.\n",
    "- Pueden contener elementos de **distintos tipos**.\n",
    "- Son **mutables**, pueden alterarse durante la ejecución de un programa.\n",
    "\n",
    "<font style=\"color:Brown;font-weight:bold;letter-spacing:1px;\">set(c)</font> : Crea un conjunto con los elementos de la secuencia o colección c."
   ]
  },
  {
   "cell_type": "code",
   "execution_count": null,
   "metadata": {
    "id": "uuiBfSjv9y2U",
    "tags": []
   },
   "outputs": [],
   "source": [
    "x = set([0,1,2,4,4,6,'hola','hola',True,False])   # x = {0, 1, 2, 4, 6, 'hola'}\n",
    "y = {0,1,2,4,4,6,'hola','hola',True,False}        # y = {0, 1, 2, 4, 6, 'hola'}"
   ]
  },
  {
   "cell_type": "markdown",
   "metadata": {
    "id": "xy7_0_o690jR"
   },
   "source": [
    "<h3 style=\"color:MediumBlue\">Operaciones que no modifican el conjunto</h3>\n",
    "\n",
    "<font style=\"color:Brown;font-weight:bold;letter-spacing:1px;\">conjunto1 | conjunto2</font> : Unión conjunto1 y conjunto2 (elimina duplicados). Elementos que están en conjunto1 o conjunto2.\n",
    "\n",
    "<font style=\"color:Brown;font-weight:bold;letter-spacing:1px;\">conjunto1 & conjunto2</font> : Intersección de conjunto1 y conjunto2. Elementos que están en conjunto1 y conjunto2.\n",
    "\n",
    "<font style=\"color:Brown;font-weight:bold;letter-spacing:1px;\">conjunto1 - conjunto2</font> : Diferencia de conjunto1 y conjunto2. Elementos de conjunto1 que no están en conjunto2.\n",
    "\n",
    "<font style=\"color:Brown;font-weight:bold;letter-spacing:1px;\">conjunto1 == conjunto2</font> : True si conjunto1 y conjunto2 tienen los mismos elementos.\n",
    "\n",
    "<font style=\"color:Brown;font-weight:bold;letter-spacing:1px;\">conjunto1.issubset(conjunto2)</font> : True si conjunto1 es un subconjunto de conjunto2. Todos los elementos de conjunto1 están en conjunto2.\n",
    "\n",
    "<font style=\"color:Brown;font-weight:bold;letter-spacing:1px;\">conjunto1.symmetric_difference(conjunto2)</font> : Diferencia simétrica de conjunto1 – conjunto2. Elementos de conjunto1 y conjunto2 que solo están en uno de los dos conjuntos y no en la intersección.\n",
    "\n",
    "<font style=\"color:Brown;font-weight:bold;letter-spacing:1px;\">conjunto1.isdisjoint(conjunto2)</font> : True si conjunto1 y conjunto2 son disconexos. No comparten ningún elemento."
   ]
  },
  {
   "cell_type": "code",
   "execution_count": null,
   "metadata": {
    "id": "hLz_xJ1XzT81"
   },
   "outputs": [],
   "source": [
    "s1 = {1,2,3,4,5}\n",
    "s2 = {4,5,6,7,8}\n",
    "s1|s2                         # {1, 2, 3, 4, 5, 6, 7, 8}\n",
    "s1&s2                         # {4, 5}\n",
    "s1-s2                         # {1, 2, 3}\n",
    "s1==s2                        # False\n",
    "{1,3}.issubset(s1)            # True\n",
    "s1.symmetric_difference(s2)   # {1, 2, 3, 6, 7, 8}\n",
    "s1.isdisjoint(s2)             # False"
   ]
  },
  {
   "cell_type": "markdown",
   "metadata": {
    "id": "W4eofI5Fyz1T"
   },
   "source": [
    "<h3 style=\"color:MediumBlue\">Operaciones que modifican el conjunto</h3>\n",
    "\n",
    "<font style=\"color:Brown;font-weight:bold;letter-spacing:1px;\">conjunto.add(elemento)</font> : Añade elemento a conjunto.\n",
    "\n",
    "<font style=\"color:Brown;font-weight:bold;letter-spacing:1px;\">conjunto.discard(elemento)</font> : Elimina elemento de conjunto. Si no existe no elimina nada.\n",
    "\n",
    "<font style=\"color:Brown;font-weight:bold;letter-spacing:1px;\">conjunto.pop()</font> : Extrae y devuelve aleatoriamente un elemento de conjunto.\n",
    "\n",
    "<font style=\"color:Brown;font-weight:bold;letter-spacing:1px;\">conjunto.clear()</font> : Elimina todos los elementos de conjunto."
   ]
  },
  {
   "cell_type": "code",
   "execution_count": null,
   "metadata": {
    "id": "OaDHX-tM950I"
   },
   "outputs": [],
   "source": [
    "s = {1,2,3}\n",
    "s.add(4)                      # s = {1, 2, 3, 4}\n",
    "s.discard(2)                  # s = {1, 3, 4}\n",
    "x = s.pop()                   # s = {3, 4}  x = 1\n",
    "s.clear()                     # s = {}"
   ]
  },
  {
   "cell_type": "markdown",
   "metadata": {
    "id": "Ozbt-m4V9-l3"
   },
   "source": [
    "<h2 style=\"color:DarkBlue;text-align:center;\">DICCIONARIOS (clase dict)</h2>"
   ]
  },
  {
   "cell_type": "markdown",
   "metadata": {
    "id": "Ozbt-m4V9-l3"
   },
   "source": [
    "Un diccionario es una colección de pares formados por una **clave** y un **valor** asociado a la clave.\n",
    "\n",
    "Se construyen poniendo los pares entre llaves **{ }** separados por comas, y separando la clave del valor con dos puntos :\n",
    "\n",
    "<p style=\"color:Brown;font-weight:bold;letter-spacing:1px;text-align:center;\">{clave1:objeto1,clave2:objeto2, … ,claveN:objetoN}</p>\n",
    "\n",
    "Se caracterizan por:\n",
    "\n",
    "- **No tienen orden**.\n",
    "- Pueden contener elementos de **distintos tipos**.\n",
    "- **Son mutables**, pueden alterarse durante la ejecución de un programa.\n",
    "- Las **claves son únicas**, no pueden repetirse en un mismo diccionario, y pueden ser de cualquier tipo de **datos inmutable**.\n",
    "\n",
    "<font style=\"color:Brown;font-weight:bold;letter-spacing:1px;\">dict(c:v)</font> : crea un diccionario a partir de pares *clave:valor* ."
   ]
  },
  {
   "cell_type": "code",
   "execution_count": null,
   "metadata": {
    "id": "njlOvP93-BKM"
   },
   "outputs": [],
   "source": [
    "# Diccionario con elementos de distintos tipos\n",
    "dic1 = {'nombre':'Alfredo', 'despacho': 218, 'email':'asalber@ceu.es'}\n",
    "# Diccionarios anidados\n",
    "dic2 = {'nombre_completo':{'nombre': 'Alfredo', 'Apellidos': 'Sánchez Alberca' }, 'edad':34}"
   ]
  },
  {
   "cell_type": "markdown",
   "metadata": {
    "id": "lYraAgSq-DAy"
   },
   "source": [
    "<h3 style=\"color:MediumBlue\">Acceso a los elementos de un diccionario</h3>\n",
    "\n",
    "<font style=\"color:Brown;font-weight:bold;letter-spacing:1px;\">diccionario[clave]</font> : devuelve el valor de diccionario asociado a la clave clave. Si en el diccionario no existe esa clave devuelve un error.\n",
    "\n",
    "<font style=\"color:Brown;font-weight:bold;letter-spacing:1px;\">diccionario.get(clave, valor)</font> : devuelve el valor de diccionario asociado a la clave clave. Si la **clave no existe** en diccionadio devuelve valor, y si no se especifica un valor por defecto devuelve None."
   ]
  },
  {
   "cell_type": "code",
   "execution_count": null,
   "metadata": {
    "id": "_L7KrGvU-F_B"
   },
   "outputs": [],
   "source": [
    "dic = {'nombre':'Alfredo', 'despacho': 218, 'email':'asalber@ceu.es'}\n",
    "x = dic['nombre']                 # x = 'Alfredo'\n",
    "x = dic['despacho']               # x = 218\n",
    "x = dic.get('email')              # x = 'asalber@ceu.es'\n",
    "x = dic.get('universidad','UMH')  # x = 'UMH'\n",
    "# Diccionarios anidados\n",
    "dic2 = {'nombre_completo':{'nombre': 'Alfredo', 'Apellidos': 'Sánchez Alberca' }, 'edad':34}\n",
    "x = dic2['nombre_completo']['nombre']   # x = 'Alfredo'"
   ]
  },
  {
   "cell_type": "markdown",
   "metadata": {
    "id": "TAljqMkS-Gzu"
   },
   "source": [
    "<h3 style=\"color:MediumBlue\">Operaciones que no modifican el diccionario</h3>\n",
    "\n",
    "<font style=\"color:Brown;font-weight:bold;letter-spacing:1px;\">diccionario.keys()</font> : Devuelve un iterador sobre las claves de diccionario.\n",
    "\n",
    "<font style=\"color:Brown;font-weight:bold;letter-spacing:1px;\">diccionario.values()</font> : Devuelve un iterador sobre los valores diccionario.\n",
    "\n",
    "<font style=\"color:Brown;font-weight:bold;letter-spacing:1px;\">diccionario.items()</font> : Devuelve un iterador sobre los pares clave-valor de diccionario."
   ]
  },
  {
   "cell_type": "code",
   "execution_count": null,
   "metadata": {
    "id": "qsCR3b7H-JOi"
   },
   "outputs": [],
   "source": [
    "a = {'nombre':'Alfredo', 'despacho': 218, 'email':'asalber@ceu.es'}\n",
    "a.keys()    # dict_keys(['nombre', 'despacho', 'email'])\n",
    "a.values()  # dict_values(['Alfredo', 218, 'asalber@ceu.es'])\n",
    "a.items()   # dict_items([('nombre', 'Alfredo'), ('despacho', 218), ('email', 'asalber@ceu.es')])"
   ]
  },
  {
   "cell_type": "markdown",
   "metadata": {
    "id": "2NJv0FJ2-MET"
   },
   "source": [
    "<h3 style=\"color:MediumBlue\">Operaciones que modifican un diccionario</h3>\n",
    "\n",
    "<font style=\"color:Brown;font-weight:bold;letter-spacing:1px;\">diccionario [clave] = valor</font> : Añade a diccionario el par formado por la clave **clave** y el valor **valor**.\n",
    "\n",
    "<font style=\"color:Brown;font-weight:bold;letter-spacing:1px;\">diccionario1.update(d2)</font> : Añade los pares del diccionario2 al diccionario1.\n",
    "\n",
    "<font style=\"color:Brown;font-weight:bold;letter-spacing:1px;\">diccionario.pop(clave, alternativo)</font> : Devuelve del **valor** asociado a la clave **clave** de diccionario y lo elimina de diccionario. Si la clave no está devuelve el valor alternativo.\n",
    "\n",
    "<font style=\"color:Brown;font-weight:bold;letter-spacing:1px;\">diccionario.popitem()</font> : Devuelve la **tupla** formada por la clave y el valor del último par añadido a diccionario y lo elimina de diccionario.\n",
    "\n",
    "<font style=\"color:Brown;font-weight:bold;letter-spacing:1px;\">del diccionario[clave]</font> : Elimina de diccionario el par con la clave **clave**.\n",
    "\n",
    "<font style=\"color:Brown;font-weight:bold;letter-spacing:1px;\">diccionario.clear()</font> : Elimina todos los pares de diccionario (diccionario vacío)."
   ]
  },
  {
   "cell_type": "code",
   "execution_count": null,
   "metadata": {
    "id": "MT1FJA8G-Qys"
   },
   "outputs": [],
   "source": [
    "a = {'nombre':'Alfredo','despacho': 218,'email':'asalber@ceu.es'}\n",
    "a['universidad'] = 'CEU'  # a = {'nombre':'Alfredo','despacho': 218,'email':'asalber@ceu.es','universidad': 'CEU'}\n",
    "x = a.pop('despacho')     # a = {'nombre': 'Alfredo', 'email': 'asalber@ceu.es', 'universidad': 'CEU'}   x = 218\n",
    "x = a.popitem()           # a = {'nombre': 'Alfredo', 'email': 'asalber@ceu.es'}   x = ('universidad', 'CEU')\n",
    "del a['email']            # a = {'nombre': 'Alfredo'}\n",
    "a.clear()                 # a = {}"
   ]
  },
  {
   "cell_type": "markdown",
   "metadata": {
    "id": "hBwxOuzC7k7u"
   },
   "source": [
    "<h2 style=\"color:DarkBlue;text-align:center;\">RANGOS (clase range)</h2>"
   ]
  },
  {
   "cell_type": "markdown",
   "metadata": {
    "id": "hBwxOuzC7k7u"
   },
   "source": [
    "Los datos de tipo rango representan una secuencia inmutable de números enteros en sucesión aritmética (la diferencia entre dos términos consecutivos es siempre la misma).  \n",
    "\n",
    "No se considera un contenedor porque no almacena la secuencia de números, la genera bajo demanda cuando se itera sobre él.\n",
    "\n",
    "<font style=\"color:Brown;font-weight:bold;letter-spacing:1px;\">range(n)</font> : secuencia creciente de **n** números enteros consecutivos que empieza en **0** y acaba en **n-1**.\n",
    "\n",
    "<font style=\"color:Brown;font-weight:bold;letter-spacing:1px;\">range(m,n)</font> : secuencia creciente de **n** números enteros consecutivos que empieza en **m** y acaba en **n-1**.\n",
    "\n",
    "<font style=\"color:Brown;font-weight:bold;letter-spacing:1px;\">range(m,n,p)</font> : secuencia creciente de **n** números enteros consecutivos que empieza en **m** y acaba en **n-1**, aumentando los valores **de p en p**. Si **p negativo**, la secuencia será decreciente."
   ]
  },
  {
   "cell_type": "code",
   "execution_count": null,
   "metadata": {
    "id": "H9LeFmKL8iI3"
   },
   "outputs": [],
   "source": [
    "list(range(4))      # [0, 1, 2, 3]\n",
    "list(range(4,8))    # [4, 5, 6, 7]\n",
    "list(range(4,10,2)) # [4, 6, 8]\n",
    "list(range(-3))     # []\n",
    "list(range(8,4))    # []\n",
    "list(range(8,4,-1)) # [8, 7, 6, 5]"
   ]
  },
  {
   "cell_type": "markdown",
   "metadata": {
    "id": "9PAuXn5ioBIm"
   },
   "source": [
    "<h2 style=\"color:DarkBlue;text-align:center;\">OPERACIONES COMUNES CON ITERABLES</h2>"
   ]
  },
  {
   "cell_type": "markdown",
   "metadata": {
    "id": "UF-sBVSXpjI9"
   },
   "source": [
    "<font style=\"color:Brown;font-weight:bold;letter-spacing:1px;\">print( *iterable )</font>  : Imprime los elementos de un iterable\n",
    "\n",
    "<font style=\"color:Brown;font-weight:bold;letter-spacing:1px;\">separador.join(iterable)</font> : Devuelve la cadena resultante de concatenar todos los objetos del iterable y colocando el separador entre cada par de elementos. El **separador** debe ser de tipo **string** y el **iterable** solo puede contener objetos de tipo **string**.\n",
    "\n",
    "<font style=\"color:Brown;font-weight:bold;letter-spacing:1px;\">len(iterable)</font> : Devuelve el número de elementos del iterable.\n",
    "\n",
    "<font style=\"color:Brown;font-weight:bold;letter-spacing:1px;\">min(iterable)</font> : Devuelve el mínimo elemento de un iterable (siempre que los datos sean comparables). En los diccionarios hace referencia a las claves.\n",
    "\n",
    "<font style=\"color:Brown;font-weight:bold;letter-spacing:1px;\">max(iterable)</font> : Devuelve el máximo elemento de un iterable (siempre que los datos sean comparables). En los diccionarios hace referencia a las claves.\n",
    "\n",
    "<font style=\"color:Brown;font-weight:bold;letter-spacing:1px;\">sum(iterable)</font> : Devuelve la suma de los elementos de un iterable (siempre que los datos se puedan sumar). En los diccionarios hace referencia a las claves.\n",
    "\n",
    "<font style=\"color:Brown;font-weight:bold;letter-spacing:1px;\">sorted(iterable)</font> : Devuelve una lista ordenada de un iterable\n",
    "\n",
    "<font style=\"color:Brown;font-weight:bold;letter-spacing:1px;\">dato in iterable</font> : Devuelve True si el dato pertenece al iterable y False en caso contrario. En los diccionarios hace referencia a las claves.\n",
    "\n",
    "<font style=\"color:Brown;font-weight:bold;letter-spacing:1px;\">any()</font> : Devuelve True si algún elemento es verdadero  \n",
    "\n",
    "<font style=\"color:Brown;font-weight:bold;letter-spacing:1px;\">all()</font> : Devuelve True si todos los elementos son verdaderos\n",
    "python\n"
   ]
  },
  {
   "cell_type": "code",
   "execution_count": null,
   "metadata": {
    "id": "lPzoSgSjkSnG"
   },
   "outputs": [],
   "source": [
    "numeros = [5, 0, 3, 1, 4]\n",
    "print(numeros)                    # [5, 0, 3, 1, 4]\n",
    "print(*numeros)                   # 5 0 3 1 4\n",
    "s = '-'.join(['11','AA','BB'])    # s = '11-AA-BB'\n",
    "s = '-'.join(map(str,numeros))    # s = '5-0-3-1-4'\n",
    "n = len(numeros)                  # n = 5\n",
    "minimo = min(numeros)             # minimo = 1\n",
    "maximo = max(numeros)             # maximo = 5\n",
    "suma = sum(numeros)               # suma = 13\n",
    "ordenados = sorted(numeros)       # ordenados = [0, 1, 3, 4, 5]\n",
    "b = 3 in numeros                  # b = True\n",
    "x = any(numeros)                  # x = True  (valor distinto de cero considerado True)\n",
    "y = all(numeros)                  # y = False (0 es considerado False)"
   ]
  },
  {
   "cell_type": "markdown",
   "metadata": {
    "id": "shkEEAXGigqe"
   },
   "source": [
    "<font style=\"color:Brown;font-weight:bold;letter-spacing:1px;\">zip(iterable1,iterable2,...)</font> : Combina varios iterables emparejando sus elementos en tuplas."
   ]
  },
  {
   "cell_type": "code",
   "execution_count": null,
   "metadata": {
    "id": "UltqmjJTjKtw"
   },
   "outputs": [],
   "source": [
    "nombres = [\"Ana\", \"Luis\", \"Pedro\"]\n",
    "edades = [20, 25, 30]\n",
    "combinados = zip(nombres, edades)\n",
    "print(list(combinados))         # [('Ana', 20), ('Luis', 25), ('Pedro', 30)]"
   ]
  },
  {
   "cell_type": "markdown",
   "metadata": {
    "id": "QHMUQKGSjYxE"
   },
   "source": [
    "<font style=\"color:Brown;font-weight:bold;letter-spacing:1px;\">enumerate(iterable)</font> : Devuelve pares de índice y valor para cada elemento. Devuelve un iterador que genera pares formados por un índice y el elemento correspondiente del iterable."
   ]
  },
  {
   "cell_type": "code",
   "execution_count": null,
   "metadata": {
    "id": "urvlpBBajTxk"
   },
   "outputs": [],
   "source": [
    "frutas = [\"manzana\", \"naranja\", \"pera\"]\n",
    "print(list(enumerate(frutas)))  # [(0, 'manzana'), (1, 'naranja'), (2, 'pera')]\n",
    "print(dict(enumerate(frutas)))  # {0: 'manzana', 1: 'naranja', 2: 'pera'}"
   ]
  },
  {
   "cell_type": "markdown",
   "metadata": {
    "id": "uygfha4ljZP8"
   },
   "source": [
    "<font style=\"color:Brown;font-weight:bold;letter-spacing:1px;\">map(función,iterable)</font> : Aplica una función a cada elemento del iterable, devolviendo un iterador con los resultados.\n"
   ]
  },
  {
   "cell_type": "code",
   "execution_count": null,
   "metadata": {
    "id": "jwp-8FAPjXc6"
   },
   "outputs": [],
   "source": [
    "numeros = ['1', '2', '3', '4']\n",
    "cuadrados = map(int, numeros)\n",
    "print(list(cuadrados))        # [1, 2, 3, 4]"
   ]
  },
  {
   "cell_type": "markdown",
   "metadata": {
    "id": "jZtb8EmUjZ9S"
   },
   "source": [
    "<font style=\"color:Brown;font-weight:bold;letter-spacing:1px;\">filter(función_lógica,iterable)</font> : Filtra los elementos de in iterable, devolviendo un iterador con los que cumplen una condición"
   ]
  },
  {
   "cell_type": "code",
   "execution_count": null,
   "metadata": {
    "id": "HMEAyNwBjaSi"
   },
   "outputs": [],
   "source": [
    "def positivo(x):\n",
    "  return x % 2 == 0\n",
    "\n",
    "numeros = [1, 2, 3, 4, 5]\n",
    "pares = filter(positivo, numeros)\n",
    "print(list(pares))  # [2, 4]"
   ]
  },
  {
   "cell_type": "markdown",
   "metadata": {
    "id": "LCy4nOPXfIWV"
   },
   "source": [
    "<font style=\"color:Brown;font-weight:bold;letter-spacing:1px;\">Comprensión de listas, tuplas y conjuntos</font> : Las comprensiones son una forma concisa de crear listas, tuplas o conjuntos a partir de iterables, aplicando operaciones o filtrados sobre los elementos. La sintaxis general es:  \n",
    "&emsp;&emsp;&emsp;&emsp;**[** expresión **for** elemento **in** iterable **if** condición **]**  \n",
    "&emsp;&emsp;&emsp;&emsp;**(** expresión **for** elemento **in** iterable **if** condición **)**   \n",
    "&emsp;&emsp;&emsp;&emsp;**{** expresión **for** elemento **in** iterable **if** condición **}**   \n",
    "donde:  \n",
    "- **expresión : es la operación o transformación que se aplicará a cada elemento.\n",
    "- **for** elemento **in** iterable : es el bucle que recorre el iterable.\n",
    "- **if** condición (opcional) : filtra los elementos. Solo los elementos que cumplan con la condición serán incluidos en el iterable final.\n",
    "\n"
   ]
  },
  {
   "cell_type": "code",
   "execution_count": null,
   "metadata": {
    "id": "cKv9515l9VyB"
   },
   "outputs": [],
   "source": [
    "numeros = [1, 2, 3, 4, 5]\n",
    "cuadrados = [n**2 for n in numeros]                       # cuadrados = [1, 4, 9, 16, 25]\n",
    "paresalcubo = [n**3 for n in numeros if n%2==0]           # paresalcubo = [8, 64]\n",
    "edad = [(12,'pepe'),(47,'ramón'),(3,'luis'),(19,'raul')]\n",
    "mayores = [n for e,n in edad if e>=18]                    # mayores = ['ramón', 'raul']"
   ]
  },
  {
   "cell_type": "markdown",
   "metadata": {
    "id": "YvfK6azPxnG-"
   },
   "source": [
    "<font style=\"color:Brown;font-weight:bold;letter-spacing:1px;\">Copia de iterables mutables (listas, conjuntos y diccionarios)</font> : Existen dos formas de copiar iterables mutables. En el caso de conjuntos serían:  \n",
    "- **Copia por referencia conjunto1 = conjunto2** : Asocia la variable conjunto1 el mismo conjunto que tiene asociado la variable conjunto2, es decir, ambas variables apuntan a la misma dirección de memoria. Cualquier cambio que hagamos a través de conjunto1 o conjunto2 afectará al mismo conjunto.  \n",
    "- **Copia por valor conjunto1 = set(conjunto2)** : Crea una copia del conjunto2 en una dirección de memoria diferente y se la asocia a conjunto1. Las variables apuntan a direcciones de memoria diferentes que contienen los mismos datos. Cualquier cambio que hagamos a través de conjunto1 no afectará al conjunto2 y viceversa."
   ]
  },
  {
   "cell_type": "code",
   "execution_count": null,
   "metadata": {
    "id": "MQb_yQfQxnHA"
   },
   "outputs": [],
   "source": [
    "# copia por referencia\n",
    "a = {'A', 'B', 'C'}   # a = {'A', 'B', 'C'}\n",
    "b = a                 # a = {'A', 'B', 'C'}  b = {'A', 'B', 'C'}\n",
    "x = b.pop()           # a = {'A', 'C'}  b = {'A', 'C'}  x = 'B'\n",
    "# copia por valor\n",
    "a = {'A', 'B', 'C'}   # a = {'A', 'B', 'C'}\n",
    "b = set(a)            # a = {'A', 'B', 'C'}  b = {'A', 'B', 'C'}\n",
    "x = b.pop()           # a = {'A', 'B', 'C'}  b = {'A', 'C'}  x = 'B'"
   ]
  },
  {
   "cell_type": "markdown",
   "metadata": {
    "id": "VLN9ADlxUUcl"
   },
   "source": [
    "<h1 style=\"color:Brown;text-align:center;\">ESTRUCTURAS SECUENCIALES</h1>"
   ]
  },
  {
   "cell_type": "markdown",
   "metadata": {
    "id": "wauR98cr586I"
   },
   "source": [
    "En una estructura secuencial de un programa, las instrucciones se ejecutan una tras otra en el mismo orden en el que están escritas, sin tomar decisiones, hacer repeticiones ni desviarse del flujo establecido."
   ]
  },
  {
   "cell_type": "markdown",
   "metadata": {
    "id": "U1vqOOQQ7uKL"
   },
   "source": [
    "<h2 style=\"color:DarkBlue;text-align:center;\">ENTRADA / SALIDA DE DATOS</h2>"
   ]
  },
  {
   "cell_type": "markdown",
   "metadata": {
    "id": "z2-vYf-gUn5i"
   },
   "source": [
    "<h3 style=\"color:MediumBlue\">Leer datos del teclado</h3>\n",
    "\n",
    "Para asignar a una variable un valor introducido por teclado por el usuario se utiliza la instrucción:\n",
    "\n",
    "<font style=\"color:Brown;font-weight:bold;letter-spacing:1px;\">input(mensaje)</font> : Muestra la cadena **mensaje** por la terminal y devuelve una **cadena** con la entrada del usuario.  \n",
    "El valor devuelto siempre es una cadena, incluso si el usuario introduce un dato numérico.  \n",
    "Al ejecutarse esta función, el programa se detiene esperando que se escriba algo y se pulse la tecla **INTRO** .  \n",
    "Posteriormente, se utilizarán las **funciones de conversión de tipo** para transformar la cadena en el tipo de dato deseado."
   ]
  },
  {
   "cell_type": "code",
   "execution_count": null,
   "metadata": {
    "id": "Gyap0IgeVXaI"
   },
   "outputs": [],
   "source": [
    "nombre = input('Introduce nombre: ')    # Introduce nombre: Pepe\n",
    "entrada = input('Introduce edad: ')     # Introduce edad: 23    entrada = '23'\n",
    "edad = int(entrada)                     # edad = 23\n",
    "edad = int(input('Introduce edad: '))   # Introduce edad: 23    edad = 23"
   ]
  },
  {
   "cell_type": "markdown",
   "metadata": {
    "id": "_QyYEo8nWUHt"
   },
   "source": [
    "<h3 style=\"color:MediumBlue\">Escribir datos en pantalla</h3>\n",
    "\n",
    "Para mostrar un dato por la terminal se utiliza la instrucción:\n",
    "\n",
    "<font style=\"color:Brown;font-weight:bold;letter-spacing:1px;\">print(dato1,...,sep='&ensp;',end='\\n')</font> :  \n",
    "- **dato1, ...** : son los datos a imprimir y pueden indicarse tantos como se quieran separados por comas.\n",
    "- **sep** : establece el separador entre los datos, que por defecto es un **espacio en blanco** '&ensp;'.\n",
    "- **end** : indica la cadena final de la impresión, que por defecto es un salto de línea **\\n**.\n",
    "\n",
    "<font style=\"color:Brown;font-weight:bold;letter-spacing:1px;\">print(*contenedor,...,sep='&ensp;',end='\\n')</font> : imprime todos los elementos del contenedor (cadena de caracteres, lista, etc.)."
   ]
  },
  {
   "cell_type": "code",
   "execution_count": null,
   "metadata": {
    "id": "BUMi8lA2XRqP"
   },
   "outputs": [],
   "source": [
    "nombre = input('Teclea tu nombre: ')    # Teclea tu nombre: Pepe\n",
    "print('Mi nombre es',nombre)            # Mi nombre es Pepe\n",
    "print('Mi nombre es',nombre,sep='')     # Mi nombre esPepe\n",
    "print('Mi nombre es',nombre,sep='\\n')   # Mi nombre es\n",
    "                                        # Pepe\n",
    "print('Mi nombre es',nombre,end='*')    # Mi nombre es Pepe*\n",
    "print(f'Mi nombre es {nombre:^10}.')    # Mi nombre es    Pepe   .\n",
    "lista=[1,'hola',2]\n",
    "print(*lista , sep='-',end='*')         # 1-hola-2*\n",
    "cadena='hola'\n",
    "print(*cadena , sep='-')                # h-o-l-a"
   ]
  },
  {
   "cell_type": "markdown",
   "metadata": {
    "id": "qMeWDoVNYbEn"
   },
   "source": [
    "<h3 style=\"color:MediumBlue\">Leer datos de fichero</h3>\n",
    "\n",
    "<h4 style=\"color:RoyalBlue;\">Abrir y leer fichero</h4>\n",
    "\n",
    "<font style=\"color:Brown;font-weight:bold;letter-spacing:1px;\">open(nombre,'r')</font> : Abre el fichero llamado nombre en **modo lectura** (el argumento **‘ r ’** significa read) y devuelve un **objeto** que lo referencia.  \n",
    "Una vez abierto el fichero, se puede leer todo el contenido del fichero o se puede leer línea a línea.\n",
    "\n",
    "<font style=\"color:Brown;font-weight:bold;letter-spacing:1px;\">fichero.read()</font> : Lee todos los caracteres fasta el final del fichero y los devuelve como cadena de caracteres.\n",
    "\n",
    "<font style=\"color:Brown;font-weight:bold;letter-spacing:1px;\">fichero.read(n)</font> : Lee n caracteres del fichero y los devuelve como cadena de caracteres.  \n",
    "Si se ha leído antes todo el fichero y se ha alcanzado el final de fichero, devolverá una cadena vacía.\n",
    "\n",
    "<font style=\"color:Brown;font-weight:bold;letter-spacing:1px;\">fichero.readline()</font> : Lee una línea del fichero y la devuelve como cadena de caracteres.  \n",
    "Si se ha leído antes todo el fichero y se ha alcanzado el final de fichero, devolverá una cadena vacía.\n",
    "\n",
    "<font style=\"color:Brown;font-weight:bold;letter-spacing:1px;\">fichero.readlines()</font> : Lee el fichero completo y devuelve una **lista** de cadenas de caracteres donde cada cadena es una línea."
   ]
  },
  {
   "cell_type": "markdown",
   "metadata": {
    "id": "AY1AVEtjYkY3"
   },
   "source": [
    "<h4 style=\"color:RoyalBlue;\">Cerrar fichero</h4>\n",
    "\n",
    "<font style=\"color:Brown;font-weight:bold;letter-spacing:1px;\">fichero.close()</font> : Cierra el fichero referenciado por el objeto fichero.  \n",
    "Cuando se termina de trabajar con un fichero conviene cerrarlo.  \n",
    "Si no se cierra explícitamente un fichero, Python intentará cerrarlo cuando estime que ya no se va a usar más."
   ]
  },
  {
   "cell_type": "code",
   "execution_count": null,
   "metadata": {
    "id": "KVA7QHxtYr0-"
   },
   "outputs": [],
   "source": [
    "f = open('saludo.txt', 'r')\n",
    "x = f.read()\n",
    "print(f.read())\n",
    "f.close()\n",
    "f = open('saludo.txt','r')\n",
    "print(f.readline())\n",
    "f.close()\n",
    "f = open('saludo.txt','r')\n",
    "print(f.readlines())\n",
    "f.close()\n",
    "f = open('saludo.txt', 'r')\n",
    "print(f.readlines())\n",
    "f.close()"
   ]
  },
  {
   "cell_type": "markdown",
   "metadata": {
    "id": "ZV82WQwaZ5IQ"
   },
   "source": [
    "<h3 style=\"color:MediumBlue\">Escribir datos en un fichero</h3>"
   ]
  },
  {
   "cell_type": "markdown",
   "metadata": {
    "id": "jDv7BFPsaBmX"
   },
   "source": [
    "<h4 style=\"color:RoyalBlue;\">Crear fichero nuevo y escribir dados</h4>\n",
    "\n",
    "<font style=\"color:Brown;font-weight:bold;letter-spacing:1px;\"> open(nombre,'w')</font> : Crea el fichero llamado nombre, lo abre en **modo escritura** (el argumento **‘w’** significa write) y devuelve un **objeto** que lo referencia.  \n",
    "Si el fichero indicado por la ruta ya existe en el sistema, se reemplazará por el nuevo.\n",
    "\n",
    "<font style=\"color:Brown;font-weight:bold;letter-spacing:1px;\">fichero.write(c)</font> : Escribe la cadena c en el fichero referenciado por fichero."
   ]
  },
  {
   "cell_type": "markdown",
   "metadata": {
    "id": "YssojI2nabKh"
   },
   "source": [
    "<h4 style=\"color:RoyalBlue;\">Añadir datos a un fichero existente</h4>\n",
    "\n",
    "<font style=\"color:Brown;font-weight:bold;letter-spacing:1px;\">open(nombre,'a')</font> : Abre el fichero llamado nombre en **modo añadir** (el argumento **‘a’** significa append) y devuelve un **objeto** que lo referencia.  \n",
    "El nombre puede contener la ruta completa hasta llegar al fichero.\n",
    "\n",
    "<font style=\"color:Brown;font-weight:bold;letter-spacing:1px;\">fichero.write(c)</font> : Escribe la cadena c en el fichero referenciado por fichero."
   ]
  },
  {
   "cell_type": "markdown",
   "metadata": {
    "id": "32QZCPzRagcx"
   },
   "source": [
    "<h4 style=\"color:RoyalBlue;\">Cerrar fichero</h4>\n",
    "\n",
    "<font style=\"color:Brown;font-weight:bold;letter-spacing:1px;\">fichero.close()</font> : Cierra el fichero referenciado por el objeto fichero.  \n",
    "Cuando se termina de escribir en un fichero hay que cerrarlo.  \n",
    "Si finaliza la ejecución del programa sin cerrar el fichero puede que las ultimas ordenes de escritura no se ejecuten completamente.  \n",
    "Si no se cierra explícitamente un fichero, Python intentará cerrarlo cuando estime que ya no se va a usar más.  \n",
    "Mientras esté abierto en modo escritura no se debe abrir por otra aplicación."
   ]
  },
  {
   "cell_type": "code",
   "execution_count": null,
   "metadata": {
    "id": "koShJ_mBah4i"
   },
   "outputs": [],
   "source": [
    "f = open('saludo.txt', 'w')\n",
    "f.write('Hola a Python!\\n')\n",
    "f.close()\n",
    "f = open('saludo.txt', 'a')\n",
    "f.write('Adiós Python!')\n",
    "f.close()"
   ]
  },
  {
   "cell_type": "markdown",
   "metadata": {
    "id": "t0nZiI0rjthK",
    "tags": []
   },
   "source": [
    "<h2 style=\"color:DarkBlue;text-align:center;\">Ejercicios</h2>"
   ]
  },
  {
   "cell_type": "markdown",
   "metadata": {
    "id": "XcIbgcwKw0SM"
   },
   "source": [
    "#### Numeros (clases int y float)"
   ]
  },
  {
   "cell_type": "markdown",
   "metadata": {
    "id": "AY5L_62dBKIW"
   },
   "source": [
    "**Ejercicio 1001** : A partir del diámetro, calcular la circunferencia y superficie de un círculo."
   ]
  },
  {
   "cell_type": "markdown",
   "metadata": {
    "id": "cneXuKMlBKAm"
   },
   "source": [
    "**Ejercicio 1002** : Dados 2 números enteros distintos de cero, calcular el cuadrado de cada uno, su suma, resta, multiplicación y división; escribiendo el resultado de dichas operaciones."
   ]
  },
  {
   "cell_type": "markdown",
   "metadata": {
    "id": "SNQKGscN3Zza"
   },
   "source": [
    "**Ejercicio 1003 [Práctica 1]** : Calcular el perímetro y superficie de un rectángulo."
   ]
  },
  {
   "cell_type": "markdown",
   "metadata": {
    "id": "Z7mvZgVnBJVZ"
   },
   "source": [
    "**Ejercicio 1004** : Realizar la conversión de grados Celsius a grados Fahrenheit. El resultado se mostrará con un dígito decimal. (F=(9/5)C+32)."
   ]
  },
  {
   "cell_type": "markdown",
   "metadata": {
    "id": "IKtUQqA0BJtc"
   },
   "source": [
    "**Ejercicio 1005** : Resolver la ecuación de 1º grado: ax + b = 0"
   ]
  },
  {
   "cell_type": "markdown",
   "metadata": {
    "id": "T01YLsyd4rLy"
   },
   "source": [
    "**Ejercicio 1006** : Se desea invertir capital en un banco. ¿Cuánto dinero ganará al mes si el interés es el 2% mensual?"
   ]
  },
  {
   "cell_type": "code",
   "execution_count": null,
   "metadata": {
    "id": "WV75sM8E98eR"
   },
   "outputs": [],
   "source": [
    "'''\n",
    "___Análisis___\n",
    "Entrada: capital\n",
    "Proceso: calcular ganancia\n",
    "Salida: ganancia\n",
    "___Algoritmo___\n",
    "Inicio Inversión\n",
    "    leer capital\n",
    "    gana=capital*0.02\n",
    "    escribir gana\n",
    "fin\n",
    "'''\n",
    "capital = float(input('Dame el capital a invertir='))\n",
    "gana=capital*0.02\n",
    "print(f'has ganado este mes {gana:.0f} € con el capital {capital:.0f} €')"
   ]
  },
  {
   "cell_type": "markdown",
   "metadata": {
    "id": "vGvHRrzR_O8j"
   },
   "source": [
    "**Ejercicio 1007** : Un vendedor recibe sueldo base y 10% de comisión de sus ventas. ¿Cuánto dinero obtiene de comisiones por 3 ventas mensuales? ¿Cuál es el sueldo total (base y comisiones)?"
   ]
  },
  {
   "cell_type": "code",
   "execution_count": null,
   "metadata": {
    "id": "sMqkho4S_Pkm"
   },
   "outputs": [],
   "source": [
    "'''\n",
    "___Análisis___\n",
    "Entrada: sueldo,ventas\n",
    "\tProceso: calcular ventas, comisiones,sueldo\n",
    "Salida: comisión,sueldo total\n",
    "___Algoritmo___\n",
    "Inicio Salario\n",
    "\tleer sb,v1,v2,v3\n",
    "\ttot_vta=v1+v2+v3\n",
    "\tcom=tot_vta*0.10\n",
    "\ttpag=sb+com\n",
    "\tescribir tpag,com\n",
    "fin\n",
    "'''"
   ]
  },
  {
   "cell_type": "markdown",
   "metadata": {
    "id": "Nd0hQwCtAZUa"
   },
   "source": [
    "**Ejercicio 1008** : Una empresa constructora vende terrenos con la forma de la figura. Realizar un algoritmo para obtener el área de un terreno de medidas de cualquier valor\n",
    "\n",
    "![imagen.png](data:image/png;base64,iVBORw0KGgoAAAANSUhEUgAACAYAAAFRCAYAAADt8z32AAAABHNCSVQICAgIfAhkiAAAABl0RVh0U29mdHdhcmUAZ25vbWUtc2NyZWVuc2hvdO8Dvz4AAAAmdEVYdENyZWF0aW9uIFRpbWUAbHVuIDE0IG9jdCAyMDI0IDE5OjIxOjI0nQNLOAAAIABJREFUeJzs3WuTHQd95/Ffd5/r3CRZli1fZFvGkmVjTAxFAiRQZFnYVG3lQfIK8iDvKe8gz0JRu+RSSVjIkoUKNhhjJMvCtiw0FpJlWxrNfc7p7n0wx0IGG2RrdDvz+VDtY6nOme7mwfhBf8//X7Rt2wYAAAAAAAAAmErl7b4AAAAAAAAAAODmEQYAAAAAAAAAwBQTBgAAAAAAAADAFBMGAAAAAAAAAMAUEwYAAAAAAAAAwBQTBgAAAAAAAADAFBMGAAAAAAAAAMAUEwYAAAAAAAAAwBQTBgAAAAAAAADAFBMGAAAAAAAAAMAUEwYAAAAAAAAAwBQTBgAAAAAAAADAFOvc7gvYSW2SUdpspUknRbopU93uiwIAAAAAAACA22jqwoCNNLmccTopMkyZfop0JoFAmSLF7b5IAAAAAAAAALiFpioMSJJRmlzKKBtp0kuZQcrMpcpCqgxSppNi8r+IBAAAAAAAAACYelMXBrRJxmmzlTbjNNlMk400WU6dfsoMU2Zm8tpJkXKSB4gEAAAAAAAAAJhGUxcGXKtJmybJKHVWU6eTIoOUmU2V4WSaQH9ybEcCAAAAAAAAADBdpjoMuNb7kwRW02Q9TaoU6afIbKrMTdYM9CaBQCe5OkkAAAAAAAAAAO5muyYMSLbjgHYyRaBOm3GKbKbJldTppcgwVeZSZiZV+ilTZXvFQJFCJgAAAAAAAADAXWlXhQHXarMdB9RJNlNnPclamqymSH+yZmAmZYaTaQIdaQAAAAAAAAAAd6FdGwb8tibJVpqMkqymSTfFJA6or04Q6KVIL2WqFClv9wUDAAAAAAAAwHUQBlyjnRxN2tRps5kmyynSzTjDlJlNlflUGU4mCGwHAtYMAAAAAAAAAHDnEgZ8hN+OBLbSZjV13kuRYcrMpMpCOplNmW5KcQAAAAAAAAAAdyRhwHVok9RpUyfZTJvNtFlPm9U0GabMYHIMJ5FAdbsvGAAAAAAAAAAmhAGfwDhtxqmzmjplkn7KzKWT+VSZSZl+inRSpJMy5e2+WAAAAAAAAAB2NWHADWqSbKTJKKNcyTjdFJlJmbnJqoFeynSSFEmKFFYOAAAAAAAAAHBLCQN2QJv3pwi0GSXZSpu1NFlKnUGKDFNmJlUGKdO9Jg8QCQAAAAAAAABwswkDdliTZCtNtpKspE4vRQYpM0yT2ZTpT1YN9FNaNQAAAAAAAADATScMuMlGaTNOndU0WZoEAbMpM5sqw5TpTqYIbK8bMEMAAAAAAAAAgJ0lDLjJ2smRtGnSZpQ2G5M1A/0UmUmVuVSZnUwQqLIdCJgkAAAAAAAAAMBOEAbcQm2SOm3qtNlMspFkLU2WU2eQIoPJFIH3Vw5UJggAAAAAAAAAcIOEAbdRnaRJk600WUnSSz0JA6oMUmaQMr2U6aVIZdEAAAAAAAAAAJ+AMOA2+82qgWQjTTbT5ErqdFNkmCpzKTOfTgYp00mRKkkpEgAAAAAAAADgOgkD7iDvRwLNZN3AVtqspsh7GWcwmSQwlyrzqdIRBwAAAAAAAABwHYQBd6g2SX01ENieJrCeOqspcyVV+pNVA8PJqoFSJgAAAAAAAADAhxAG3AXaJOO0GafNWpoUqTNMmdmUmUsnMynTv2bVQCUSAAAAAAAAAGBCGHCXaSf/XEuTzTS5nDqDFFfXDMymSn8yQWD7AAAAAAAAAGA3Ewbchd6PA8aT1zpFttJmJfUHVgzMpMwwVaokxWSKgFkCAAAAAAAAALuLMGAK1GlTp81GkpXU6X4gDPhNLNBPkSqlKQIAAAAAAAAAu4gwYMq0SUZpMk6T1RSpkgwnKwbmUqafMr0U6aRMZdUAAAAAAAAAwNQTBkyhdnI0aVMnGafOeppcTpF+isykzFw6mUmZbspUScr8Zt0AAAAAAAAAANNDGDDl2vxm1cBmko0UWUuT5TQZpMggVWYmawcGqUwQAAAAAAAAAJgywoBdpk6bJm22JqsGeqkznMQBwzTpp7i6bqA0QwAAAAAAAADgricM2IU+uGqgzUaaLKVIN2VmU2Y+VebSST9FOpNAYHvVAAAAAAAAAAB3G2HALvfBSKDOKE1WMk4nowxTZi5VFtLJMGU6JggAAAAAAAAA3HWEAVzVJhmnzThJkTqbabKeJiupM0iZQcoMU2aQKj2RAAAAAAAAAMBdQRjAh2qTjNJmlDorqVMlGabKXKrMpclMqnSTdK6ZJCAUAAAAAAAAALjzCAO4LnWStdTZSJPLGaWbMrNXQ4HtCQJVipQiAQAAAAAAAIA7ijCA69YkaSarBrbSZCtNVlPn8jVrBmZSZZAyneTqsgGRAAAAAAAAAMDtIwzgE2nSZjPJ5mTVQC9FBqkykzrDSSgwSJleynSlAQAAAAAAAAC3jTCAG9Ym2UqbUcZZS5FOigwnqwZmUmaYKp3J33euzhEAAAAAAAAA4FYQBrAj2smxvWqgzShtVtOkm6Q/iQTmUmVmEgmUSUqRAAAAAAAAAMBNJwxgx7VJxpNAYDPJetqsp8mV1OmnzDBlZlJmJlX6KVPe7gsGAAAAAAAAmGLCAG66Om3W02YjTcoU18QBdQap0k+Rfor0UqYyQwAAAAAAAABgRwkDuCWuXTVQp8566lxOkW6KzKbKwmTVQD9lqmyvGbBqAAAAAAAAAODGCQO45T4YCbQZpc1y6nRTZJAi8+lkPp3MTiYIiAMAAAAAAAAAPjlhALdVm2ScNuO02UqymSIbabOSOsOUGUzWDvRTppsy5e2+YAAAAAAAAIC7jDCAO0abZJQ2o9RZSZ1OisykzGyqzKbKMGV6KdNNkSqFSAAAAAAAAADgOggDuGONJ5MD1tLkUsbpp8xsysynk5lJJFAmKUUCAAAAAAAAAB9JGMAdrUnSpE2dNqO02UyTldTpTdYMzKbKzGTVwPuRQJLJPwEAAAAAAAAQBnBXaJPUk0BgI0mZJt0kq6kyTJVBygxSZDCJBKoU4gAAAAAAAACACAO4SzVps5VknDrLqdNNkeHVCQJVBinSSZluilT5zSQBAAAAAAAAgN1GGMBd6/0pApm8jtJmNU26GaefMjMpMz+ZKNBNrq4akAgAAAAAAAAAu4kwgKnQJhmnzXgySWAjTdZS5ErqDCaRwPY0gTI98wMAAAAAAACAXUQYwNR5PxKo02YjTVZTZDVlVlJnJmUGKdOfHNurBmQCAAAAAAAAwPQSBjC12snrOG1WU2ctdS6lSC9l5iZrBmZTpZ8yVYpUSQqrBgAAAAAAAIApIwxgV2gnR5M2TepspclS6vRSZCZl5tPJQqoMJpEAAAAAAAAAwLQQBrDrNNkOBMZpM0qRrbRZT5Mrk/UCg5RXVw50UyaJVAAAAAAAAAC4awkD2NWatNlMm80kV1KnmyKDyQSB2VQZpkk3ZbpJqpSTTAAAAAAAAADg7iEMgGuM02Y1TdazlU6K9FNkNlUWUmUmVbopUqZImaQ0RwAAAAAAAAC4CwgD4BptkjZtmiT1ZNXAZtqspM5gsl5gmDKzqdJLmSpJkUIiAAAAAAAAANyxhAHwEdpsxwF12mwkWU2T3mTVwEzqDFJNYoEivZTpyAMAAAAAAACAO5AwAK7TdiDQZitNVlKkmzozKSfHdiTQTZFOilSmCAAAAAAAAAB3CGEAfAzbUwTenyRQX40EOhlnkDJzqTI3iQQ6KVImKUUCAAAAAAAAwG0kDIBPqEnSpM04bYokG2myljqXU6Y/mSQwlyozqdJN5AEAAAAAAADAbSEMgB3QJhmnTZ0262nSSZHVlFlNnWHKDCaxQD9leilT3u4LBgAAAAAAAHYNYQDsoHbyOkqbceqspk6ZIoOUmU2ZhXQymyr9FKlSpJysGwAAAAAAAAC4WYQBcJO8HwnUabOWOptpspQ6/RQZTiKB+VQZpExlzQAAAAAAAABwkwgD4BZ4f9XAOG1GSbbSZiNtlq6uGigyvCYSKBKpAAAAAAAAALAjhAFwizVJNtJkI02SpJciM6kylyYzKTNImW6KdCeRgFUDAAAAAAAAwI0QBsBtNkqb5dRZTZ1OigxSZjZV5lJlmDK9lCmTq5MEAAAAAAAAAD4OYQDcZm2SOm3qZLJqoM1GmiynTn+yYmBmEgt0Ulg1AAAAAAAAAHwswgC4g7TZjgPGabOeJlWK9FNnkDLDVBlMVg28P0mgut0XDAAAAAAAANzxhAFwB6vTZj1tNtLmSur0UmTmmjUD/ZTppvjAJAEAAAAAAACAawkD4A7XJmnTpknSpM1W2ixPIoHhZMXA7CQUqFKkTFKKBAAAAAAAAIAJYQDcRd6PA8ZpM0qykSYrqdO/ZsXA+6FARxwAAAAAAAAARBgAd61rI4GNNFlNkX7KrKTO8JpVA/0U6aZIKRMAAAAAAACAXUkYAHe5dnJspc0odVZSp8wow1SZT5W5yRSB3m+tGgAAAAAAAAB2B2EATJF28lonWUuTzTR5L0X6KTKTThYmsUA/23GAPAAAAAAAAACmnzAAplSTNk2SpM0oRbYyynrqLE3WCwxTZSZlBpNJAkmEAgAAAAAAADCFhAGwCzRps5E2G2lyJUk3ZWZSZy5VZlOlnyK9lOmkSMckAQAAAAAAAJgqwgDYZdokozRZTpPV1OmkyDBlZlNlLlWGKdNNkTJFKpEAAAAAAAAA3PWEAbALtUnqJHXajNNmlDbrabKUOoNrQoFhyvRSpkxSiAQAAAAAAADgriQMgF2uTTKeBALrabKWIr0UWUmdwSQOGEyO/mSSAAAAAAAAAHD3EAYAHzBOmzptNtKmSp1+yqsTBGYmEwS6KdKxagAAAAAAAADuCsIA4He0Sdq0aZLUqbORJldSp5siM6kyNwkFBinTmSwZ2F43AAAAAAAAANxphAHA79UkaSarBraSbKbNSpJeysxMjtlUGaaaRAIAAAAAAADAnUQYAFy3NskoTcZJ1tNkLUUGKTNMk2HqDFJmkDK9FOmlFAkAAAAAAADAHUAYAHxs7eR1K222Umc5daoUGabMfKrMp8psOukkqVKknKwaAAAAAAAAAG49YQBww9ok47RZTZONNLmUcXoZZTZlFlJlLp30JoGAKQIAAAAAAABwawkDgB3TpE2T7UhgM20202QtTQYZp58qw5QZpkw/ZapJJCAUAAAAAAAAgJtLGADsuDZJmzYbabORJkWSfuoMU2Y2VWYncUAvZbpJqpQCAQAAAAAAALhJhAHATdcm2UyTUdqspE43RYaTQGAuVYbZ/mVUprg6SQAAAAAAAADYGcIA4JZok9RpU2d71cAobdZSZCl1+ikzM5kmMJMynRQpkxQiAQAAAAAAALhhwgDglmuTjCZxwEaaVCmymjIrqTNImcFkosBgsm6gvN0XDAAAAAAAAHcxYQBwW7XZniBQp856mlRJBikzkzozqTKcxAHdFOlMDgAAAAAAAOD6CQOAO0KbpE2bJrkaCVxOnX6KDFNmLlVmJsf2moGktGoAAAAAAAAA/iBhAHDHaZI0aTNOm1GSjTRZTpN+xhmmzEzKzKbKbCpxAAAAAAAAAPwBwgDgjtYk2UqbUepsJllNkWGqrKTJMHX6KTNImX6KdFKmvN0XDAAAAAAAAHcYYQBwV2iT1EnqtNnKOFeSVCkykzLzqTKfToZp002RanKYJAAAAAAAAADCAOAu1SYZp81K6qynybsZZzBZMbAwWTPQT3k1DhAJAAAAAAAAsFsJA4C7WpOkSZtR2ozSZDNNVlNnMFkxMEyZmVTpTdYMFBEJAAAAAAAAsLsIA4CpUSdZT5P1NClTpJdkNlVm08kwZfop0kt5dd2AQAAAAAAAAIDdQBgATKUmbTaTjFLnSup0U2QmVWZTZi5VBinTmQQCpUgAAAAAAACAKSYMAKZWm6ROmzrJeLJuYC1FllKnnzIzKTM7iQS61wQCIgEAAAAAAACmiTAA2BXaJKNJHLCeJp0UWU2R5UkYMEiZ4eS1lzLl7b5gAAAAAAAA2CHCAGDXeT8SGKfNWtp0UqSfIjMpM5Mqw0kc0Etxdd0AAAAAAAAA3K2EAcCu1SZp02YrbcYpsp4mSxmnmzJzqTKXKrOp0pvEAWWSYrJuAAAAAAAAAO4WwgCAJE3aNEnGSbZSZzNtrqROf7JiYCZl5lOlnzIdaQAAAAAAAAB3EWEAwG9pkmylyVaSjTRZS5GVlFlJnUHKDFKmP3ntmCAAAAAAAADAHU4YAPB71GlTp81Gmiwl6aa4Oj1gPp0MJ3FAJ0VKkQAAAAAAAAB3IGEAwMcwTpuVNFlLk3czTn8SCcylymyq9CaBQBKRAAAAAAAAAHcEYQDAx9Dm/SkC25HAVtpspclK6vRTZjg5ZlKmmzKVSAAAAAAAAIDbTBgA8Am9Hwmspc1amlTJ1ThgLlWGqdJPkd7VSAAAAAAAAABuPWEAwA6pk6ynyWbaXEmd3mRywHyqzKRKP2U6SarJugFTBAAAAAAAALgVhAEAO+jaVQN16mylyVrqdFOmnzKzKTObKoOU6aRImaQQCQAAAAAAAHATCQMAbpImSZM2o7Qp0qSTIqspM0idYcoMJmsHhqnSFQcAAAAAAABwkwgDAG6BNsk4bcaps546V1JmkCIzqTKbOoOU6aVMN0U6KVPd7gsGAAAAAABgaggDAG6RdvJaJ2nSZJxkLU0uJRmkzEyqzKXKbKr0JnFAOVk3AAAAAAAAAJ+UMADgNmgnR5M24ySj1FlPmysZp58qw5SZTZm5VBmkTGXRAAAAAAAAAJ+QMADgDtAk2UqTUZKNtFlLkdWUWZ6sGRimzCBl+pNIQCYAAAAAAADA9RIGANxB2iR12tRps5Eml5P0UmQ2VRZSZT6d9FOkkyJVipQiAQAAAAAAAP6AqQwDCg/KgCkySpvl1FlLk4sZTdYMVFlIJzMp002ZIvF7DwAAAAAAgA+1o2FA27YZj8ep6zpt26YoihRFkU6nk6qqdvJUH6lMkV6K1ClvyfkAbqU2yWbaJE1GGWVlEgnMXRMIAAAAAAAAwLV2NAy4cuVKTp48mcXFxayvr6csy8zNzeXpp5/OE088sZOn+r18cxaYZnXarKXOWpIqRUZp00s3nfjdBwAAAAAAwO/asTCgaZosLi7m7//+7/O9730vly5dSqfTycGDB/O3f/u3eeSRR9LtdlMUN/exVZM2m2mzkfamngfgTlCmzTBN6rRp00YaAAAAAAAAwG/bkTCgbdusra1lcXExx48fzxtvvJHNzc20bZuLFy/m5MmTOX/+fB544IF0u92dOOXvv56rD8gApls7OQAAAAAAAOCjlDvxQ5qmyTvvvJNXX3017777bhYWFnLgwIEURZHV1dW89tprOX78eLa2tnbidAAAAAAAAADAddqRMKCu65w7dy4nTpxIr9fLc889l6eeeiqDwSBJ8vrrr+fHP/5x1tbW0ra+2woAAAAAAAAAt8qOhAFbW1t56623cvr06TzwwAP58z//8/zRH/1RZmZmUhRFzp49m5/97Ge5fPlyxuPxTpwSAAAAAAAAALgONxwGvL9G4I033siVK1dy9OjRfPGLX8xTTz2V/fv3p9PpZHl5Ob/61a9y8uTJXLp0aSeuGwAAAAAAAAC4DjccBozH47zxxhs5depUqqrKU089lSeeeCKPPfZYjh07lrm5udR1nXfeeSfPP/98Lly4sBPXDQAAAAAAAABchxsOA0ajUV599dWcPn06+/fvzxNPPJEDBw7kwQcfzHPPPZc9e/akKIosLS3l+eefz7lz51LXddq23YnrBwAAAAAAAAB+jxsKA5qmydraWl5//fUsLy/nyJEjueeee1KWZe6///4899xz2bdvX8qyzMrKSk6cOJEzZ85kZWVFGAAAAAAAAAAAt8ANhQHr6+s5depUFhcXMzMzk6effjr79u1LURSZn5/PY489lsceeyx79uxJXddZWlrKq6++mjfeeCOj0Win7gEAAAAAAAAA+Ag3FAasrq7mxRdfzMWLF3PfffflqaeeysLCQpKk1+tl//79eeaZZ/LAAw8kSTY3N/PKK6/k5MmTwgAAAAAAAAAAuAU+cRjQNE0uX76cn/70p9nY2Mhjjz2WRx55JMPh8Op7ZmZm8vnPfz6PP/54iqLIaDTKa6+9llOnTmV5eTl1Xe/ITQAAAAAAAAAAH+4ThwGbm5s5f/58Tp48mYWFhRw9ejRzc3Opqurqe4bDYZ599tkcPnw4vV4vbdvm4sWLef3113P27NlsbGzsyE0AAAAAAAAAAB/uE4cBFy5cyCuvvJJ33nknhw4dyrFjx9Lr9T7wnm63mwcffDCPP/54HnrooVRVlfX19bz55ps5ceJErly5csM3AAAAAAAAAAB8tE8cBrz55pt54YUXkiSf+tSncvjw4XS73Q+8pyiK9Hq9PP744/nMZz6Tfr+fuq5z9uzZ/OxnP8ulS5fStu2N3QEAAAAAAAAA8JE+dhjQtm3qus7p06fz8ssvZ2FhIQ8//HD279+ftm0zGo0+cIzH4zz88MP57Gc/m8FgkKZpcuHChZw4cSIXLlzI5uamOAAAAAAAAAAAbpLOx/1AXde5dOlSTp8+ncXFxXzhC19Iv9/Pe++995GfGQwGOXToUAaDQZJkY2Mj58+fz6uvvpojR47kgQceSFVVn/wuAAAAAAAAAIAP9bHDgM3NzZw8eTJvvPHG1UDgW9/6Vn74wx9+5Gfqus65c+eysrKSZHvqwHvvvZeXXnopn/vc53L//fcLAwAAAAAAAADgJvjYYcD6+npefPHFnDlzJlVVZWlpKc8///wf/FzTNJmdnc3W1lbW1taytLSU48eP5+zZs3n66afT6XRSFMUnugkAAAAAAAAA4MN9rDCgaZqsrKzkpZdeyqVLl/LZz342f/mXf5m9e/f+wc9ubm5mcXEx//Iv/5KXX345a2trefPNN3P69Om89957GQ6HpgYAAAAAAAAAwA77WGHAysrK1Yf58/Pz+epXv5pvfOMb2bdv3x/87PvrBE6fPp3XXnstGxsbWV5ezokTJ/Laa6/lwIEDGQ6Hn/hGAAAAAAAAAIDf9bHCgHfffTe/+MUvcv78+Tz55JP5sz/7sxw5ciRzc3PX9fl77rknTz75ZJ5//vksLi5mc3Mzx48fz8mTJ/P5z39eGAAAAAAAAAAAO6y83je2bZsLFy7kpZdeyvr6eh599NF8+tOfTr/fv+6T9Xq9HD16NE888US63W62trbyxhtv5NSpU7l06VLquv5ENwEAAAAAAAAAfLjrCgPats3W1lbOnTuXU6dOZX5+Po899ljuv//+dDrXP3Sg2+3miSeeyJEjR9Lv99M0TS5fvnx1vcDa2tonvhEAAAAAAAAA4HddVxhQ13XefvvtnD59Ou+9914ef/zxPPbYY+n3+ymK4rpP1ul08sgjj+RTn/pUFhYWUlVVxuNxFhcX87Of/SwrKyuf+EYAAAAAAAAAgN91XWHA1tZWXn/99Zw8eTJ1XefZZ5/N448//vFPVpbZu3dvHn300Tz66KMZDodJkl//+tf5yU9+kvfee886AQAAAAAAAADYQb83DGjbNuPxOCsrK3n11Vfz6quvpizLHD16NAcPHkzTNB//hGWZ++67L0eOHMnc3FyS5N13380rr7ySs2fPZmlpKePxOG3bfrI7AgAAAAAAAACu+r1hwHg8zuXLl/Paa6/lxRdfzOLiYmZmZlKWZTY3NzMajT5WHFDXddbW1lKWZfbt25der5ckGY1Gefvtt/O9730vL774Yt59992MRiNxAAAAAAAAAADcoM6H/WVd1/n5z3+en/70p3nttdfy1ltv5cUXX8w777yT0WiUb33rW3nhhRdy4MCBPP300/nc5z6XQ4cOfeRJtra2cubMmfzzP/9zzp07l4sXL+bUqVO5cuVKku3JBEtLS/nXf/3XvPnmmzl06FAOHDiQL37xi3nmmWeyd+/eVFV1c/4fAAAAAAAAAIAp9qFhQNM0WVxczAsvvJCTJ09mc3Mz8/PzeeaZZ5Ik586dy7lz57Jnz540TZPDhw//3jCgrutcvHgxP/jBD3L+/PnUdZ0kOXbs2O+89+zZszl79mz27duXe++9N4cPH86ePXt24l4BAAAAAAAAYNcp2g+Z19+2bZaXl7O8vJzNzc2PHOlflmVmZ2ezsLCQwWDwkSdpmiYbGxu5ePFixuPxdV1YVVVZWFjI3Nxcut1uiqL4g59pkryXUc5kI2u5/hUHAHerMsk96ebB9DKXKlX+8O9KAAAAAAAAdpcPDQPuVsIAYLcRBgAAAAAAAPCHlLf7AgAAAAAAAACAm0cYAAAAAAAAAABTTBgAAAAAAAAAAFNMGAAAAAAAAAAAU0wYAAAAAAAAAABTTBgAAAAAAAAAAFNMGAAAAAAAAAAAU0wYAAAAAAAAAABTTBgAAAAAAAAAAFNMGAAAAAAAAAAAU0wYAAAAAAAAAABTTBgAAAAAAAAAAFNMGAAAAAAAAAAAU0wYAAAAAAAAAABTTBgAAAAAAAAAAFOsc7svAIDbZzQaZW1tLRcvXsylS5eytLSU1dXVbG5uZjQapWmaJEmn07l6dLvdzMzMZHZ2NrOzs5mbm8uePXsyOzubbreboihu810BAAAAAABwLWEAwC7Ttm1Go1FWV1dz8eLFnD17Nr/4xS9y+vTpvPXWW7l8+XI2NjayubmZ8XicoijS6/XS7XavHgsLC9m/f38eeOCBPPjggzl27FiOHDmS/fv3p9PxnxYAAAAAAIA7iac3ALvM5uZmzp8/n//4j//I97///fz85z/P0tJSiqLIvn378sgjj+TJJ5/Mnj170uv1UpZltra2srS0lAsXLuRXv/pVTp06lbW1tfR6vezduzdf+9rX8td//df5whe+IAwAAAAAAAC4w3h6A7BL1HWdS5cu5eWXX873vve9/OhHP8prr72W9fX1PPvss3n22Wdz9OjR3H///dm3b9/V1QBJMh6Ps7q6mqWlpVy8eDGLi4t5/fXBN1yGAAAXzUlEQVTXc/z48Zw7dy6Li4tZWlq6unoAAAAAAACAO4cwAGAXaJomy8vLefnll/Otb30r3/nOd/LrX/86Bw8ezJe//OX81V/9Vf70T/80hw8fTlEUv/dntW2bpaWlnDp1Kv/4j/+Y73znO2maJk3TpG3bW3RHAAAAAAAAXC9hAMAusL6+nuPHj+fb3/52vvOd7+TChQvZt29fvv71r+dv/uZv8uSTT2bv3r1/MApIkqIoMj8/n09/+tPZ3NzMyy+/nCTCAAAAAAAAgDuUMABgyo3H45w/fz7/9m//lu9+97s5f/58er1evvSlL+Wb3/xmPvOZz2R+fj5VVV33z6yqKrOzszlw4EAeeOCBrK6uXldUAAAAAAAAwK0nDACYYm3bZnl5Ob/4xS/yox/9KL/85S9TFEUOHDiQr3zlK/njP/7j7Nmz5xM/1J+bm8uxY8dy5cqV7Nmz52PFBQAAAAAAANwawgCAKda2bd5555388Ic/zJtvvpnRaJR77rknR44cydNPP52DBw/e0Df9FxYW8id/8idZW1vLQw89lG63u4NXDwAAAAAAwE4QBgBMsbqu8/bbb+cnP/lJzp8/n7Zts3fv3jzzzDN58MEHb/hB/uzsbJ566qnUdZ1+vy8MAAAAAAAAuAMJAwCm2Orqas6dO5ezZ89mdXU1STI/P58jR45k3759Kcvyhn5+VVWZn5/fiUsFAAAAAADgJrmxJ0IA3NHefffdq1FAXddJtr/l//DDD2dhYeGG1ggAAAAAAABwdxAGAEyxd955J4uLi9na2kqSFEWR4XCYAwcOZDgcCgMAAAAAAAB2AWEAwBRbW1vL0tJSmqZJURTpdrsZDocZDofpdGyTAQAAAAAA2A2EAQBTbHNzM2tra1fXCHQ6nfR6vVRVZVoAAAAAAADALiEMAJhSbdtma2srGxsbSbbXCFRVlW63m7L06x8AAAAAAGC38GQIYBdo2zZt297uywAAAAAAAOA2EAYATLFut5t+v391bcB4PM5oNErTNLf5ygAAAAAAALhVhAEAU6ooigwGg8zNzaWqqiTbYcDGxkbG47EJAgAAAAAAALuEMABgii0sLGT//v2pqipt22Y8Hmd9fT3Ly8vZ2toSBwAAAAAAAOwCwgCAKXbvvffm0KFDGQwGKYoibdtmbW0t58+fz+rq6o6dp21bkQEAAAAAAMAdShgAMMXuueeePPLII5mfn0+n00mSrKys5M0338zS0lKaprmhn9+2bZqmyXg8tp4AAAAAAADgDiUMAJhiw+EwDz74YI4dO5a9e/cmSS5dupTjx4/n4sWLN/wgf2trK2fOnMl//ud/5ic/+cmOTiEAAAAAAABgZwgDAKZYWZa577778qUvfSkPP/xwyrLM5cuX89JLL+XMmTM3/CB/dXU1L730Uv7hH/4h3/3ud7O8vLxDVw4AAAAAAMBOEQYATLH3w4CvfOUrOXr0aGZmZrK5uZmzZ8/mxz/+cU6dOnVD6wQ2Nzdz7ty5vP3229nY2LBKAAAAAAAA4A7Uud0XAMDN1e/3c/jw4fzFX/xFLl++nP/6r//K8vJyvv/97+fee+/Nfffdl4MHD6bX66Uoiuv+uW3bZmNjIxcuXMjS0tJNvAMAAAAAAABuhDAAYMoVRZG9e/fma1/7WlZWVrK6upoTJ07k+PHjWVhYyP79+/PlL385hw4dyvz8/HX9zNFolJWVlZw+fTpvvPFGLl++fPVcAAAAAAAA3FmEAQC7QKfTycGDB/PNb34zVVXl29/+do4fP54TJ07k7/7u77K4uJivfvWrOXr0aAaDQbrdbqqquvqgv23b1HWd8Xicra2tXL58Ob/85S/z7//+73nppZcyHo9v8x0CAAAAAADwUYQBALtAURTp9/s5dOhQvvGNb+TAgQP5wQ9+kBdeeCFnz57NP/3TP+XEiRN5/PHH88gjj+S+++7LwsJCut1ukmRrayvLy8t59913c+HChZw9ezZnz57NW2+9lUuXLuX+++/PcDhMWZa3+U4BAAAAAAD4bcIAgF2iKIoMh8McPnw49957bx566KEcO3Ysr7zySs6cOZOLFy/m4sWLOX78eObm5tLr9VKW5dVpAZubm1lbW8vy8nLW1tbSNE0OHDiQp59+OkeOHMlzzz2XmZmZ232bAAAAAAAA/BZhAMBu0rYpV1aysLiY59bWcuShh/LOAw/klxsbOXPxYs5fuJBLly5lfX09mxsbGb/7btq33kq1tJT+YJCFgwfz+JNPZv7Agey9557cd999efDBB/PIww/n/uEwM7/+9fZ55uaSyRoCAAAAAAAAbi9hAMC0aprfPJwviu0/r66meOWVFN/9bgavvppeWWbh0Udz8Otfz+c///lsdjrZ2tpKPRqlvnIl7c9/nvz7vye//GXKfj/VY4+l+p//M90jR9Lduzf9fj/9bjf90SjdEydSvvxy8o1vJEeOCAMAAAAAAADuEMIAgGnUtsnGRlJVSbe7/XdbW8kvfpF873vJuXPJpz+dcmsrvV/9Kr3/+I/s/eY3ky98YfuB/sZG8sILycWLyf33J1/8YrK2lvzqV8krrySHDiUPPrj93rW15MUXk//7f7f/fXPz9t47AAAAAAAAHyAMAJhGGxvJT36SrK8n996bPPTQ9kP9//zP5O23kz/6o+TLX95+3/PPJz/+cfL//l/S7ycPPJCcPr395/feSz7/+eRLX0pWV5P/+q/kpz9NfvjDpNfbjgbeeGP7z5cvJ889l+zfb1oAAAAAAADAHUQYADCNNjaSl1/efmi/d2/y7LPJiRPbD/yffDL5+teTRx7Znixw4EBy/nzyy19uf9v/6aeT48eTM2e2//3rX98OC9p2OzK4cCE5eXL7vUePJj//ebK4mHzmM8l/+2/JwYPCAAAAAAAAgDtI0bZte7svYqc0Sd7LKGeykbU0t/tyAG66Msk96ebB9DKXKlUmD+RHo+TXv07+9/9O/vmft7/Nf999yZ//efI//kfy6KPb0wGS7RUDZ89uv/ff/i25cmV7EsB//+/bx6FDv3nv5uZ2MPC//lfyf/5Psry8PWHgm9/c/tmHDm1PEgAAAAAAAOCOIQwAuIt9ZBjQtkldb3+z//jxZGkpueee5Nix5FOfSgaD33yrv22T8Th55ZXtqQLLy9vvfeqp5PDh333v1tb2e195JVlZ2Z4i8PTTv4kNTAsAAAAAAAC4owgDAO5iHxkGAAAAAAAAwER5uy8AAAAAAAAAALh5hAEAAAAAAAAAMMWEAQAAAAAAAAAwxYQBAAAAAAAAADDFhAEAAAAAAAAAMMWEAQAAAAAAAAAwxYQBAAAAAAAAADDFhAEAAAAAAAAAMMWEAQAAAAAAAAAwxYQBAAAAAAAAADDFhAEAAAAAAMD/b+/eeqM67z2O/9aM7fERjIlcEBgCMXJxECltTj1stSqkTS7aKFKlvpK+ot71qgpJ1JYkFzmobSLStCGJkAmHACaGAQM+jcGetS9GIY3SbjXepYNXP58bi5lnRv91Mdys73oeAKDChAEAAAAAAAAAUGHCAAAAAAAAAACoMGEAAAAAAAAAAFSYMAAAAAAAAAAAKkwYAAAAAAAAAAAVJgwAAAAAAAAAgAoTBgAAAAAAAABAhQkDAAAAAAAAAKDChAEAAAAAAAAAUGHCAAAAAAAAAACoMGEAAAAAAAAAAFSYMAAAAAAAAAAAKkwYAAAAAAAAAAAVJgwAAAAAAAAAgAoTBgAAAAAAAABAhQkDAAAAAAAAAKDChAEAAAAAAAAAUGHCAAAAAAAAAACoMGEAAAAAAAAAAFSYMAAAAAAAAAAAKkwYAAAAAAAAAAAVJgwAAAAAAAAAgAoTBgAAAAAAAABAhQkDAAAAAAAAAKDChAEAAAAAAAAAUGHCAAAAAAAAAACoMGEAAAAAAAAAAFSYMAAAAAAAAAAAKkwYAAAAAAAAAAAVJgwAAAAAAAAAgAoTBgAAAAAAAABAhQkDAAAAAAAAAKDChAEAAAAAAAAAUGHCAAAAAAAAAACoMGEAAAAAAAAAAFSYMAAAAAAAAAAAKkwYAAAAAAAAAAAVJgwAAAAAAAAAgAoTBgAAAAAAAABAhQkDAAAAAAAAAKDChAEAAAAAAAAAUGHCAAAAAAAAAACoMGEAAAAAAAAAAFSYMAAAAAAAAAAAKkwYAAAAAAAAAAAVJgwAAAAAAAAAgAoTBgAAAAAAAABAhQkDAAAAAAAAAKDChAEAAAAAAAAAUGHCAAAAAAAAAACoMGEAAAAAAAAAAFSYMAAAAAAAAAAAKkwYAAAAAAAAAAAVJgwAAAAAAAAAgAoTBgAAAAAAAABAhfV0e4B/t1qS3hTpTdHtUQDuu1qK1BP/4wEAAAAAAPBPVS4M6E0tW9KTRtrdHgXgvqslGUo9PSnEAQAAAAAAAPxDRVmWZbeH+Hcpk6ylTCvrsgDgv0ZvivSllro4AAAAAAAAgH+gUmHA59qp3CUB/FOFIAAAAAAAAID/Q+WOEkg6Z24DAAAAAAAAAJ3jqQEAAAAAAACAiqrkjgFwv5Vlmb/+9a/5wx/+kPX19XzdEzlqtVp6e3vT19eXoaGhjI6OZvv27ZmYmMj4+HiGh4fv0+QAAAAAAADAfxthAGxAWZa5cOFCjh8/nqWlpSwvL2d+fj7z8/O5e/dukqTRaGRsbCy12lc35iiKIkVRpF6vZ3h4OOPj49m3b1++9a1v5dChQ5mcnMxDDz2URqORonA0BgAAAAAAALBxRfl1H3UGkiS3b9/OZ599lmazmXPnzuXVV1/NSy+9lGazmSTZt29fnn/++TQajXtxQFmWuXv3bpaXl9NsNnPp0qXMzc1lcXEx6+vrGRgYyIEDB/LjH/84L7zwQiYnJ9NoNLp5mQAAAAAAAMAmZ8cA2KAtW7ZkZGQkO3fuzOjoaM6ePfulm/g7d+7M888/ny1btqReryfphAHtdjt37tzJ8vJybt26lZmZmfzpT3/Kq6++mtu3b2dxcTErKyvp7+/Pz3/+8xw4cMCuAQAAAAAAAMCGCQPg/6EoigwMDGTr1q0ZGRm5FwAkycjISB599NFs27YtPT3//Kd28eLFjI+P59q1a/nwww8zPz+fU6dOZXR0NNPT09m3b196enrEAQAAAAAAAMCGCAOgy3bs2JGnnnoqzWYz169fz/z8fJaXl3PmzJlcuHAhCwsL2bp165eiAwAAAAAAAIB/Va3bA8B/u97e3nzjG9/Ik08+mdHR0SRJu93O8vJyms1mbt68mfX19S5PCQAAAAAAAGxWwgB4ADQajezYsSP9/f33Xmu322m1Wmm1Wmm3212cDgAAAAAAANjMhAHwAGi321ldXf3SzgC1Wi2Dg4MZHBxMreanCgAAAAAAAGyMu43wAFheXs7FixfTarWSJPV6PSMjI9mxY0fGxsbS09PT5QkBAAAAAACAzUoYAA+AGzdu5O23386NGzeSJMPDw5mens7DDz+coaGhFEXR5QkBAAAAAACAzcpjyNAlZVmmLMtcuHAhb775Zk6cOJFms5mxsbEcPnw4zz77bCYnJ1Ov17s9KgAAAAAAALCJCQPgPmm1Wrly5UqWlpa+cnN/bW0tq6urWVxczDvvvJPXXnstZ86cyejoaKanp3Ps2LEcO3Ysu3fv7tL0AAAAAAAAQFUIA+A+mZ2dzW9+85sMDAykVuuc2lGWZdbW1rK0tJS5ubmcO3culy9fTrvdztTUVJ5++un88Ic/zJNPPpmxsbF7nwMAAAAAAADYKGEA3CfXrl3LiRMnUq/XUxTFvdfb7Xbu3LmTxcXF3Lx5M8vLy+nv78/IyEiuX7+e2dnZXLlyJX19fanX6+np6fnS5wEAAAAAAAC+DmEA3CcjIyM5ePBg+vr6vvTkf1mWWV9fz927d7OyspJbt25lfn4+t27dyqlTp3L9+vV88sknOXLkSL7zne9k79696e/vt3sAAAAAAAAAsCHCALhPHnnkkfzqV7/K6Oho6vX6vdfb7XbW1taysrKSmzdvZnZ2NmfOnMnf/va3fPTRR/nLX/6SkydP5t13382zzz6bn/zkJ5mamsrw8LCdAwAAAAAAAICvTRgA90mj0cj4+Hi2bduWnp4vfmplWd7bNeDOnTuZnJzMkSNHcvTo0Rw/fjy/+93vcvLkyXzwwQe5fft2VldXMzAwkAMHDqSvr6+LVwQAAAAAAABsRsIA+A8riiJFUaRWq6W3tzdDQ0PZvn179uzZk3q9nsXFxczMzGRhYSGnT5/Om2++mf3792fnzp0ZGxvr9vgAAAAAAADAJuPQcnhA1Gq1TE5O5rHHHsv+/fvTaDSyurqas2fP5r333svi4mK3RwQAAAAAAAA2IWEAPEAajUZ27dqVqampDA4OpizLNJvNnDt3LisrK90eDwAAAAAAANiEhAHwACmKIoODg9m2bVt6ejonfbRardy+fTtra2tdng4AAAAAAADYjIQB8IApyzJlWd77d1EUqdfrKYqii1MBAAAAAAAAm5UwAB4gZVlmZWUl8/Pz93YIGBgYyMjIyL0dBAAAAAAAAAC+DmEAPEDW1tZy9erVnD9/PisrKymKItu2bcvExEQajUa3xwMAAAAAAAA2IY8gwwOgLMu02+1cuXIlp0+fzszMTFqtVur1enbt2pVDhw5laGio22MCAAAAAAAAm5AwAB4ArVYrzWYzr7/+ev74xz/m2rVr6enpyfj4eA4fPpzHHnssw8PD3R4TAAAAAAAA2ISEAbBBZVmmLMusrKxkcXExy8vLabfb995vtVqZnZ3N0tJS6vX6Vz7bbreztraWVquVubm5nD59Or/97W/z/vvvp6+vL7t3785TTz2Vo0ePZnJy0lECAAAAAAAAwIYIA2CDlpeX02w2c+3atZw9ezZnz57N6urqvffn5ubyyiuvZGBg4CthQLvdzp07d7K0tJS5ublcvnw5Fy9eTLPZTK1Wy+TkZH70ox/lueeey+OPP57R0dEURfGfvkQAAAAAAACgAoqyLMtuDwGbTbvdzltvvZVf//rXWVhYyI0bN/Lpp5/mwoULabVaSZItW7Zk//796en5x/1Nu92+FwiUZZm+vr5MTExkcnIyBw8ezKFDhzI1NZWxsTFRAAAAAAAAALBhdgyADSiKIrVaLY1GI729vRkdHc3eiYl8d3o65cxMcvlyau12ehYXk+np5KGHkr/fNaDdTrGwkJ7z59O4fTvD/f0Z3bs3u595JvueeCIP79+f4eHhNBqNFGWZ3LyZzMwks7Od7/rBD7p38QAAAAAAAMCmIgyADSjKMo9/+9v55tRUUhRJWSZLS8lHHyUvvZR88EFy926yY0fyi18kjz+ebN/+xdrFxeTDD5Pjx1P7+OMU7XbqAwPpmZhIz9696dm+PbVarbN2YSH5+OPkxRc7f48cEQYAAAAAAAAA/zJhAGxEq5X+skz/2Fjy+Q38S5eSd99N7tzpxABbtiRvvZX8+c/JwEDywgudMKDdTs6f76xtt5Nf/jIZHEzeeCN5/fXO9//sZ53vXF9PTp1KXnkluX49ee655Pvf7+qlAwAAAAAAAJuLMAA24uTJ5PLlZOvW5Jvf7Ny0f+ONzt+nn06+971kaKizS8CJE8k77yQjI8mBA8nVq5218/Oddd/9btLfn2zblrz2WickGBpKHnkkuXKls3ZhIfmf/+ms3bOn21cPAAAAAAAAbCLCANiIq1eT997rHB9w6VIyN5d8+mkyNZUcPZo8/HBn3a5dnVjg5MnOEQOHD3eCgtnZ5ODB5NixZPfuL9Y2m8n77ycvv5w8+mjnO69eTaanO2t37uzsOgAAAAAAAADwLyrKsiy7PQRsOs1m8vbbyYsvdm78Dw4mTzyR/PSnyf79nR0Aks5xAHNznSMFXn65s0vA0FBnV4Fnnkn27UsajS/Wfr5DwO9/31k7MtLZVeDz2KCvr2uXDAAAAAAAAGxOwgDYiPX15LPPkpmZzjb/jUbnyf+9ezuRwN8/1b+21ll75kxnbX9/MjHRORJgYOCra2dnk08+SRYXO+/v2dNZ399vtwAAAAAAAADgaxMGAAAAAAAAAECF1bo9AAAAAAAAAABw/wgDAAAAAAAAAKDChAEAAAAAAAAAUGHCAAAAAAAAAACoMGEAAAAAAAAAAFSYMAAAAAAAAAAAKux/AfakVyO1vkAGAAAAAElFTkSuQmCC)"
   ]
  },
  {
   "cell_type": "code",
   "execution_count": null,
   "metadata": {
    "id": "eSil9QjM8JhH"
   },
   "outputs": [],
   "source": [
    "'''\n",
    "___Análisis___\n",
    "Entrada: lado A, B, C\n",
    "Proceso:\n",
    "\tcalcular altura triángulo\n",
    "\tcalcular área triángulo\n",
    "\tcalcular área rectángulo\n",
    "\tsumar áreas\n",
    "Salida: área total\n",
    "___Algoritmo___\n",
    "Inicio Areas\n",
    "\tleer A,B,C\n",
    "\taltura=A-C\n",
    "\ta_tri=B*altura/2\n",
    "\ta_rec=B*C\n",
    "\tarea=a_tri+a_rec\n",
    "\tescribir area\n",
    "fin\n",
    "'''"
   ]
  },
  {
   "cell_type": "markdown",
   "metadata": {
    "id": "5KgXwwnpBJ35"
   },
   "source": [
    "**Ejercicio 1009** : Leer la fecha de nacimiento y la fecha actual e indicar cuantos meses ha vivido la persona. Para leer las fechas se pedirán 2 números enteros: mes y año."
   ]
  },
  {
   "cell_type": "markdown",
   "metadata": {
    "id": "vudVo71G5D84"
   },
   "source": [
    "**Ejercicio 1010 [Práctica 1]** : Calcular la nota final de Informática si la calificación se obtiene del 55% del promedio de 3 notas parciales, 30% del examen final y 15% del trabajo final."
   ]
  },
  {
   "cell_type": "markdown",
   "metadata": {
    "id": "xatAIYZ15UmA"
   },
   "source": [
    "**Ejercicio 1011** : Leer el número de hombres y de mujeres que hay en un grupo de estudiantes. Mostrar en pantalla el porcentaje de hombres y mujeres con un dígito decimal."
   ]
  },
  {
   "cell_type": "markdown",
   "metadata": {
    "id": "R3cOPgkPw0SP"
   },
   "source": [
    "#### Cadenas de caracteres (clase str)"
   ]
  },
  {
   "cell_type": "markdown",
   "metadata": {
    "id": "ax7ut0p5B4B_"
   },
   "source": [
    "**Ejercicio 1101** : Crear el fichero “frase.txt” con la cadena de caracteres (frase) introducida por teclado"
   ]
  },
  {
   "cell_type": "code",
   "execution_count": null,
   "metadata": {
    "id": "QRpz2M5Fq1Fh"
   },
   "outputs": [],
   "source": [
    "frase = input('Teclea una frase : ')\n",
    "fichero = open('frase.txt','w')\n",
    "fichero.write(frase)\n",
    "fichero.close()"
   ]
  },
  {
   "cell_type": "markdown",
   "metadata": {
    "id": "Y0gbD5ydB-Ag"
   },
   "source": [
    "**Ejercicio 1102 [Práctica 1]** : Crear el fichero “frase.txt” con la cadena de caracteres (frase) introducida por teclado. A continuación, leer el fichero \"frase.txt\" y mostrar su contenido en pantalla."
   ]
  },
  {
   "cell_type": "markdown",
   "metadata": {
    "id": "mNbLY7_Tq7aZ"
   },
   "source": [
    "**Ejercicio 1103** : Pedir por teclado una cadena de caracteres (frase) y crear un fichero llamado “salida.txt” con la frase repetida N veces. Cada frase en una línea distinta."
   ]
  },
  {
   "cell_type": "markdown",
   "metadata": {
    "id": "sAPxppKorMgZ"
   },
   "source": [
    "**Ejercicio 1104** : Leer un fichero de texto llamado “entrada.txt”, eliminar los espacios  y escribir el resultado en un fichero llamado “salida.txt”. Mostrar por pantalla el número total de caracteres leidos de \"entrada.txt\" y escritos en \"salida.txt\"."
   ]
  },
  {
   "cell_type": "code",
   "execution_count": null,
   "metadata": {
    "id": "2EhLCWQHsGit"
   },
   "outputs": [],
   "source": []
  },
  {
   "cell_type": "markdown",
   "metadata": {
    "id": "-e5xwg_FkV1C"
   },
   "source": [
    "**Ejercicio 1105 [Práctica 1]** : Leer por teclado una frase y mostrar en pantalla los 2 primeros caracteres de la frase, los 3 últimos caracteres de la frase y la frase completa sin espacios"
   ]
  },
  {
   "cell_type": "markdown",
   "metadata": {
    "id": "7GH9gmdZw0SP"
   },
   "source": [
    "#### Listas (clase list)"
   ]
  },
  {
   "cell_type": "markdown",
   "metadata": {
    "id": "HPytAGpZAKWg"
   },
   "source": [
    "**Ejercicio 1201** : De la siguiente lista de listas l = [ [1,'pepe'] , [2,'ramón'] , [3,'luis'] ], extrae y muestra en pantalla los 3 nombres."
   ]
  },
  {
   "cell_type": "markdown",
   "metadata": {
    "id": "WEKSUlDOsS-U"
   },
   "source": [
    "**Ejercicio 1202** : El fichero “numeros.txt” contiene una secuencia de números separados por un espacio. Imprimir en pantalla la suma de todos los números."
   ]
  },
  {
   "cell_type": "code",
   "execution_count": null,
   "metadata": {
    "id": "6bJiFZZAsxdS"
   },
   "outputs": [],
   "source": [
    "# Fichero > str > lista > map() > sumar"
   ]
  },
  {
   "cell_type": "markdown",
   "metadata": {
    "id": "L9LHaliW9KiH"
   },
   "source": [
    "**Ejercicio 1203 [Práctica 1]** : El fichero 'datos.txt' contiene en cada linea el nombre de un alumno. Mostrar en pantalla los nombres ordenados alfabéticamente separados por comas."
   ]
  },
  {
   "cell_type": "markdown",
   "metadata": {
    "id": "4lmz89XBxrMp"
   },
   "source": [
    "**Ejercicio 1204 [Práctica 1]** : El fichero “numeros.txt” contiene una secuencia de números enteros separados por un espacio. Eliminar los repetidos y escribirlos separados por comas en el fichero “salida.txt”."
   ]
  },
  {
   "cell_type": "markdown",
   "metadata": {
    "id": "-bWl-Ocxw0SQ"
   },
   "source": [
    "#### Tuplas (clase tuple)"
   ]
  },
  {
   "cell_type": "markdown",
   "metadata": {
    "id": "jgSvwGmJzeYE"
   },
   "source": [
    "**Ejercicio 1301** : Data la tupla t=(1,2,3,4,5,6), muestra en pantalla:\n",
    "- Primer y último elemento.\n",
    "- Todos los elementos menos el primero y el último.\n",
    "- Los elementos que ocupan las posiciones pares."
   ]
  },
  {
   "cell_type": "markdown",
   "metadata": {
    "id": "1rjs2W_b-4BX"
   },
   "source": [
    "**Ejercicio 1302** : Convierte la lista de listas  lista1 = [ [1,'pepe'] , [2,'ramón'] , [3,'luis'] ] en una lisla de tuplas lista2 = [ (1,'pepe') , (2,'ramón') , (3,'luis') ]"
   ]
  },
  {
   "cell_type": "code",
   "execution_count": null,
   "metadata": {
    "id": "Jj-FFf7U-Gkf"
   },
   "outputs": [],
   "source": [
    "# map y tuple()"
   ]
  },
  {
   "cell_type": "markdown",
   "metadata": {
    "id": "DZTWH8DAw0SQ"
   },
   "source": [
    "#### Conjuntos (clase set)"
   ]
  },
  {
   "cell_type": "markdown",
   "metadata": {
    "id": "sGnmR8_eyYPz"
   },
   "source": [
    "**Ejercicio 1401** : Dados los conjuntos A={1,2,3,4} y B={3,4,5,6}, muestra en pantalla:\n",
    "- Unión de ambos conjuntos\n",
    "- Elementos que están en ambos conjuntos\n",
    "- Elementos que están en A y que no están en B\n",
    "- Elementos que sólo están en A o en B (no están en ambos)"
   ]
  },
  {
   "cell_type": "markdown",
   "metadata": {
    "id": "q1_L6iBC1M3D"
   },
   "source": [
    "**Ejercicio 1402** : El fichero 'datos.txt' contiene varios numeros separados por comas. Muestra en pantalla los números sin repetir."
   ]
  },
  {
   "cell_type": "markdown",
   "metadata": {
    "id": "A7B8fMwrEvqw"
   },
   "source": [
    "**Ejercicio 1403 [Prácticas]** : Dado un archivo de texto 'archivo.txt', lee todas las palabras únicas del archivo (palabras sin repetir) y guárdalas en el fichero 'unicas.txt'."
   ]
  },
  {
   "cell_type": "markdown",
   "metadata": {
    "id": "i20eZe6vJAOe"
   },
   "source": [
    "**Ejercicio 1404** : Comparar el contenido de dos ficheros de texto \"entrada1.txt\" y \"entrada2.txt\" y mostrar los caracteres que tienen en común."
   ]
  },
  {
   "cell_type": "code",
   "execution_count": null,
   "metadata": {
    "id": "Mw111sFP_ZfC"
   },
   "outputs": [],
   "source": []
  },
  {
   "cell_type": "markdown",
   "metadata": {
    "id": "l6XS0rMI-3bd"
   },
   "source": [
    "**Ejercicio 1405 [Práctica 1]** : Comparar el contenido de dos ficheros de texto \"entrada1.txt\" y \"entrada2.txt\" y mostrar en pantalla los caracteres exclusivos de cada fichero."
   ]
  },
  {
   "cell_type": "markdown",
   "metadata": {
    "id": "uN0tUWRmGwyM"
   },
   "source": [
    "**Ejercicio 1406** : Introduce por teclado 3 palabras en minúsculas separadas por un espacio y muestra por pantalla las letras que se repiten en todas las palabras."
   ]
  },
  {
   "cell_type": "markdown",
   "metadata": {
    "id": "mCMwwt8uw0SR"
   },
   "source": [
    "#### Diccionarios (clase dict)"
   ]
  },
  {
   "cell_type": "markdown",
   "metadata": {
    "id": "viPFS6rAe0sE"
   },
   "source": [
    "**Ejercicio 1501** : Pedir un número del 1 al 7 y mostrar en pantalla a qué día de la semana corresponde.  \n",
    "(utilizar Diccionarios)"
   ]
  },
  {
   "cell_type": "code",
   "execution_count": null,
   "metadata": {
    "id": "2VPNdxXkCpNd"
   },
   "outputs": [],
   "source": []
  },
  {
   "cell_type": "markdown",
   "metadata": {
    "id": "EA-QOfaMw0SS"
   },
   "source": [
    "#### Rangos (clase range)"
   ]
  },
  {
   "cell_type": "markdown",
   "metadata": {
    "id": "iTZ740Bo5AP9"
   },
   "source": [
    "**Ejercicio 1601** : Crea una Lista con una secuencia de números entre N1 y N2. Se supone que N1<N2. Muestra la lista en pantalla."
   ]
  },
  {
   "cell_type": "markdown",
   "metadata": {
    "id": "rk5tkbPV6MEy",
    "tags": []
   },
   "source": [
    "<h1 style=\"color:Brown;text-align:center;\">ESTRUCTURAS CONDICIONALES</h1>"
   ]
  },
  {
   "cell_type": "markdown",
   "metadata": {
    "id": "OoLcvQ9owQw3"
   },
   "source": [
    "La instrucción condicional permite evaluar el estado del programa y tomar decisiones sobre qué código ejecutar en función del mismo.\n",
    "\n",
    "<h4 style=\"color:RoyalBlue;\">Condicional SIMPLE</h4>\n",
    "\n",
    "```python\n",
    "if condición :\n",
    "  # bloque código\n",
    "```\n",
    "Evalúa la expresión lógica **condición** y si es verdadera (True) ejecuta el **bloque de código**\n",
    "\n",
    "<h4 style=\"color:RoyalBlue;\">Condicional DOBLE</h4>\n",
    "\n",
    "```python\n",
    "if condición :\n",
    "  # bloque código 1\n",
    "else :\n",
    "  # bloque código 2\n",
    "```\n",
    "Evalúa la expresión lógica **condición**, si es verdadera (True) ejecuta el **bloque de código 1** y si es falsa (False) ejecuta el **bloque de código 2**.\n",
    "\n",
    "<h4 style=\"color:RoyalBlue;\">Condicional MULTIPLE</h4>\n",
    "\n",
    "```python\n",
    "if condición1 :\n",
    "  # bloque código 1\n",
    "elif condición2 :\n",
    "  # bloque código 2\n",
    "elif condición3 :\n",
    "  # bloque código 3\n",
    "...\n",
    "else :\n",
    "  # bloque código N\n",
    "```\n",
    "Evalúa la expresión lógica **condición1** y si es verdadera (True) ejecuta el **bloque de código 1** y salta al final de la estructura; si no, evalúa la condición2 y si es verdadera (True) ejecuta el **bloque de codigo 2** y salta al final de la estructura,... y así sucesivamente hasta que una de las condiciones se cumpla.  \n",
    "Si ninguna condición es cierta, entra en el **else** (en caso contrario) y ejecuta el **bloque de código N**.  \n",
    "Puede contener varios bloques **elif** pero solo un **else** al final (opcional).\n",
    "\n",
    "Un **BLOQUE DE CÓDIGO** es un grupo de sentencias con la misma **indentación** o **sangrado**.\n"
   ]
  },
  {
   "cell_type": "code",
   "execution_count": null,
   "metadata": {
    "id": "rDHeeTRV11Es"
   },
   "outputs": [],
   "source": [
    "# Condicional simple\n",
    "edad = 14\n",
    "if edad <= 18 :\n",
    "  print('Menor de edad')"
   ]
  },
  {
   "cell_type": "code",
   "execution_count": null,
   "metadata": {
    "id": "rDHeeTRV11Es"
   },
   "outputs": [],
   "source": [
    "# Condicional doble\n",
    "edad = 20\n",
    "if edad <= 18 :\n",
    "  print('Menor de edad')\n",
    "else:\n",
    "  print('Mayor de edad')    "
   ]
  },
  {
   "cell_type": "code",
   "execution_count": null,
   "metadata": {
    "id": "rDHeeTRV11Es"
   },
   "outputs": [],
   "source": [
    "# Condicional múltiple\n",
    "empleados = 8\n",
    "if empleados < 10 :\n",
    "  print('Microempresa')\n",
    "elif empleados < 50 :\n",
    "  print('Pequeña empresa')\n",
    "elif empleados < 250:\n",
    "  print('Mediana empresa')\n",
    "else:\n",
    "  print('Gran empresa')"
   ]
  },
  {
   "cell_type": "markdown",
   "metadata": {
    "id": "DEU5vL2h19ba",
    "tags": []
   },
   "source": [
    "<h2 style=\"color:DarkBlue;text-align:center;\">Ejercicios</h2>"
   ]
  },
  {
   "cell_type": "markdown",
   "metadata": {
    "id": "oSa1yaj_tFeV"
   },
   "source": [
    "#### Condicional SIMPLE"
   ]
  },
  {
   "cell_type": "markdown",
   "metadata": {
    "id": "uPZPlbFQe0Ly"
   },
   "source": [
    "**Ejercicio 2001** : Leer el nombre, primer apellido y segundo apellido de dos personas e indicar si pueden ser hermanos."
   ]
  },
  {
   "cell_type": "code",
   "execution_count": null,
   "metadata": {
    "id": "K7FPTZouB1QH"
   },
   "outputs": [],
   "source": []
  },
  {
   "cell_type": "markdown",
   "metadata": {
    "id": "ynHn7llsheDn"
   },
   "source": [
    "**Ejercicio 2002** : ¿Cuántos intereses genera un capital?. Si los intereses exceden los 7000€ se reinvierten. En este caso, ¿cuál es el capital?"
   ]
  },
  {
   "cell_type": "code",
   "execution_count": null,
   "metadata": {
    "id": "jo9HH52UhdKz"
   },
   "outputs": [],
   "source": [
    "'''\n",
    "___Análisis___:\n",
    "Entrada: capital,%interes\n",
    "Proceso: calcular intereses\n",
    "    si intereses>7000\n",
    "      calcular capital final\n",
    "Salida: intereses, capital final\n",
    "___Algoritmo___:\n",
    "Inicio Capital\n",
    "\tleer p_int,cap\n",
    "\tint=cap*p_int\n",
    "\tsi int>7000 entonces\n",
    "\t\tcapf=cap+int\n",
    "\t\tescribir “capital:“,capf\n",
    "\tfin-si\n",
    "\tescribir “intereses: “, int\n",
    "fin\n",
    "'''"
   ]
  },
  {
   "cell_type": "markdown",
   "metadata": {
    "id": "sV2YKbiRetlX"
   },
   "source": [
    "**Ejercicio 2003** : Leer una hora (hora, minuto y segundo) e indicar si la hora es correcta, en caso contrario no indicar nada."
   ]
  },
  {
   "cell_type": "code",
   "execution_count": null,
   "metadata": {
    "id": "S4Z_5LJtp_Ya"
   },
   "outputs": [],
   "source": []
  },
  {
   "cell_type": "markdown",
   "metadata": {
    "id": "4JUvXcmGtOMP"
   },
   "source": [
    "#### Condicional DOBLE"
   ]
  },
  {
   "cell_type": "markdown",
   "metadata": {
    "id": "wWlAiyw7e0ba"
   },
   "source": [
    "**Ejercicio 2101** : Pedir dos números y decir si ambos son pares o impares.\n"
   ]
  },
  {
   "cell_type": "markdown",
   "metadata": {
    "id": "nVzAdhCJe0g5"
   },
   "source": [
    "**Ejercicio 2102 [Práctica 2]** : Leer el nombre, primer apellido y segundo apellido de dos personas e indicar pueden ser hermanos o primos."
   ]
  },
  {
   "cell_type": "markdown",
   "metadata": {
    "id": "CvzU2V3ysJzC"
   },
   "source": [
    "**Ejercicio 2103** : Comparar el contenido de dos ficheros de texto e indicar si son iguales."
   ]
  },
  {
   "cell_type": "markdown",
   "metadata": {
    "id": "KfXA-Xa8hxeb"
   },
   "source": [
    "**Ejercicio 2104** : Un alumno aprueba la asignatura si su promedio de 3 calificaciones es mayor o igual a 5, suspende en otro caso."
   ]
  },
  {
   "cell_type": "code",
   "execution_count": null,
   "metadata": {
    "id": "MYwW5jlmhx3O"
   },
   "outputs": [],
   "source": [
    "'''\n",
    "___Análisis___\n",
    "Entrada: notas\n",
    "Proceso: calcular promedio\n",
    "         si promedio>=5 aprobado\n",
    "         si no suspenso\n",
    "Salida: calificación\n",
    "___Algorimo___\n",
    "Inicio nota\n",
    "\tleer c1,c2,c3\n",
    "\tprom=(c1+c2+c3)/3\n",
    "\tsi prom>=5 entonces\n",
    "\t\tescribir “aprobado”\n",
    "\tsi no\n",
    "\t\tescribir “suspenso”\n",
    "\tfin-si\n",
    "fin\n",
    "'''"
   ]
  },
  {
   "cell_type": "markdown",
   "metadata": {
    "id": "O1ninDLqe2Af"
   },
   "source": [
    "**Ejercicio 2105** : Leer la edad de una persona e indicar cuantas veces podría haber votado, suponiendo que hay elecciones cada 4 años y que puede votar cuando cumple los 18 años."
   ]
  },
  {
   "cell_type": "markdown",
   "metadata": {
    "id": "GuGBtJuk3kAA"
   },
   "source": [
    "**Ejercicio 2106****** : El fichero “dni.txt” contiene separados por un espacio, los DNI's de los empleados de una empresa. Mostrar en pantalla los DNIs repetidos y eliminarlos del fichero."
   ]
  },
  {
   "cell_type": "code",
   "execution_count": null,
   "metadata": {
    "id": "mHR1n3Wc4DBp"
   },
   "outputs": [],
   "source": []
  },
  {
   "cell_type": "markdown",
   "metadata": {
    "id": "9Z8BWeSRCpgo"
   },
   "source": [
    "**Ejercicio 2107 [Práctica 2]** : El fichero “dni.txt” contiene separados por un espacio, los DNI's de los empleados de una empresa. Pedir por teclado un DNI y comprobar si el empleado está en la empresa. Si no lo está, añadir el DNI al fichero dni.txt y mostrar en pantalla el mensaje 'DNI añadido'."
   ]
  },
  {
   "cell_type": "markdown",
   "metadata": {
    "id": "FbS-gxPntOWB"
   },
   "source": [
    "#### Condicional MÚLTIPLE"
   ]
  },
  {
   "cell_type": "markdown",
   "metadata": {
    "id": "qlBl96Hqe0lP"
   },
   "source": [
    "**Ejercicio 2201** : Leer 3 números e imprimir el mayor de los 3. Si ningún número es el mayor de los tres, debe mostrar el mensaje “no hay mayor”."
   ]
  },
  {
   "cell_type": "markdown",
   "metadata": {
    "id": "XXiMEL0ouaIt"
   },
   "source": [
    "**Ejercicio 2202** : Leer 3 números enteros y mostrarlos en pantalla de mayor a menor (separados por un punto). Por ejemplo:  97.32.15"
   ]
  },
  {
   "cell_type": "markdown",
   "metadata": {
    "id": "ogwXtCUikjBh"
   },
   "source": [
    "**Ejercicio 2203** : En una tienda se hace un descuento sobre el valor de la compra según el color de la bolita que el cliente saque al pagar en caja. Si la bolita es blanca no hay descuento, si es verde, el descuento es del 10%, si es amarilla es del 25%, si es azul del 50% y si es roja del 100%. ¿Cuál es el importe final de la compra?"
   ]
  },
  {
   "cell_type": "code",
   "execution_count": null,
   "metadata": {
    "id": "EaDbrjC3ki0f"
   },
   "outputs": [],
   "source": [
    "''' ___Análisis___\n",
    "Entrada: importe_compra, color_bola\n",
    "Proceso: Calcular descuento según color:\n",
    "  Si color=blanco entonces desc=0,\n",
    "  si no,\n",
    "    si es verde desc=10,\n",
    "    si no,\n",
    "      si es amarillo desc=25,\n",
    "      si no,\n",
    "        si es azul desc=50 y\n",
    "        si no desc=100\n",
    "  Calcular importe_final\n",
    "Salida: importe_final\n",
    "___Algoritmo estructura SI___\n",
    "Inicio compra\n",
    "  leer tc,color\n",
    "  si color=blanco entonces d=0\n",
    "  si no\n",
    "    si color=verde entonces d=tc*0.10\n",
    "    si no\n",
    "      si color=amarillo entonces d=tc*0.25\n",
    "\t    si no\n",
    "        si color=azul entonces d=tc*0.50\n",
    "\t      si no d=tc\n",
    "\t      fin-si\n",
    "      fin-si\n",
    "    fin-si\n",
    "  fin-si\n",
    "  imp=tc-d\n",
    "  escribir imp\n",
    "fin\n",
    "'''"
   ]
  },
  {
   "cell_type": "code",
   "execution_count": null,
   "metadata": {
    "id": "ez58YALZmH8X"
   },
   "outputs": [],
   "source": [
    "''' ___Algoritmo estructura CASO___\n",
    "Inicio compra\n",
    "\tleer tc,color\n",
    "\tcaso color\n",
    "\t\tblanco: d=0\n",
    "\t\tverde: d=tc*0.10\n",
    "\t\tamarillo: d=tc*0.25\n",
    "\t\tazul: d=tc*0.50\n",
    "\t\trojo: d=tc\n",
    "\t\t(otro caso: ….)\n",
    "\tfin-caso\n",
    "\timp=tc-d\n",
    "\tescribir imp\n",
    "fin\n",
    "'''"
   ]
  },
  {
   "cell_type": "code",
   "execution_count": null,
   "metadata": {},
   "outputs": [],
   "source": [
    "# utilizar diccionario para descuentos"
   ]
  },
  {
   "cell_type": "markdown",
   "metadata": {
    "id": "yya_wVxre2DV"
   },
   "source": [
    "**Ejercicio 2204** : Calcular la paga neta de un trabajador conociendo el número de horas trabajadas, salario_hora y porcentaje de impuestos. Las horas que excedan de 40 se abonan al doble del salario_hora. Presentar resultado con 2 decimales."
   ]
  },
  {
   "cell_type": "markdown",
   "metadata": {
    "id": "TDzCPGhLe0pL"
   },
   "source": [
    "**Ejercicio 2205 [Práctica 2]** : La empresa paga semanalmente a sus trabajadores un salario base por hora trabajada. Calcular el sueldo semanal de un trabajador si las primeras 40 horas se pagan al salario base, de la hora 41 a 50 se pagan al doble del salario base y de la hora 51 en adelante se pagan al triple del salario base."
   ]
  },
  {
   "cell_type": "markdown",
   "metadata": {
    "id": "wIZjek3Re0ux"
   },
   "source": [
    "**Ejercicio 2206 [Práctica 2]** : En un almacén los artículos se codifican de la forma “**nnnct**”, donde **nnn** es el número de artículo, **c** es el color (”R” para rojo, “A” para azul) y **t** es la talla (“P” para pequeña, “G” para grande y “X” para extragrande). A partir del código de artículo introducido, indicar cuál es el número de artículo, cual su color y cual su talla. Deberá mostrar el mensaje “no codificado” si se introducen valores no contemplados en el color o la talla."
   ]
  },
  {
   "cell_type": "markdown",
   "metadata": {
    "id": "Y6qdde2Be2Fj"
   },
   "source": [
    "**Ejercicio 2207 [Práctica 2]** : Leer una hora (hora, minuto y segundo) y mostrar la hora que sería un segundo más tarde (hora introducida + 1 segundo) en el formato “hora:minuto:segundo”"
   ]
  },
  {
   "cell_type": "markdown",
   "metadata": {
    "id": "-pRs_8QIe2Hq"
   },
   "source": [
    "**Ejercicio 2208** : Leer el peso de un objeto en Kg (número entero) y mostrar esa cantidad en otra unidad de medida de masa en función de la opción numérica seleccionada: (1) Hectogramos, (2) Decagramos, (3) Gramos, (4) Decigramos, (5) Centigramos y (6) Miligramos. Mostrar en pantalla un menú con las opciones posibles."
   ]
  },
  {
   "cell_type": "markdown",
   "metadata": {
    "id": "oGIRuFMnuZtv"
   },
   "source": [
    "**Ejercicio 2209** : Leer por teclado una cadena de texto con un correo electrónico e indicar por pantalla si es correcto o incorrecto. Para ello, la cadena debe contener lo siguiente y en este orden : *una o varias palabras separadas por un punto, un  símbolo “@”, una o varias palabras separadas por un punto, un punto y una palabra a elegir entre “com”, “es” o “net”*."
   ]
  },
  {
   "cell_type": "code",
   "execution_count": null,
   "metadata": {},
   "outputs": [],
   "source": []
  },
  {
   "cell_type": "markdown",
   "metadata": {
    "id": "6DFk6Xi7uZ3v"
   },
   "source": [
    "**Ejercicio 2210 [Práctica 2]** : Leer por teclado una cadena de texto con una fecha en formato “dd/mm/aaaa”. Escribir en pantalla un mensaje que indique si la fecha es correcta o incorrecta. Para que sea correcta debe cumplir lo siguiente: día = 1...28/30/31 (en función del mes), mes = 1...12 y año = 2000...2024. Ejemplo: 23/12/2022"
   ]
  },
  {
   "cell_type": "markdown",
   "metadata": {
    "id": "ia9jwirVBHUv",
    "tags": []
   },
   "source": [
    "<h1 style=\"color:Brown;text-align:center;\">ESTRUCTURAS CÍCLICAS</h1>"
   ]
  },
  {
   "cell_type": "markdown",
   "metadata": {
    "id": "rasTgzuw4OLv",
    "tags": []
   },
   "source": [
    "<h2 style=\"color:DarkBlue;text-align:center;\">CONDICIONALES (WHILE)</h2>"
   ]
  },
  {
   "cell_type": "markdown",
   "metadata": {
    "id": "GfY4SQtZ8snX"
   },
   "source": [
    "Repite la ejecución del bloque de código mientras la expresión lógica condición sea cierta.\n",
    "\n",
    "```python\n",
    "while condición :\n",
    "  # bloque código\n",
    "```\n",
    "En Python no existe la estructura de repetición con condición al final (DO-WHILE). Se puede implementar con la estructura WHILE si nos aseguramos que la condición se cumpla antes del bucle."
   ]
  },
  {
   "cell_type": "code",
   "execution_count": null,
   "metadata": {
    "id": "eZhDuhM79DQL"
   },
   "outputs": [],
   "source": [
    "# Pregunta al usuario por un número hasta que introduce 0.\n",
    "num = None\n",
    "while num != 0:\n",
    "    num = int(input('Introduce un número: '))\n",
    "    print('>>>',num)"
   ]
  },
  {
   "cell_type": "markdown",
   "metadata": {
    "id": "ia9jwirVBHUv",
    "tags": []
   },
   "source": [
    "<h2 style=\"color:DarkBlue;text-align:center;\">ITERATIVAS (FOR)</h2>"
   ]
  },
  {
   "cell_type": "markdown",
   "metadata": {
    "id": "Kso2OpOs9sVV"
   },
   "source": [
    "Repite la ejecución del bloque de código para cada elemento de la secuencia, asignado dicho elemento a i en cada repetición.\n",
    "\n",
    "```python\n",
    "for i in secuencia/contenedor:\n",
    "  # bloque código\n",
    "```\n",
    "\n",
    "Se utiliza fundamentalmente para recorrer secuencias o colecciones de objetos: listas, tuplas, rangos, conjuntos o diccionarios."
   ]
  },
  {
   "cell_type": "code",
   "execution_count": null,
   "metadata": {
    "id": "w4qAQ7109t-p"
   },
   "outputs": [],
   "source": [
    "for x in [1,2,3,6]:\n",
    "    print(x,end='*')"
   ]
  },
  {
   "cell_type": "code",
   "execution_count": null,
   "metadata": {
    "id": "w4qAQ7109t-p"
   },
   "outputs": [],
   "source": [
    "for letra in 'Hola':\n",
    "    print(letra, end='*')"
   ]
  },
  {
   "cell_type": "code",
   "execution_count": null,
   "metadata": {
    "id": "w4qAQ7109t-p"
   },
   "outputs": [],
   "source": [
    "for i in range(0, 10, 2):\n",
    "    print(i, end=\",\")"
   ]
  },
  {
   "cell_type": "markdown",
   "metadata": {
    "id": "xoeH8_OR9IMW",
    "tags": []
   },
   "source": [
    "<h2 style=\"color:DarkBlue;text-align:center;\">Ejercicios</h2>"
   ]
  },
  {
   "cell_type": "markdown",
   "metadata": {},
   "source": [
    "#### Números"
   ]
  },
  {
   "cell_type": "markdown",
   "metadata": {},
   "source": [
    "**Ejercicio 3001** : Sumar N números enteros leídos desde el teclado."
   ]
  },
  {
   "cell_type": "markdown",
   "metadata": {},
   "source": [
    "**Ejercicio 3002 [Práctica 3]** : Leer varios números enteros desde el teclado e imprimir los positivos. Finalizar la entrada de números con el valor cero."
   ]
  },
  {
   "cell_type": "markdown",
   "metadata": {},
   "source": [
    "**Ejercicio 3003** : Calcular el promedio de N notas de un alumno."
   ]
  },
  {
   "cell_type": "markdown",
   "metadata": {},
   "source": [
    "**Ejercicio 3004 [Práctica 3]** : Pedir dos números enteros positivos mayores que cero. Mostrar todos los números que van desde el menor al mayor, la suma y la media de todos ellos."
   ]
  },
  {
   "cell_type": "markdown",
   "metadata": {},
   "source": [
    "**Ejercicio 3005** : Que escriba las tablas de multiplicar del 0 al 10"
   ]
  },
  {
   "cell_type": "markdown",
   "metadata": {},
   "source": [
    "**Ejercicio 3006** : Que muestre los números del 1 al 100 en una tabla de 10x10"
   ]
  },
  {
   "cell_type": "markdown",
   "metadata": {},
   "source": [
    "**Ejercicio 3007** : Leer 10 números y obtener de cada uno su cubo y su cuarta. Escribir la suma de todos los números."
   ]
  },
  {
   "cell_type": "code",
   "execution_count": null,
   "metadata": {
    "id": "PfOuc9i6o4P8"
   },
   "outputs": [],
   "source": [
    "'''\n",
    "___Análisis___\n",
    "Entrada: 10 numeros\n",
    "Proceso: Repetir 10 veces\n",
    "            leer número, calcular cubo, cuarta, sumarlo\n",
    "Salida: número,cubo,cuarta,suma\n",
    "___Algoritmo___\n",
    "Inicio\n",
    "    suma=0\n",
    "    n=1\n",
    "    mientras n<=10\n",
    "        leer num\n",
    "        cubo=num*num*num\n",
    "        cuarta=cubo*num\n",
    "        escribir num,cubo,cuarta\n",
    "        suma=suma+num\n",
    "        n=n+1\n",
    "    fin-repetir\n",
    "    escribir “la suma es “, suma\n",
    "fin\n",
    "'''"
   ]
  },
  {
   "cell_type": "markdown",
   "metadata": {},
   "source": [
    "**Ejercicio 3008** : Leer sexo de n personas. ¿Cuantos hombres y cuantas mujeres hay en un grupo?."
   ]
  },
  {
   "cell_type": "code",
   "execution_count": null,
   "metadata": {
    "id": "e-r7k255xWbZ"
   },
   "outputs": [],
   "source": [
    "'''\n",
    "__Análisis__\n",
    "Entrada: n (número de personas)\n",
    "Proceso: Repetir n veces\n",
    "            leer sexo,\n",
    "            si sexo=H incrementar H,\n",
    "            si no\tincrementar M\n",
    "Salida: nºHombres,nºMujeres\n",
    "__Algoritmo__\n",
    "Inicio\n",
    "  h=0\n",
    "  m=0\n",
    "  leer n\n",
    "  mientras n>0 (hacer)\n",
    "    leer sexo\n",
    "    si sexo=‘hombre’ entonces\n",
    "      h=h+1\n",
    "    si no\n",
    "      m=m+1\n",
    "    fin-si\n",
    "    n=n-1\n",
    "  fin-mientras\n",
    "  escribir “nº hombres”, h\n",
    "  escribir “nº mujeres”,m\n",
    "fin\n",
    "'''\n"
   ]
  },
  {
   "cell_type": "markdown",
   "metadata": {},
   "source": [
    "**Ejercicio 3009** : Un cliente al hacer la compra, cada vez que coge un artículo anota su precio, cantidad y calcula su coste. Va acumulando lo que gasta en todos los artículos hasta que decide dejar de comprar. Obtener el total de su compra."
   ]
  },
  {
   "cell_type": "code",
   "execution_count": null,
   "metadata": {
    "id": "jitnwtON0fzL"
   },
   "outputs": [],
   "source": [
    "'''\n",
    "__Análisis__\n",
    "Entrada: nº, precio,\n",
    "Proceso: Repetir\n",
    "            leer precio,cantidad\n",
    "            acumular compra en total\n",
    "            leer ¿seguir comprando?\n",
    "         hasta fin de la compra\n",
    "Salida:  total\n",
    "__Algoritmo__\n",
    "Inicio\n",
    "  repetir\n",
    "      leer precio\n",
    "      leer num\n",
    "      coste=precio*num\n",
    "      total=total+coste\n",
    "      leer sigue_comprando\n",
    "  hasta sigue_comprando=“no”\n",
    "  escribir total\n",
    "fin\n",
    "'''"
   ]
  },
  {
   "cell_type": "markdown",
   "metadata": {},
   "source": [
    "**Ejercicio 3010** : Calcular el mínimo común múltiplo de dos números enteros positivos."
   ]
  },
  {
   "cell_type": "markdown",
   "metadata": {},
   "source": [
    "**Ejercicio 3011 [Práctica 3]** : Calcular el factorial de un número."
   ]
  },
  {
   "cell_type": "markdown",
   "metadata": {},
   "source": [
    "**Ejercicio 3012** : Calcular el factorial de N números enteros positivos leídos desde el teclado. "
   ]
  },
  {
   "cell_type": "markdown",
   "metadata": {},
   "source": [
    "**Ejercicio 3013 [Práctica 3]** : Un número primo es un número natural mayor que 1 que tiene únicamente dos divisores positivos distintos: él mismo y el 1. Calcular el mayor número primo entre 1 y N."
   ]
  },
  {
   "cell_type": "markdown",
   "metadata": {},
   "source": [
    "**Ejercicio 3014** : Se tienen N alumnos. Calcular la nota media, la nota más alta y la nota más baja de todo el grupo."
   ]
  },
  {
   "cell_type": "markdown",
   "metadata": {},
   "source": [
    "**Ejercicio 3015** : Calcular la distancia recorrida (metros) cada segundo por un cuerpo durante los primeros 10 segundos de caída libre, sabiendo que la distancia recorrida viene dada por la expresión: S=1/2*at2 (S distancia en metros, a: aceleración debida a la gravedad 9,8m/s2, t: tiempo en segundos)"
   ]
  },
  {
   "cell_type": "markdown",
   "metadata": {},
   "source": [
    "#### Cadenas"
   ]
  },
  {
   "cell_type": "markdown",
   "metadata": {},
   "source": [
    "**Ejercicio 3101** : Indicar cuantos dígitos pares tiene un número entero positivo N."
   ]
  },
  {
   "cell_type": "markdown",
   "metadata": {},
   "source": [
    "**Ejercicio 3102** : Indicar si el número real introducido es correcto (solo puede contener dígitos, el punto decimal y el signo)"
   ]
  },
  {
   "cell_type": "markdown",
   "metadata": {},
   "source": [
    "**Ejercicio 3103** : Introducir un número N e identificar si es un número palíndromo. (Un número palíndromo es un número natural que se lee igual de derecha a izquierda y de izquierda a derecha. Por ejemplo 1348431)."
   ]
  },
  {
   "cell_type": "markdown",
   "metadata": {},
   "source": [
    "**Ejercicio 3104** : Introducir una frase en minúsculas y contar las vocales y las consonantes."
   ]
  },
  {
   "cell_type": "markdown",
   "metadata": {},
   "source": [
    "**Ejercicio 3105 [Práctica 3]** : Contar las vocales que contiene el fichero “entrada.txt”."
   ]
  },
  {
   "cell_type": "markdown",
   "metadata": {},
   "source": [
    "**Ejercicio 3106** : Introducir una cadena de caracteres con varios números separados por un espacio. Crear el fichero “salida.txt” con los números separados por comas y con una coma al final."
   ]
  },
  {
   "cell_type": "markdown",
   "metadata": {},
   "source": [
    "**Ejercicio 3107** : Pedir por teclado una cadena de caracteres (frase) y crear un fichero llamado “salida.txt” con la frase repetida N veces. Cada frase en una línea distinta."
   ]
  },
  {
   "cell_type": "markdown",
   "metadata": {},
   "source": [
    "**Ejercicio 3108** : Leer los caracteres de un fichero de texto llamado “entrada.txt”, eliminar los espacios y escribirlos en otro fichero llamado “salida.txt”. Mostrar por pantalla el número total de espacios eliminados."
   ]
  },
  {
   "cell_type": "markdown",
   "metadata": {},
   "source": [
    "**Ejercicio 3109** : Pedir por teclado un número entero N y escribir en un fichero llamado “salida.txt” un cuadrado de NxN asteriscos (N líneas con N asteriscos cada una)."
   ]
  },
  {
   "cell_type": "markdown",
   "metadata": {},
   "source": [
    "**Ejercicio 3110** : Leer los caracteres de un fichero de texto llamado “entrada.txt” y escribirlos en otro fichero llamado “salida.txt”. Mostrar por pantalla el número total de caracteres leídos/escritos."
   ]
  },
  {
   "cell_type": "markdown",
   "metadata": {},
   "source": [
    "**Ejercicio 3111** : Comparar el contenido de dos ficheros de texto e indicar si son iguales."
   ]
  },
  {
   "cell_type": "markdown",
   "metadata": {},
   "source": [
    "**Ejercicio 3112** : Escribir la frase en pantalla “Desea salir? (S/N)” hasta que el usuario pulse la tecla ‘S’ o ‘s’."
   ]
  },
  {
   "cell_type": "markdown",
   "metadata": {},
   "source": [
    "**Ejercicio 3113 [Práctica 3]** : Pedir por teclado un número N>0. Reiterar la petición hasta que el número sea correcto (control de entrada)."
   ]
  },
  {
   "cell_type": "markdown",
   "metadata": {},
   "source": [
    "**Ejercicio 3114** : Pedir por teclado un numero entero y verificar que es correcto. Reiterar la petición hasta que el número sea correcto(control de entrada)."
   ]
  },
  {
   "cell_type": "markdown",
   "metadata": {},
   "source": [
    "**Ejercicio 3115 [Práctica 3]** : Pedir por teclado un numero real y verificar que es correcto. Reiterar la petición hasta que el número sea correcto (control de entrada)."
   ]
  },
  {
   "cell_type": "markdown",
   "metadata": {},
   "source": [
    "**Ejercicio 3116** : Pedir por teclado un DNI y verificar que es correcto (8 dígitos + 1 letra). Reiterar la petición hasta que sea correcto (control de entrada). "
   ]
  },
  {
   "cell_type": "markdown",
   "metadata": {},
   "source": [
    "**Ejercicio 3117 [Práctica 3]** : Comparar el contenido de dos ficheros de texto e imprimir en pantalla los caracteres no coinciden."
   ]
  },
  {
   "cell_type": "markdown",
   "metadata": {
    "tags": []
   },
   "source": [
    "#### 1 Lista"
   ]
  },
  {
   "cell_type": "markdown",
   "metadata": {
    "tags": []
   },
   "source": [
    "**Ejercicio 3201** : El fichero “palabras.txt” contiene varias palabras separadas por un espacio. Leer el fichero completo y guardarlo en una cadena. "
   ]
  },
  {
   "cell_type": "code",
   "execution_count": null,
   "metadata": {
    "tags": []
   },
   "outputs": [],
   "source": [
    "f = open('palabras.txt','r')\n",
    "cadena = f.read()\n",
    "f.close()"
   ]
  },
  {
   "cell_type": "markdown",
   "metadata": {
    "tags": []
   },
   "source": [
    "**a)** Crear una lista con las palabras.  "
   ]
  },
  {
   "cell_type": "code",
   "execution_count": null,
   "metadata": {},
   "outputs": [],
   "source": [
    "lista_palabras = cadena.split(' ')"
   ]
  },
  {
   "cell_type": "markdown",
   "metadata": {
    "tags": []
   },
   "source": [
    "**b)** Crear un conjunto con las palabras.  "
   ]
  },
  {
   "cell_type": "code",
   "execution_count": null,
   "metadata": {},
   "outputs": [],
   "source": [
    "conjunto_palabras = set(lista_palabras)"
   ]
  },
  {
   "cell_type": "markdown",
   "metadata": {
    "tags": []
   },
   "source": [
    "**c)** Crear una lista con los caracteres.  "
   ]
  },
  {
   "cell_type": "code",
   "execution_count": null,
   "metadata": {},
   "outputs": [],
   "source": [
    "lista_caracteres = list(cadena)"
   ]
  },
  {
   "cell_type": "markdown",
   "metadata": {
    "tags": []
   },
   "source": [
    "**d)** Crear un conjunto con los caracteres.  "
   ]
  },
  {
   "cell_type": "code",
   "execution_count": null,
   "metadata": {},
   "outputs": [],
   "source": [
    "conjunto_caracteres = set(cadena)"
   ]
  },
  {
   "cell_type": "markdown",
   "metadata": {
    "tags": []
   },
   "source": [
    "**e)** Crear una lista de conjuntos donde cada uno contiene los caracteres de una palabra"
   ]
  },
  {
   "cell_type": "code",
   "execution_count": null,
   "metadata": {
    "tags": []
   },
   "outputs": [],
   "source": [
    "lista_conjuntos = list(map(set,lista_palabras))"
   ]
  },
  {
   "cell_type": "markdown",
   "metadata": {
    "tags": []
   },
   "source": [
    "**Ejercicio 3202** : El fichero “numeros-enteros.txt” contiene varios números enteros separados por comas. Leer el fichero completo y guardarlo en una cadena.  "
   ]
  },
  {
   "cell_type": "code",
   "execution_count": null,
   "metadata": {},
   "outputs": [],
   "source": [
    "f = open('numeros-enteros.txt','r')\n",
    "cadena = f.read()\n",
    "f.close()"
   ]
  },
  {
   "cell_type": "markdown",
   "metadata": {
    "tags": []
   },
   "source": [
    "**a)** Crear una lista con los números en formato entero.  "
   ]
  },
  {
   "cell_type": "code",
   "execution_count": null,
   "metadata": {},
   "outputs": [],
   "source": [
    "lista = cadena.split(',')\n",
    "lista_enteros = list(map(float,lista))"
   ]
  },
  {
   "cell_type": "markdown",
   "metadata": {
    "tags": []
   },
   "source": [
    "**b)** Crear un conjunto con los números enteros en formato entero."
   ]
  },
  {
   "cell_type": "code",
   "execution_count": null,
   "metadata": {
    "tags": []
   },
   "outputs": [],
   "source": [
    "conjunto_enteros = set(map(int,lista))"
   ]
  },
  {
   "cell_type": "markdown",
   "metadata": {},
   "source": [
    "**c)** Mostrar en pantalla la suma de todos los números.  \n",
    "**d)** Mostrar en pantalla los números sin repetir y ordenados de menor a mayor.  \n",
    "**e)** Mostrar en pantalla la cantidad de veces que se repite cada número.  \n",
    "**f)** Mostrar en pantalla la cantidad de veces que se repite cada dígito.  \n",
    "**g)** Mostrar en pantalla los números insertando entre cada pareja la media de ambos (número real con dos decimales).  "
   ]
  },
  {
   "cell_type": "markdown",
   "metadata": {
    "tags": []
   },
   "source": [
    "**Ejercicio 3203** : El fichero “numeros-reales.txt” contiene varios números reales separados por comas. Leer el fichero completo y guardarlo en una cadena.  "
   ]
  },
  {
   "cell_type": "code",
   "execution_count": null,
   "metadata": {},
   "outputs": [],
   "source": [
    "f = open('numeros-reales.txt','r')\n",
    "cadena = f.read()\n",
    "f.close()"
   ]
  },
  {
   "cell_type": "markdown",
   "metadata": {
    "tags": []
   },
   "source": [
    "**a)** Crear una lista con los números en formato real.  "
   ]
  },
  {
   "cell_type": "code",
   "execution_count": null,
   "metadata": {},
   "outputs": [],
   "source": [
    "lista = cadena.split(',')\n",
    "lista_reales = list(map(float,lista))"
   ]
  },
  {
   "cell_type": "markdown",
   "metadata": {
    "tags": []
   },
   "source": [
    "**b)** Crear un conjunto con los números en formato real."
   ]
  },
  {
   "cell_type": "code",
   "execution_count": null,
   "metadata": {
    "tags": []
   },
   "outputs": [],
   "source": [
    "conjunto_reales = set(map(float,lista))"
   ]
  },
  {
   "cell_type": "markdown",
   "metadata": {
    "tags": []
   },
   "source": [
    "**c)** Crear una lista con los números en formato real con un máximo de 2 decimales."
   ]
  },
  {
   "cell_type": "markdown",
   "metadata": {
    "tags": []
   },
   "source": [
    "#### Varias listas"
   ]
  },
  {
   "cell_type": "markdown",
   "metadata": {
    "tags": []
   },
   "source": [
    "**Ejercicio 3301** : El fichero \"loteria.txt\" contiene los resultados de un sorteo. Cada linea contiene separados por comas, el número premiado, el premio y la ciudad donde se vendió el número. Leer el fichero completo y guardarlo en una cadena."
   ]
  },
  {
   "cell_type": "code",
   "execution_count": null,
   "metadata": {
    "tags": []
   },
   "outputs": [],
   "source": [
    "f = open('loteria.txt','r')\n",
    "cadena = f.read()\n",
    "f.close()"
   ]
  },
  {
   "cell_type": "markdown",
   "metadata": {
    "tags": []
   },
   "source": [
    "**a)** Crear 3 listas independientes con los números, premios y ciudades. Los 3 datos de cada linea del fichero ocuparán la misma posición en las 3 listas."
   ]
  },
  {
   "cell_type": "code",
   "execution_count": null,
   "metadata": {
    "tags": []
   },
   "outputs": [],
   "source": [
    "lineas = cadena.split('\\n')\n",
    "numeros = []\n",
    "premios = []\n",
    "ciudades = []\n",
    "for linea in lineas:\n",
    "    datos = linea.split(',')\n",
    "    numeros.append(datos[0])\n",
    "    premios.append(datos[1])\n",
    "    ciudades.append(datos[2])"
   ]
  },
  {
   "cell_type": "markdown",
   "metadata": {
    "tags": []
   },
   "source": [
    "**b)** Convertir a números enteros los elementos de la lista premios. "
   ]
  },
  {
   "cell_type": "code",
   "execution_count": null,
   "metadata": {
    "tags": []
   },
   "outputs": [],
   "source": [
    "numeros = list(map(int,numeros))"
   ]
  },
  {
   "cell_type": "markdown",
   "metadata": {
    "tags": []
   },
   "source": [
    "**c)** Crear una matriz de 2 dimensiones (lista de listas) que contenga el fichero \"lotería.txt\" completo."
   ]
  },
  {
   "cell_type": "code",
   "execution_count": null,
   "metadata": {
    "tags": []
   },
   "outputs": [],
   "source": [
    "loteria = list(numeros,premios,ciudades)"
   ]
  },
  {
   "cell_type": "markdown",
   "metadata": {},
   "source": [
    "**d)** Mostrar en pantalla el total de euros repartidos en premios.  \n",
    "**e)** Mostrar en pantalla el número de ciudades que han recibido algún premio.  \n",
    "**f)** Mostrar en pantalla la ciudad con mayor número de premios.  \n",
    "**g)** Mostrar en pantalla la ciudad donde se vendió el premio gordo.  \n",
    "**h)** Mostrar en pantalla la ciudad con mayor cantidad de euros en premios.  \n",
    "**i)** Mostrar en pantalla cuantas la ciudad con mayor número de premios.  \n",
    "**j)** Mostrar en pantalla la terminación más repetida en los números premiados.  "
   ]
  },
  {
   "cell_type": "markdown",
   "metadata": {},
   "source": [
    "**Ejercicio 3302 [Práctica 4]** : El fichero “multas.txt” contiene las multas impuestas a conductores por exceso de velocidad. \n",
    "Cada línea contiene, separados por comas: matrícula del vehículo, velocidad registrada por el radar (número real) y velocidad máxima permitida (número real).   \n",
    "La cantidad impuesta en la multa es de 10 euros por km/h de exceso de velocidad: multa=10*(velocidad_registrada-velocidad_permitida).  \n",
    "**a)** Mostrar en pantalla la cantidad de coches que han sido multados.  \n",
    "**b)** Mostrar en pantalla el total en euros recaudados en multas.  \n",
    "**c)** Mostrar en pantalla la matrícula con la mayor multa.\n",
    "**d)** Mostrar en pantalla la matrícula que ha cometido más infracciones.  \n",
    "**e)** Mostrar en pantalla cuantas multas se han impuesto fuera de zona urbana (velocidad_permitida>50).  \n",
    "**e)** Mostrar en pantalla cuanto se ha recaudado en zona urbana (velocidad_permitida<=50).  \n",
    "**f)** Dividir la franja de velocidades en tramos de 10Km/h y mostrar en pantalla cuantas multas se han impuesto en cada tramo."
   ]
  },
  {
   "cell_type": "markdown",
   "metadata": {
    "tags": []
   },
   "source": [
    "**Ejercicio 3303** : Realizar un programa en Python que registre las personas que acceden a unas instalaciones. Para cada persona introducir por teclado su DNI y la hora de entrada. Al final del día, cuando se teclee un DNI=0, el programa mostrará en pantalla el DNI de cada persona que ha entrado junto a las horas que ha accedido al edificio."
   ]
  },
  {
   "cell_type": "markdown",
   "metadata": {
    "tags": []
   },
   "source": [
    "**Ejercicio 3304 [Práctica 4]** : El fichero “entrada.txt” contiene una sopa de letras de 5 líneas y 5 caracteres en cada línea. Introducir por teclado dos números X e Y (entre 0 y 4) y mostrar en pantalla el carácter que ocupa la fila X y columna Y."
   ]
  },
  {
   "cell_type": "markdown",
   "metadata": {
    "tags": []
   },
   "source": [
    "#### Diccionarios"
   ]
  },
  {
   "cell_type": "markdown",
   "metadata": {
    "tags": []
   },
   "source": [
    "**Ejercicio 3401** : El fichero \"loteria.txt\" contiene los resultados de un sorteo. Cada linea contiene separados por comas, el número premiado, el premio y la ciudad donde se vendió el número. Leer el fichero completo y guardarlo en una cadena."
   ]
  },
  {
   "cell_type": "code",
   "execution_count": null,
   "metadata": {
    "tags": []
   },
   "outputs": [],
   "source": [
    "f = open('loteria.txt','r')\n",
    "cadena = f.read()\n",
    "f.close()"
   ]
  },
  {
   "cell_type": "markdown",
   "metadata": {
    "tags": []
   },
   "source": [
    "**a)** Crear un diccionario con la información del fichero. La clave de acceso será el número premiado y dará acceso al premio y la ciudad. "
   ]
  },
  {
   "cell_type": "code",
   "execution_count": null,
   "metadata": {
    "tags": []
   },
   "outputs": [],
   "source": [
    "lineas = cadena.split('\\n')\n",
    "dic_numeros = {}\n",
    "for linea in lineas:\n",
    "    datos = linea.split(',')\n",
    "    dic_numeros[datos[0]] = (int(datos[1]),datos[2])\n",
    "dic_numeros"
   ]
  },
  {
   "cell_type": "markdown",
   "metadata": {},
   "source": [
    "**b)** Cear un diccionario con la información del fichero. La clave de acceso será la ciudad y dará acceso a una lista con los premios vendidos en esa ciudad."
   ]
  },
  {
   "cell_type": "code",
   "execution_count": null,
   "metadata": {
    "tags": []
   },
   "outputs": [],
   "source": [
    "lineas = cadena.split('\\n')\n",
    "dic_ciudades = {}\n",
    "for linea in lineas:\n",
    "    datos = linea.split(',')\n",
    "    if datos[2] not in dic_ciudades:\n",
    "        dic_ciudades[datos[2]] = []\n",
    "    dic_ciudades[datos[2]].append(int(datos[1]))\n",
    "dic_ciudades"
   ]
  },
  {
   "cell_type": "markdown",
   "metadata": {},
   "source": [
    "**b)** Cear un diccionario con la información del fichero. La clave de acceso la terminación del número premiado (último dígito) y dará acceso a una lista con los premios asociados a cada terminación."
   ]
  },
  {
   "cell_type": "code",
   "execution_count": null,
   "metadata": {
    "tags": []
   },
   "outputs": [],
   "source": [
    "lineas = cadena.split('\\n')\n",
    "dic_terminaciones = {}\n",
    "for linea in lineas:\n",
    "    datos = linea.split(',')\n",
    "    terminacion = datos[0][-1]\n",
    "    if terminacion not in dic_terminaciones:\n",
    "        dic_terminaciones[terminacion] = []\n",
    "    dic_terminaciones[terminacion].append(int(datos[1]))\n",
    "dic_terminaciones"
   ]
  },
  {
   "cell_type": "markdown",
   "metadata": {},
   "source": [
    "**d)** Mostrar en pantalla el total de euros repartidos en premios.  \n",
    "**e)** Mostrar en pantalla el número de ciudades que han recibido algún premio.  \n",
    "**f)** Mostrar en pantalla la ciudad con mayor número de premios.  \n",
    "**g)** Mostrar en pantalla la ciudad donde se vendió el premio gordo.  \n",
    "**h)** Mostrar en pantalla la ciudad con mayor cantidad de euros en premios.  \n",
    "**i)** Mostrar en pantalla cuantas la ciudad con mayor número de premios.  \n",
    "**j)** Mostrar en pantalla la terminación más repetida en los números premiados.  "
   ]
  },
  {
   "cell_type": "markdown",
   "metadata": {},
   "source": [
    "**Ejercicio 3402 [Práctica 4]** : El fichero “multas.txt” contiene las multas impuestas a conductores por exceso de velocidad. \n",
    "Cada línea contiene, separados por comas: matrícula del vehículo, velocidad registrada por el radar (número real) y velocidad máxima permitida (número real).   \n",
    "La cantidad impuesta en la multa es de 10 euros por km/h de exceso de velocidad: multa=10*(velocidad_registrada-velocidad_permitida).  \n",
    "**a)** Mostrar en pantalla la cantidad de coches que han sido multados.  \n",
    "**b)** Mostrar en pantalla el total en euros recaudados en multas.  \n",
    "**c)** Mostrar en pantalla la matrícula con la mayor multa.\n",
    "**d)** Mostrar en pantalla la matrícula que ha cometido más infracciones.  \n",
    "**e)** Mostrar en pantalla cuantas multas se han impuesto fuera de zona urbana (velocidad_permitida>50).  \n",
    "**e)** Mostrar en pantalla cuanto se ha recaudado en zona urbana (velocidad_permitida<=50).  \n",
    "**f)** Dividir la franja de velocidades en tramos de 10Km/h y mostrar en pantalla cuantas multas se han impuesto en cada tramo."
   ]
  },
  {
   "cell_type": "markdown",
   "metadata": {
    "tags": []
   },
   "source": [
    "**Ejercicio 3403** : Realizar un programa en Python que registre las personas que acceden a unas instalaciones. Para cada persona introducir por teclado su DNI y la hora de entrada. Al final del día, cuando se teclee un DNI=0, el programa mostrará en pantalla el DNI de cada persona que ha entrado junto a las horas que ha accedido al edificio."
   ]
  },
  {
   "cell_type": "markdown",
   "metadata": {},
   "source": [
    "**Ejercicio 3404** : Disponemos de un fichero “entrada.txt” con los datos de los alumnos. Cada línea del fichero contiene el expediente, nombre  y DNI de un alumno (separados por comas). Pedir por teclado un número de expediente y escribir en pantalla su Nombre y DNI. Si el expediente no existe, escribir el mensaje “Expediente erróneo”."
   ]
  },
  {
   "cell_type": "markdown",
   "metadata": {},
   "source": [
    "**Ejercicio 3405** : Crea un diccionario con la información meteorológica contenida en el fichero 'meteo.csv' (valores separados por comas). Cada linea contiene un registro con la fecha en formato 'ddmmaaaa' (ejemplo '12032024'), temperatura media, presión atmosférica media y humedad media del día. Utilizar la fecha como clave. A continuación, pedir una fecha en el formato indicado, buscarla en el diccionario y mostrar en pantalla los 3 datos meteorológicos registrados."
   ]
  },
  {
   "cell_type": "markdown",
   "metadata": {},
   "source": [
    "**Ejercicio 3406 [Práctica 4]** : El fichero ‘temperaturas.txt’ contiene las temperaturas registradas (números reales) en el año 2022. El fichero contiene 12 lineas con las temperaturas de los 12 meses del año (la linea 1 corresponde al mes de Enero, la linea 2 a Febrero y así sucesivamente). Cada linea contiene las temperaturas de todos los días del mes separadas por un espacio.  \n",
    "**a)** Mostrar en pantalla la temperatura media más alta del año y el més donde se ha registrado.  \n",
    "**b)** Mostrar en pantalla el mes más caluroso con la temperatura media más alta. \n",
    "**c)** Mostrar en pantalla el mes y día donde la temperatura media bajó de 10 grados"
   ]
  },
  {
   "cell_type": "markdown",
   "metadata": {
    "id": "SLATvckE_X12",
    "tags": []
   },
   "source": [
    "<h1 style=\"color:Brown;text-align:center;\">FUNCIONES</h1>"
   ]
  },
  {
   "cell_type": "markdown",
   "metadata": {
    "id": "Y9UxR74FEZeO"
   },
   "source": [
    "Una función es un bloque de código que tiene asociado un nombre, de manera que cada vez que se quiera ejecutar el bloque de código basta con invocar el nombre de la función.\n",
    "\n",
    "Para declarar una función se utiliza la siguiente sintaxis: \n",
    "\n",
    "```python\n",
    "def ( ):\n",
    "\t# bloque código\n",
    "\treturn\n",
    "```\n"
   ]
  },
  {
   "cell_type": "markdown",
   "metadata": {
    "id": "oMGtJvWNFH7u"
   },
   "source": [
    "Por ejemplo:"
   ]
  },
  {
   "cell_type": "code",
   "execution_count": null,
   "metadata": {
    "id": "oDTJk1qwFD1R"
   },
   "outputs": [],
   "source": [
    "def bienvenida():\n",
    "    print('¡Bienvenido a Python!')\n",
    "    return\n",
    "print(type(bienvenida))\n",
    "bienvenida()"
   ]
  },
  {
   "cell_type": "markdown",
   "metadata": {
    "id": "xMYQlC_rFeSp"
   },
   "source": [
    "<h2 style=\"color:DarkBlue;text-align:center;\">Parámetros de una función</h2>\n",
    "\n",
    "Una función puede recibir valores cuando se invoca a través de unas variables conocidas como **parámetros** que se definen entre paréntesis en la declaración de la función.\n",
    "\n",
    "En el cuerpo de la función se pueden usar estos parámetros como si fuesen variables."
   ]
  },
  {
   "cell_type": "code",
   "execution_count": null,
   "metadata": {
    "id": "iGvczq14GBj_",
    "tags": []
   },
   "outputs": [],
   "source": [
    "def bienvenida(nombre):\n",
    "    print('¡Bienvenido a Python', nombre + '!')\n",
    "    return\n",
    "bienvenida('Alf')"
   ]
  },
  {
   "cell_type": "markdown",
   "metadata": {
    "id": "3OCCl23lGbfG"
   },
   "source": [
    "<h2 style=\"color:DarkBlue;text-align:center;\">Argumentos de la llamada a una función</h2>\n",
    "\n",
    "Los valores que se pasan a la función en una llamada o invocación concreta de ella se conocen como **argumentos** y se asocian a los **parámetros** de la declaración de la función.\n",
    "\n",
    "Los argumentos se pueden indicar de dos formas:\n",
    "\n",
    "- **Argumentos posicionales** : Se asocian a los parámetros de la función en el mismo orden que aparecen en la definición de la función.\n",
    "- **Argumentos por nombre** : Se indica explícitamente el nombre del parámetro al que se asocia un argumento de la forma parametro = argumento."
   ]
  },
  {
   "cell_type": "code",
   "execution_count": null,
   "metadata": {
    "id": "V1jlC-A-G3qF"
   },
   "outputs": [],
   "source": [
    "def bienvenida(nombre, apellido):\n",
    "  print('¡Bienvenido a Python', nombre, apellido + '!')\n",
    "  return\n",
    "bienvenida('Alfredo', 'Sánchez')\n",
    "bienvenida(apellido = 'Sánchez', nombre = 'Alfredo')"
   ]
  },
  {
   "cell_type": "markdown",
   "metadata": {
    "id": "gdhpCeIjHSw-"
   },
   "source": [
    "<h2 style=\"color:DarkBlue;text-align:center;\">Retorno de una función</h2>\n",
    "\n",
    "Una función puede devolver un objeto de cualquier tipo tras su invocación. Para ello el objeto a devolver debe escribirse detrás de la palabra reservada **return**.  \n",
    "Si return no devuelve ningún objeto, la función no devolverá nada (**None**).  \n",
    "Si finaliza la ejecución del bloque de la función sin encontrar ningún return, la función finaliza y devuelve nada (**None**)"
   ]
  },
  {
   "cell_type": "code",
   "execution_count": null,
   "metadata": {
    "id": "-yvTV-T1HehL"
   },
   "outputs": [],
   "source": [
    "def area_triangulo(base, altura):\n",
    "  return base * altura\n",
    "print(area_triangulo(2, 3))\n",
    "print(area_triangulo(4, 5))"
   ]
  },
  {
   "cell_type": "markdown",
   "metadata": {
    "id": "50mWOWLcH7m5"
   },
   "source": [
    "<h2 style=\"color:DarkBlue;text-align:center;\">Argumentos por defecto</h2>\n",
    "\n",
    "En la definición de una función se puede asignar a cada parámetro un argumento por defecto, de manera que si se invoca la función sin proporcionar ningún argumento para ese parámetro, se utiliza el argumento por defecto."
   ]
  },
  {
   "cell_type": "code",
   "execution_count": null,
   "metadata": {
    "id": "Mdn9ntfLH-_j"
   },
   "outputs": [],
   "source": [
    "def bienvenida(nombre, lenguaje = 'Python'):\n",
    "  print('Bienvenido',nombre,'al lenguaje',lenguaje)\n",
    "  return\n",
    "x = bienvenida('Alf')\n",
    "print(x)\n",
    "bienvenida('Alf', 'Java')"
   ]
  },
  {
   "cell_type": "markdown",
   "metadata": {
    "id": "TBoF0PvgIDw4"
   },
   "source": [
    "<h2 style=\"color:DarkBlue;text-align:center;\">Pasar un número indeterminado de argumentos</h2>\n",
    "\n",
    "Es posible pasar un número variable de argumentos a un parámetro. Esto se puede hacer de dos formas:\n",
    "\n",
    "<font style=\"color:Brown;font-weight:bold;letter-spacing:1px;\">*parametro</font> : Se antepone un asterisco al nombre del parámetro y en la invocación de la función se pasa el número variable de argumentos separados por comas. Los argumentos se guardan en una lista que se asocia al parámetro.\n",
    "\n",
    "<font style=\"color:Brown;font-weight:bold;letter-spacing:1px;\">**parametro</font> : Se anteponen dos asteriscos al nombre del parámetro y en la invocación de la función se pasa el número variable de argumentos por pares nombre = valor, separados por comas. Los argumentos se guardan en un diccionario que se asocia al parámetro."
   ]
  },
  {
   "cell_type": "code",
   "execution_count": null,
   "metadata": {
    "id": "vyxAAdmQIGzh"
   },
   "outputs": [],
   "source": [
    "def menu(*platos):\n",
    "  print('Hoy tenemos: ')\n",
    "  for plato in platos:\n",
    "    print(plato)\n",
    "  return\n",
    "menu('pasta', 'pizza', 'ensalada')"
   ]
  },
  {
   "cell_type": "markdown",
   "metadata": {
    "id": "dZE0lrK4IJGX"
   },
   "source": [
    "<h2 style=\"color:DarkBlue;text-align:center;\">Ámbito de los parámetros y variables de una función</h2>\n",
    "\n",
    "Los parámetros y las variables declaradas dentro de una función son de **ámbito local**, mientras que las definidas fuera de ella son de ámbito **ámbito global**.\n",
    "\n",
    "Tanto los parámetros como las variables del ámbito local de una función sólo están accesibles durante la ejecución de la función, es decir, cuando termina la ejecución de la función estas variables desaparecen y no son accesibles desde fuera de la función."
   ]
  },
  {
   "cell_type": "code",
   "execution_count": null,
   "metadata": {
    "id": "yHn8QqCnIRmd"
   },
   "outputs": [],
   "source": [
    "def bienvenida(nombre):\n",
    "  lenguaje = 'Python'\n",
    "  print('¡Bienvenido a', lenguaje, nombre + '!')\n",
    "  return\n",
    "bienvenida('Alf')\n",
    "print(lenguaje)"
   ]
  },
  {
   "cell_type": "markdown",
   "metadata": {
    "id": "xQPqjX42IUzO"
   },
   "source": [
    "Si en el ámbito local de una función existe una variable que también existe en el ámbito global, durante la ejecución de la función la variable global queda eclipsada por la variable local y no es accesible hasta que finaliza la ejecución de la función."
   ]
  },
  {
   "cell_type": "code",
   "execution_count": null,
   "metadata": {
    "id": "gsZjdct5IVnK"
   },
   "outputs": [],
   "source": [
    "lenguaje = 'Java'\n",
    "def bienvenida():\n",
    "  lenguaje = 'Python'\n",
    "  print('¡Bienvenido a', lenguaje )\n",
    "  return\n",
    "bienvenida()\n",
    "print(lenguaje)"
   ]
  },
  {
   "cell_type": "markdown",
   "metadata": {
    "id": "FOH4_K9vIbuj"
   },
   "source": [
    "<h2 style=\"color:DarkBlue;text-align:center;\">Paso de argumentos por referencia</h2>\n",
    "\n",
    "En Python el paso de argumentos a una función es siempre **por referencia**, es decir, se pasa una referencia al objeto del argumento, de manera que cualquier cambio que se haga dentro de la función mediante el parámetro asociado afectará al objeto original, siempre y cuando este sea mutable."
   ]
  },
  {
   "cell_type": "code",
   "execution_count": null,
   "metadata": {
    "id": "DZErQaJeIk6a"
   },
   "outputs": [],
   "source": [
    "def añade_asignatura(curso, asignatura):\n",
    "  curso.append(asignatura)\n",
    "  return\n",
    "primer_curso = ['Matemáticas', 'Física']\n",
    "añade_asignatura(primer_curso, 'Química')\n",
    "print(primer_curso)"
   ]
  },
  {
   "cell_type": "markdown",
   "metadata": {
    "id": "Zo62kUGpmIsk"
   },
   "source": [
    "<h2 style=\"color:DarkBlue;text-align:center;\">Funciones recursivas</h2>\n",
    "\n",
    "Una función recursiva es una función que en su cuerpo contiene una llama a si misma.\n",
    "\n",
    "La recursión es una práctica común en la mayoría de los lenguajes de programación ya que permite resolver las tareas recursivas de manera más natural.\n",
    "\n",
    "Para garantizar el **final** de una función recursiva, las sucesivas llamadas tienen que reducir el grado de complejidad del problema, hasta que este pueda resolverse directamente sin necesidad de volver a llamar a la función."
   ]
  },
  {
   "cell_type": "code",
   "execution_count": null,
   "metadata": {
    "id": "vY0TkrFrmJGD"
   },
   "outputs": [],
   "source": [
    "def factorial(n):\n",
    "  if n == 0:\n",
    "    return 1\n",
    "  else:\n",
    "    return n*factorial(n-1)\n",
    "factorial(5)"
   ]
  },
  {
   "cell_type": "markdown",
   "metadata": {
    "id": "6ggONF04m5Jv"
   },
   "source": [
    "**Los riesgos de la recursión** : Aunque la recursión permite resolver las tareas recursivas de forma más natural, hay que tener cuidado con ella porque suele consumir bastante memoria, ya que cada llamada a la función crea un nuevo ámbito local con las variables y los parámetros de la función. En muchos casos es más eficiente resolver la tarea recursiva de forma iterativa usando bucles."
   ]
  },
  {
   "cell_type": "markdown",
   "metadata": {
    "id": "-jgnjm-anYWZ"
   },
   "source": [
    "<h2 style=\"color:DarkBlue;text-align:center;\">Programación funcional</h2>\n",
    "\n",
    "En Python las funciones son objetos de primera clase, es decir, que pueden pasarse como argumentos de una función, al igual que el resto de los tipos de datos."
   ]
  },
  {
   "cell_type": "code",
   "execution_count": null,
   "metadata": {
    "id": "oTJH_TvKnkgh"
   },
   "outputs": [],
   "source": [
    "def aplica(funcion, argumento):\n",
    "  return funcion(argumento)\n",
    "def cuadrado(n):\n",
    "  return n*n\n",
    "def cubo(n):\n",
    "  return n**3\n",
    "aplica(cuadrado, 5)\n",
    "aplica(cubo, 5)"
   ]
  },
  {
   "cell_type": "markdown",
   "metadata": {
    "id": "xoeH8_OR9IMW",
    "tags": []
   },
   "source": [
    "<h2 style=\"color:DarkBlue;text-align:center;\">Ejercicios</h2>"
   ]
  },
  {
   "cell_type": "markdown",
   "metadata": {},
   "source": [
    "#### Números"
   ]
  },
  {
   "cell_type": "markdown",
   "metadata": {},
   "source": [
    "**Ejercicio 4001** :  "
   ]
  },
  {
   "cell_type": "markdown",
   "metadata": {},
   "source": [
    "#### Cadenas"
   ]
  },
  {
   "cell_type": "markdown",
   "metadata": {},
   "source": [
    "**Ejercicio 4101 [Práctica 4]** : Crea una función que evalúe si un número es capicúa."
   ]
  },
  {
   "cell_type": "markdown",
   "metadata": {
    "tags": []
   },
   "source": [
    "#### Listas"
   ]
  },
  {
   "cell_type": "markdown",
   "metadata": {
    "tags": []
   },
   "source": [
    "**Ejercicio 4201 [Práctica 4]** : A partir de una lista de números enteros, crear una función que permita utilizar la función 'map' para crear una nueva lista con los números que superan la media.  \n",
    "**Ejercicio 4202** : Crea una función que sume dos vectores en 3D representados lor dos listas [x1,y1,z1] y [x2,y2,z2]\n",
    "**Ejercicio 4203** : Crea una función que sume N listas (como si sumase vectores)."
   ]
  },
  {
   "cell_type": "markdown",
   "metadata": {
    "tags": []
   },
   "source": [
    "#### Diccionarios"
   ]
  },
  {
   "cell_type": "markdown",
   "metadata": {},
   "source": [
    "**Ejercicio 4301 [Práctica 4]** : A partir de un diccionario cuyos valores son cadenas de caracteres, cea una función que busque una subcadena en el diccionario y me devuelva la clave cuyo valor contiene esa subcadena."
   ]
  },
  {
   "cell_type": "markdown",
   "metadata": {
    "id": "8Dh4L6cLwsDA",
    "tags": []
   },
   "source": [
    "<h1 style=\"color:Brown;text-align:center;\">MODULOS</h1>"
   ]
  },
  {
   "cell_type": "markdown",
   "metadata": {
    "id": "uODj4-puw8i2"
   },
   "source": [
    "Cualquier fichero con código de Python reutilizable se conoce como **módulo** o **librería**.\n",
    "\n",
    "Los módulos suelen contener **funciones reutilizables**, pero también pueden definir **variables** con datos simples o compuestos (listas, diccionarios, etc), o cualquier otro código válido en Python.\n",
    "\n",
    "Python permite importar un módulo completo o sólo algunas partes de él. Cuando se importa un módulo completo, el intérprete de Python ejecuta todo el código que contiene el módulo, mientras que si solo se importan algunas partes del módulo, solo se ejecutarán esas partes."
   ]
  },
  {
   "cell_type": "markdown",
   "metadata": {
    "id": "D25ta7aZxiyC"
   },
   "source": [
    "<h2 style=\"color:DarkBlue;text-align:center;\">Importación completa de módulos (import)</h2>\n",
    "\n",
    "<font style=\"color:Brown;font-weight:bold;letter-spacing:1px;\">import M</font> : Ejecuta el código que contiene M y crea una referencia a él, de manera que pueden invocarse un objeto o función f definida en él mediante la sintaxis M.f.\n",
    "\n",
    "<font style=\"color:Brown;font-weight:bold;letter-spacing:1px;\">import M as N</font> : Ejecuta el código que contiene M y crea una referencia a él con el nombre N, de manera que pueden invocarse un objeto o función f definida en él mediante la sintaxis N.f. Esta forma es similar a la anterior, pero se suele usar cuando el nombre del módulo es muy largo para utilizar un alias más corto."
   ]
  },
  {
   "cell_type": "markdown",
   "metadata": {
    "id": "eadBGzoxx_8I"
   },
   "source": [
    "<h2 style=\"color:DarkBlue;text-align:center;\">Importación parcial de módulos (from import)</h2>\n",
    "\n",
    "<font style=\"color:Brown;font-weight:bold;letter-spacing:1px;\">from M import f, g, ...</font> : Ejecuta el código que contiene M y crea referencias a los objetos f, g, ..., de manera que pueden ser invocados por su nombre.  \n",
    "De esta manera para invocar cualquiera de estos objetos **no hace falta precederlos por el nombre del módulo**, basta con escribir su nombre.\n",
    "\n",
    "<font style=\"color:Brown;font-weight:bold;letter-spacing:1px;\">from M import *</font> : Ejecuta el código que contiene M y crea referencias a todos los objetos públicos (aquellos que no empiezan por el carácter _) definidos en el módulo, de manera que pueden ser invocados por su nombre.  \n",
    "Cuando se importen módulos de esta manera hay que tener cuidado de que no haya coincidencias en los nombres de funciones, variables u otros objetos."
   ]
  },
  {
   "cell_type": "code",
   "execution_count": null,
   "metadata": {
    "id": "Ma3Php6Jye5A"
   },
   "outputs": [],
   "source": [
    "import calendar\n",
    "print(calendar.month(2019, 4))\n",
    "from math import *\n",
    "print(cos(pi))"
   ]
  },
  {
   "cell_type": "markdown",
   "metadata": {
    "id": "Y0x_zMaAzJcV"
   },
   "source": [
    "<h2 style=\"color:DarkBlue;text-align:center;\">Módulos de la librería estándar</h2>\n",
    "\n",
    "Viene con una biblioteca de módulos predefinidos que no necesitan instalarse.\n",
    "\n",
    "Algunos de los más utilizados son:\n",
    "\n",
    "- **sys** : Funciones y parámetros específicos del sistema operativo.\n",
    "- **os** : Interfaz con el sistema operativo.\n",
    "- **os.path** : Funciones de acceso a las rutas del sistema.\n",
    "- **io** : Funciones para manejo de flujos de datos y ficheros.\n",
    "- **string** : Funciones con cadenas de caracteres.\n",
    "- **datetime** : Funciones para fechas y tiempos.\n",
    "- **math** : Funciones y constantes matemáticas.\n",
    "- **statistics** : Funciones estadísticas.\n",
    "- **random** : Generación de números pseudo-aleatorios."
   ]
  },
  {
   "cell_type": "markdown",
   "metadata": {
    "id": "n3JP3BtE0Gq2",
    "tags": []
   },
   "source": [
    "<h2 style=\"color:DarkBlue;text-align:center;\">Otras librerías</h2>\n",
    "\n",
    "Estas librerías no vienen en la distribución estándar de Python y necesitan instalarse.\n",
    "\n",
    "También puede optarse por la distribución **Anaconda** que incorpora la mayoría de estas librerías.\n",
    "\n",
    "- **NumPy** : Funciones matemáticas avanzadas y arrays.\n",
    "- **SciPy** : Más funciones matemáticas para aplicaciones científicas.\n",
    "- **matplotlib** : Análisis y representación gráfica de datos.\n",
    "- **Pandas** : Funciones para el manejo y análisis de estructuras de datos.\n",
    "- **Request** : Acceso a internet por http."
   ]
  },
  {
   "cell_type": "markdown",
   "metadata": {
    "tags": []
   },
   "source": [
    "<h3 style=\"color:MediumBlue\">La librería datetime</h3>"
   ]
  },
  {
   "cell_type": "markdown",
   "metadata": {
    "id": "4cHVBydw1Kf_",
    "jp-MarkdownHeadingCollapsed": true
   },
   "source": [
    "Para manejar fechas en Python se suele utilizar la librería datetime que incorpora los tipos de datos date , time y datetime para representar fechas y funciones para manejarlas.\n",
    "\n",
    "Algunas de las operaciones más habituales que permite son:\n",
    "\n",
    "- Acceder a los distintos componentes de una fecha (año, mes, día, hora, minutos, segundos y microsegundos).\n",
    "- Convertir cadenas con formato de fecha en los tipos date, time o datetime.\n",
    "- Convertir fechas de los tipos date, time o datetime en cadenas formateadas de acuerdo a diferentes formatos de fechas.\n",
    "- Hacer aritmética de fechas (sumar o restar fechas).\n",
    "- Comparar fechas.\n",
    "\n",
    "**Los tipos de datos date, time y datetime**\n",
    "\n",
    "<font style=\"color:Brown;font-weight:bold;letter-spacing:1px;\"></font>date(año, mes, dia)** : Devuelve un objeto de tipo date que representa la fecha con el año, mes y dia indicados.\n",
    "\n",
    "<font style=\"color:Brown;font-weight:bold;letter-spacing:1px;\"></font>time(hora, minutos, segundos, microsegundos)** : Devuelve un objeto de tipo time que representa un tiempo la hora, minutos, segundos y microsegundos indicados.\n",
    "\n",
    "<font style=\"color:Brown;font-weight:bold;letter-spacing:1px;\"></font>datetime(año, mes, dia, hora, minutos, segundos, microsegundos)** : Devuelve un objeto de tipo datetime que representa una fecha y hora con el año, mes, dia, hora, minutos, segundos y microsegundos indicados.\n",
    "\n",
    "```python\n",
    ">>> from datetime import date, time, datetime\n",
    ">>> date(2020, 12, 25)\n",
    ">>> datetime.date(2020, 12, 25)\n",
    ">>> time(13,30,5)\n",
    ">>> datetime.time(13, 30, 5)\n",
    ">>> datetime(2020, 12, 25, 13, 30, 5)\n",
    ">>> datetime.datetime(2020, 12, 25, 13, 30, 5)\n",
    ">>> print(datetime(2020, 12, 25, 13, 30, 5))\n",
    "2020-12-25 13:30:05\n",
    "```\n",
    "**Acceso a los componentes de una fecha**\n",
    "\n",
    "<font style=\"color:Brown;font-weight:bold;letter-spacing:1px;\"></font>date.today()** : Devuelve un objeto del tipo date la fecha del sistema en el momento en el que se ejecuta.\n",
    "\n",
    "<font style=\"color:Brown;font-weight:bold;letter-spacing:1px;\"></font>datetime.now()**: Devuelve un objeto del tipo datetime con la fecha y la hora del sistema en el momento exacto en el que se ejecuta.\n",
    "\n",
    "<font style=\"color:Brown;font-weight:bold;letter-spacing:1px;\"></font>d.year** : Devuelve el año de la fecha d, puede ser del tipo date o datetime.\n",
    "\n",
    "<font style=\"color:Brown;font-weight:bold;letter-spacing:1px;\"></font>d.month** : Devuelve el mes de la fecha d, que puede ser del tipo date o datetime.\n",
    "\n",
    "<font style=\"color:Brown;font-weight:bold;letter-spacing:1px;\"></font>d.day** : Devuelve el día de la fecha d, que puede ser del tipo date o datetime.\n",
    "\n",
    "<font style=\"color:Brown;font-weight:bold;letter-spacing:1px;\"></font>d.weekday()** : Devuelve el día de la semana de la fecha d, que puede serpuede ser del tipo date o datetime.\n",
    "\n",
    "<font style=\"color:Brown;font-weight:bold;letter-spacing:1px;\"></font>t.hour** : Devuelve las horas del tiempo t, que puede ser del tipo time o datetime.\n",
    "\n",
    "<font style=\"color:Brown;font-weight:bold;letter-spacing:1px;\"></font>t.minute** : Devuelve los minutos del tiempo t, que puede ser del tipo time o datetime.\n",
    "\n",
    "<font style=\"color:Brown;font-weight:bold;letter-spacing:1px;\"></font>t.second** : Devuelve los segundos del tiempo t, que puede ser del tipo time o datetime.\n",
    "\n",
    "<font style=\"color:Brown;font-weight:bold;letter-spacing:1px;\"></font>t.microsecond** : Devuelve los microsegundos del tiempo t, que puede ser del tipo time o datetime.\n",
    "\n",
    "```python\n",
    ">>> from datetime import date, time, datetime\n",
    ">>> print(date.today())\n",
    "2020-04-11\n",
    ">>> dt = datetime.now()\n",
    ">>> dt.year\n",
    "2020\n",
    ">>> dt.month\n",
    "4\n",
    ">>> dt.day\n",
    "11\n",
    ">>> dt.hour\n",
    "22\n",
    ">>> dt.minute\n",
    "5\n",
    ">>> dt.second\n",
    "45\n",
    ">>> dt.microsecond\n",
    "1338\n",
    "```\n",
    "\n",
    "**Conversión de fechas en cadenas con diferentes formatos**\n",
    "\n",
    "<font style=\"color:Brown;font-weight:bold;letter-spacing:1px;\"></font>d.strftime(formato)** : Devuelve la cadena que resulta de transformar la fecha d con el formato indicado en la cadena formato.  \n",
    "La cadena formato puede contener los siguientes marcadores de posición: %Y (año completo), %y (últimos dos dígitos del año), %m (mes en número), %B (mes en palabra), %d (día), %A (día de la semana), %a (día de la semana abrevidado), %H (hora en formato 24 horas), %I (hora en formato 12 horas), %M (minutos), %S (segundos), %p (AM o PM), %C (fecha y hora completas), %x (fecha completa), %X (hora completa).\n",
    "\n",
    "```python\n",
    ">>> from datetime import date, time, datetime\n",
    ">>> d = datetime.now()\n",
    ">>> print(d.strftime('%d-%m-%Y'))\n",
    "13-04-2020\n",
    ">>> print(d.strftime('%A, %d %B, %y'))\n",
    "Monday, 13 April, 20\n",
    ">>> print(d.strftime('%H:%M:%S'))\n",
    "20:55:53\n",
    ">>> print(d.strftime('%H horas, %M minutos y %S segundos'))\n",
    "20 horas, 55 minutos y 53 segundos\n",
    "```\n",
    "\n",
    "**Conversión de cadenas en fechas**\n",
    "\n",
    "<font style=\"color:Brown;font-weight:bold;letter-spacing:1px;\"></font>strptime(s, formato)** : Devuelve el objeto de tipo date, time o datetime que resulta de convertir la cadena s de acuerdo al formato indicado en la cadena formato.  \n",
    "La cadena formato puede contener los siguientes marcadores de posición: %Y (año completo), %y (últimos dos dígitos del año), %m (mes en número), %B (mes en palabra), %d (día), %A (día de la semana), %a (día de la semana abrevidado), %H (hora en formato 24 horas), %I (hora en formato 12 horas), %M (minutos), %S (segundos), %p (AM o PM), %C (fecha y hora completas), %x (fecha completa), %X (hora completa). 1\n",
    "\n",
    "```python\n",
    ">>> from datetime import date, time, datetime\n",
    ">>> datetime.strptime('15/4/2020', '%d/%m/%Y')\n",
    "datetime.datetime(2020, 4, 15, 0, 0)\n",
    ">>> datetime.strptime('2020-4-15 20:50:30', '%Y-%m-%d %H:%M:%S')\n",
    "datetime.datetime(2020, 4, 15, 20, 50, 30)\n",
    "```\n",
    "\n",
    "**Aritmética de fechas**\n",
    "\n",
    "Para representar el tiempo transcurrido entre dos fechas se utiliza el tipo timedelta.\n",
    "\n",
    "<font style=\"color:Brown;font-weight:bold;letter-spacing:1px;\"></font>timedelta(dias, segundos, microsegundos)** : Devuelve un objeto del tipo timedelta que representa un intervalo de tiempo con los dias, segundos y micorsegundos indicados.\n",
    "\n",
    "<font style=\"color:Brown;font-weight:bold;letter-spacing:1px;\">d1 - d2</font> : Devuelve un objeto del tipo timedelta que representa el tiempo transcurrido entre las fechas d1 y d2 del tipo datetime.\n",
    "\n",
    "<font style=\"color:Brown;font-weight:bold;letter-spacing:1px;\"></font>d + delta** : Devuelve la fecha del tipo datetime que resulta de sumar a la fecha d el intervalo de tiempo delta, donde delta es del tipo timedelta.\n",
    "\n",
    "```python\n",
    ">>> from datetime import date, time, datetime, timedelta\n",
    ">>> d1 = datetime(2020, 1, 1)\n",
    ">>> d1 + timedelta(31, 3600)\n",
    "datetime.datetime(2020, 2, 1, 1, 0)\n",
    ">>> datetime.now() - d1\n",
    "datetime.timedelta(days=132, seconds=1826, microseconds=895590)\n",
    "```"
   ]
  },
  {
   "cell_type": "markdown",
   "metadata": {
    "id": "4sVEbR8W1jYq",
    "jp-MarkdownHeadingCollapsed": true
   },
   "source": [
    "<h3 style=\"color:MediumBlue\">La librería Numpy</h3>"
   ]
  },
  {
   "cell_type": "markdown",
   "metadata": {
    "id": "4sVEbR8W1jYq"
   },
   "source": [
    "NumPy es una librería de Python especializada en el cálculo numérico y el análisis de datos, especialmente para un gran volumen de datos.\n",
    "\n",
    "Incorpora una nueva clase de objetos llamados **arrays** que permite representar colecciones de datos de un mismo tipo en varias dimensiones, y funciones muy eficientes para su manipulación.\n",
    "\n",
    "\n",
    "**La clase de objetos array**\n",
    "\n",
    "Un array es una estructura de datos de un mismo tipo organizada en forma de tabla o cuadrícula de distintas dimensiones.\n",
    "\n",
    "Las dimensiones de un array también se conocen como ejes.\n",
    "\n",
    "<font style=\"color:Brown;font-weight:bold;letter-spacing:1px;\"></font>np.array(lista)** : Crea un array a partir de la lista o tupla lista y devuelve una referencia a él.  \n",
    "El número de dimensiones del array dependerá de las listas o tuplas anidadas en lista.  \n",
    "Para una lista de valores se crea un array de una dimensión, también conocido como **vector**.  \n",
    "Para una lista de listas de valores se crea un array de dos dimensiones, también conocido como **matriz**.  \n",
    "Para una lista de listas de listas de valores se crea un array de tres dimensiones, también conocido como **cubo**.  \n",
    "Y así sucesivamente. No hay límite en el número de dimensiones del array más allá de la memoria disponible en el sistema.  \n",
    "Los elementos de la lista o tupla deben ser del **mismo tipo**.\n",
    "\n",
    "```python\n",
    ">>> # Array de una dimensión\n",
    ">>> a1 = np.array([1, 2, 3])\n",
    ">>> print(a1)\n",
    "[1 2 3]\n",
    ">>> # Array de dos dimensiones\n",
    ">>> a2 = np.array([[1, 2, 3], [4, 5, 6]])\n",
    ">>> print(a2)\n",
    "[[1 2 3]\n",
    "[4 5 6]]\n",
    ">>> # Array de tres dimensiones\n",
    ">>> a3 = np.array([[[1, 2, 3], [4, 5, 6]], [[7, 8, 9], [10, 11, 12]]])\n",
    ">>> print(a3)\n",
    "[[[ 1 2 3] 14 [ 4 5 6]] 15 16 [[ 7 8 9] 17 [10 11 12]]]\n",
    "```\n",
    "\n",
    "<font style=\"color:Brown;font-weight:bold;letter-spacing:1px;\"></font>np.empty(dimensiones)** : Crea y devuelve una referencia a un array vacío con las dimensiones especificadas en la tupla dimensiones.\n",
    "\n",
    "<font style=\"color:Brown;font-weight:bold;letter-spacing:1px;\"></font>np.zeros(dimensiones)** : Crea y devuelve una referencia a un array con las dimensiones especificadas en la tupla dimensiones cuyos elementos son todos ceros.\n",
    "\n",
    "<font style=\"color:Brown;font-weight:bold;letter-spacing:1px;\"></font>np.ones(dimensiones)** : Crea y devuelve una referencia a un array con las dimensiones especificadas en la tupla dimensiones cuyos elementos son todos unos.\n",
    "\n",
    "<font style=\"color:Brown;font-weight:bold;letter-spacing:1px;\"></font>np.full(dimensiones, valor)** : Crea y devuelve una referencia a un array con las dimensiones especificadas en la tupla dimensiones cuyos elementos son todos valor.\n",
    "\n",
    "<font style=\"color:Brown;font-weight:bold;letter-spacing:1px;\"></font>np.identity(n)** : Crea y devuelve una referencia a la matriz identidad de dimensión n.\n",
    "\n",
    "<font style=\"color:Brown;font-weight:bold;letter-spacing:1px;\"></font>np.arange(inicio, fin, salto)** : Crea y devuelve una referencia a un array de una dimensión cuyos elementos son la secuencia desde inicio hasta fin tomando valores cada salto.\n",
    "\n",
    "<font style=\"color:Brown;font-weight:bold;letter-spacing:1px;\"></font>np.linspace(inicio, fin, n)** : Crea y devuelve una referencia a un array de una dimensión cuyos elementos son la secuencia de n valores equidistantes desde inicio hasta fin.\n",
    "\n",
    "<font style=\"color:Brown;font-weight:bold;letter-spacing:1px;\"></font>np.random.random(dimensiones)** : Crea y devuelve una referencia a un array con las dimensiones especificadas en la tupla dimensiones cuyos elementos son aleatorios.\n",
    "\n",
    "```python\n",
    ">>> print(np.zeros(3,2))\n",
    "[[0. 0. 0.]\n",
    "[0. 0. 0.]]\n",
    ">>> print(np.idendity(3))\n",
    "[[1. 0. 0.]\n",
    "[0. 1. 0.]\n",
    "[0. 0. 1.]]\n",
    ">>> print(np.arange(1, 10, 2))\n",
    "[1 3 5 7 9]\n",
    ">>> print(np.linspace(0, 10, 5))\n",
    "[ 0. 2.5 5. 7.5 10. ]\n",
    "```\n",
    "\n",
    "\n",
    "**Atributos de un array**\n",
    "\n",
    "Existen varios atributos y funciones que describen las características de un array.\n",
    "\n",
    "<font style=\"color:Brown;font-weight:bold;letter-spacing:1px;\"></font>a.ndi** : Devuelve el número de dimensiones del array a.\n",
    "\n",
    "<font style=\"color:Brown;font-weight:bold;letter-spacing:1px;\"></font>a.shape** : Devuelve una tupla con las dimensiones del array a.\n",
    "\n",
    "<font style=\"color:Brown;font-weight:bold;letter-spacing:1px;\"></font>a.size** : Devuelve el número de elementos del array a.\n",
    "\n",
    "<font style=\"color:Brown;font-weight:bold;letter-spacing:1px;\"></font>a.dtype** : Devuelve el tipo de datos de los elementos del array a.\n",
    "\n",
    "\n",
    "**Acceso a los elementos de un array**\n",
    "\n",
    "Para acceder a los elementos contenidos en un array se usan índices al igual que para acceder a los elementos de una lista, pero indicando los índices de cada dimensión separados por comas.\n",
    "\n",
    "Al igual que para listas, los índices de cada dimensión comienzn en 0. También es posible obtener subarrays con el operador dos puntos : indicando el índice inicial y el siguiente al final para cada dimensión, de nuevo separados por comas.\n",
    "\n",
    "```python\n",
    "a = np.array([[1, 2, 3], [4, 5, 6]])\n",
    "print(a[1, 0]) # Acceso al elemento de la fila 1 columna 0\n",
    "print(a[1][0]) # Otra forma de acceder al mismo elemento\n",
    "print(a[:, 0:2])\n",
    "```\n",
    "\n",
    "**Filtrado de elementos de un array**\n",
    "\n",
    "Una característica muy útil de los arrays es que es muy fácil obtener otro array con los elementos que cumplen una condición.\n",
    "\n",
    "<font style=\"color:Brown;font-weight:bold;letter-spacing:1px;\"></font>a[condicion]** : Devuelve una lista con los elementos del array a que cumplen la condición condicion.\n",
    "\n",
    "```python\n",
    "a = np.array([[1, 2, 3], [4, 5, 6]])\n",
    "print(a[(a % 2 == 0)])\n",
    "[2 4 6]\n",
    "print(a[(a % 2 == 0) & (a > 2)])\n",
    "[2 4]\n",
    "```\n",
    "\n",
    "\n",
    "**Operaciones matemáticas con arrays**\n",
    "\n",
    "Existen dos formas de realizar operaciones matemáticas con arrays: a nivel de elemento y a nivel de array.\n",
    "\n",
    "**Operaciones matemáticas a nivel de elemento** :  operan los elementos que ocupan la misma posición en dos arrays. Se necesitan, por tanto, dos arrays con las mismas dimensiones y el resultado es una array de la misma dimensión.\n",
    "\n",
    "Los operadores mamemáticos +, -, *, /, %, se utilizan para la realizar suma, resta, producto, cociente, resto y potencia a nivel de elemento.\n",
    "\n",
    "```python\n",
    ">>> a = np.array([[1, 2, 3], [4, 5, 6]])\n",
    ">>> b = np.array([[1, 1, 1], [2, 2, 2]])\n",
    ">>> print(a + b )\n",
    "[[2 3 4]\n",
    "[6 7 8]]\n",
    ">>> print(a / b)\n",
    "[[1. 2. 3. ]\n",
    "[2. 2.5 3. ]]\n",
    ">>> print(a 2)\n",
    "[[ 1 4 9]\n",
    "[16 25 36]]\n",
    "```\n",
    "\n",
    "**Operaciones matemáticas a nivel de array** :\n",
    "\n",
    "<font style=\"color:Brown;font-weight:bold;letter-spacing:1px;\"></font>a.dot(b)** : Devuelve el array resultado del producto matricial de los arrays a y b siempre y cuando sus dimensiones sean compatibles. Y para trasponer una matriz se utiliza el método\n",
    "\n",
    "<font style=\"color:Brown;font-weight:bold;letter-spacing:1px;\"></font>a.T** : Devuelve el array resultado de trasponer el array a.\n",
    "\n",
    "```python\n",
    " >>> a = np.array([[1, 2, 3], [4, 5, 6]])\n",
    " >>> b = np.array([[1, 1], [2, 2], [3, 3]])\n",
    " >>> print(a.dot(b))\n",
    " [[14 14]\n",
    " [32 32]]\n",
    " >>> print(a.T)\n",
    " [[1 4]\n",
    " [2 5]\n",
    " [3 6]]\n",
    " ```"
   ]
  },
  {
   "cell_type": "markdown",
   "metadata": {
    "id": "YOHfW4kv19rB",
    "jp-MarkdownHeadingCollapsed": true
   },
   "source": [
    "<h3 style=\"color:MediumBlue\">La librería Pandas</h3>"
   ]
  },
  {
   "cell_type": "markdown",
   "metadata": {
    "id": "YOHfW4kv19rB"
   },
   "source": [
    "Pandas es una librería de Python especializada en el manejo y análisis de estructuras de datos. Las principales características de esta librería son:\n",
    "\n",
    "- Define nuevas estructuras de datos basadas en los arrays de la librería NumPy pero con nuevas funcionalidades.\n",
    "- Permite leer y escribir fácilmente ficheros en formato CSV, Excel y bases de datos SQL.\n",
    "- Permite acceder a los datos mediante índices o nombres para filas y columnas.\n",
    "- Ofrece métodos para reordenar, dividir y combinar conjuntos de datos.\n",
    "- Permite trabajar con series temporales.\n",
    "- Realiza todas estas operaciones de manera muy eficiente.\n",
    "\n",
    "**Tipos de datos de Pandas:**\n",
    "\n",
    "- **Series** : Estructura de una dimensión.\n",
    "- **DataFrame** : Estructura de dos dimensiones (tablas).\n",
    "- **Panel** : Estructura de tres dimensiones (cubos). Estas estructuras se construyen a partir de arrays de la librería NumPy, añadiendo nuevas funcionalidades.\n",
    "\n",
    "**La clase de objetos Series**\n",
    "\n",
    "Son estructuras similares a los arrays de una dimensión.\n",
    "Son **homogéneas**, es decir, sus elementos tienen que ser del **mismo tipo**, y su **tamaño es inmutable**, es decir, no se puede cambiar, aunque si su contenido.\n",
    "\n",
    "Dispone de un índice que asocia un nombre a cada elemento del la serie, a través de la cuál se accede al elemento.\n",
    "\n",
    "**Creación de una serie a partir de una lista**\n",
    "\n",
    "<font style=\"color:Brown;font-weight:bold;letter-spacing:1px;\"></font>Series(data=lista, index=indices, dtype=tipo)** : Devuelve un objeto de tipo Series con los datos de la lista lista, las filas especificados en la lista indices y el tipo de datos indicado en tipo.  \n",
    "Si no se pasa la lista de índices se utilizan como índices los enteros del 0 al 𝑛 − 1, done 𝑛 es el tamaño de la serie. Si no se pasa el tipo de dato se infiere.\n",
    "\n",
    "```python\n",
    ">>> import pandas as pd\n",
    ">>> s = pd.Series(['Matemáticas', 'Historia', 'Economía', 'Programación ', 'Inglés'], dtype='string')\n",
    ">>> print(s)\n",
    "0 Matemáticas\n",
    "1 Historia\n",
    "2 Economía\n",
    "3 Programación\n",
    "4 Inglés\n",
    "dtype: string\n",
    "```\n",
    "\n",
    "**Creación de una serie a partir de un diccionario**\n",
    "\n",
    "<font style=\"color:Brown;font-weight:bold;letter-spacing:1px;\"></font>Series(data=diccionario, index=indices)** : Devuelve un objeto de tipo Series con los valores del diccionario diccionario y las filas especificados en la lista indices.  \n",
    "Si no se pasa la lista de índices se utilizan como índices las claves del diccionario.\n",
    "\n",
    "```python\n",
    ">>> import pandas as pd\n",
    ">>> s = pd.Series({'Matemáticas': 6.0, 'Economía': 4.5, 'Programación' : 8.5})\n",
    ">>> print(s)\n",
    "Matemáticas 6.0\n",
    "Economía 4.5\n",
    "Programación 8.5\n",
    "dtype: float64\n",
    "```\n",
    "**Atributos de una serie**\n",
    "\n",
    "Existen varias propiedades o métodos para ver las características de una serie.\n",
    "\n",
    "<font style=\"color:Brown;font-weight:bold;letter-spacing:1px;\"></font>s.size** : Devuelve el número de elementos de la serie s.\n",
    "\n",
    "<font style=\"color:Brown;font-weight:bold;letter-spacing:1px;\"></font>s.index** : Devuelve una lista con los nombres de las filas del DataFrame s.\n",
    "\n",
    "<font style=\"color:Brown;font-weight:bold;letter-spacing:1px;\"></font>s.dtype** : Devuelve el tipo de datos de los elementos de la serie s.\n",
    "\n",
    "```python\n",
    ">>> import pandas as pd\n",
    ">>> s = pd.Series([1, 2, 2, 3, 3, 3, 4, 4, 4, 4])\n",
    ">>> s.size\n",
    "10\n",
    ">>> s.index\n",
    "RangeIndex(start=0, stop=10, step=1)\n",
    ">>> s.dtype\n",
    "dtype('int64')\n",
    "```\n",
    "**Acceso a los elementos de una serie**\n",
    "\n",
    "El acceso a los elementos de un objeto del tipo Series puede ser a través de posiciones o través de índices (nombres).\n",
    "\n",
    "- Acceso por posición: Se realiza de forma similar a como se accede a los elementos de un array.\n",
    "\n",
    "<font style=\"color:Brown;font-weight:bold;letter-spacing:1px;\"></font>s[i]** : Devuelve el elemento que ocupa la posición i+1 en la serie s.\n",
    "\n",
    "<font style=\"color:Brown;font-weight:bold;letter-spacing:1px;\"></font>s[nombres]** : Devuelve otra serie con los elementos con los nombres de la lista nombres en el índice. 10.6.2 Acceso por índice\n",
    "\n",
    "<font style=\"color:Brown;font-weight:bold;letter-spacing:1px;\"></font>s[nombre]** : Devuelve el elemento con el nombre nombre en el índice.\n",
    "\n",
    "<font style=\"color:Brown;font-weight:bold;letter-spacing:1px;\"></font>s[nombres]** : Devuelve otra serie con los elementos correspondientes a los nombres indicadas en la lista nombres en el índice.\n",
    "\n",
    "```python\n",
    ">>> s[1:3]\n",
    "Economía 4.5\n",
    "Programación 8.5\n",
    "dtype: float64\n",
    ">>> s['Economía']\n",
    "4.5\n",
    ">>> s[['Programación', 'Matemáticas']]\n",
    "Programación 8.5\n",
    "Matemáticas 6.0\n",
    "dtype: float64\n",
    "```\n",
    "**Resumen descriptivo de una serie**\n",
    "\n",
    "Las siguientes funciones permiten resumir varios aspectos de una serie:\n",
    "\n",
    "<font style=\"color:Brown;font-weight:bold;letter-spacing:1px;\"></font>s.count()** : Devuelve el número de elementos que no son nulos ni NaN en la serie s.\n",
    "\n",
    "<font style=\"color:Brown;font-weight:bold;letter-spacing:1px;\"></font>s.sum()** : Devuelve la suma de los datos de la serie s cuando los datos son de un tipo numérico, o la concatenación de ellos cuando son del tipo cadena str.\n",
    "\n",
    "<font style=\"color:Brown;font-weight:bold;letter-spacing:1px;\"></font>s.cumsum()** : Devuelve una serie con la suma acumulada de los datos de la serie s cuando los datos son de un tipo numérico.\n",
    "\n",
    "<font style=\"color:Brown;font-weight:bold;letter-spacing:1px;\"></font>s.value_counts()** : Devuelve una serie con la frecuencia (número de repeticiones) de cada valor de la serie s.\n",
    "\n",
    "<font style=\"color:Brown;font-weight:bold;letter-spacing:1px;\"></font>s.min()** : Devuelve el menor de los datos de la serie s.\n",
    "\n",
    "<font style=\"color:Brown;font-weight:bold;letter-spacing:1px;\"></font>s.max()** : Devuelve el mayor de los datos de la serie s.\n",
    "\n",
    "<font style=\"color:Brown;font-weight:bold;letter-spacing:1px;\"></font>s.mean()** : Devuelve la media de los datos de la serie s cuando los datos son de un tipo numérico.\n",
    "\n",
    "<font style=\"color:Brown;font-weight:bold;letter-spacing:1px;\"></font>s.std()** : Devuelve la desviación típica de los datos de la serie s cuando los datos son de un tipo numérico.\n",
    "\n",
    "<font style=\"color:Brown;font-weight:bold;letter-spacing:1px;\"></font>s.describe()** : Devuelve una serie con un resumen descriptivo que incluye el número de datos, su suma, el mínimo, el máximo, la media, la desviación típica y los cuartiles.\n",
    "\n",
    "```python\n",
    ">>> import pandas as pd\n",
    ">>> s = pd.Series([1, 1, 1, 1, 2, 2, 2, 3, 3, 4])\n",
    ">>> s.count()\n",
    "10\n",
    ">>> s.sum()\n",
    "20\n",
    ">>> s.cumsum()\n",
    "0 1\n",
    "1 2\n",
    "2 3\n",
    "3 4\n",
    "4 6\n",
    "5 8\n",
    "6 10\n",
    "7 13\n",
    "8 16\n",
    "9 20\n",
    "dtype: int64\n",
    ">>> s.value_counts()\n",
    "1 4\n",
    "2 3\n",
    "3 2\n",
    "4 1\n",
    "dtype: int64\n",
    ">>> s.value_counts(normalize=True)\n",
    "1 0.4\n",
    "2 0.3\n",
    "3 0.2\n",
    "4 0.1\n",
    "dtype: float64\n",
    ">>> s.min()\n",
    "1\n",
    ">>> s.max()\n",
    "4\n",
    ">>> s.mean()\n",
    "2.0\n",
    ">>> s.std()\n",
    "1.0540925533894598\n",
    ">>> s.describe()\n",
    "count 10.000000\n",
    "mean 2.000000\n",
    "std 1.054093\n",
    "min 1.000000\n",
    "25% 1.000000\n",
    "50% 2.000000\n",
    "75% 2.750000\n",
    "max 4.000000\n",
    "dtype: float64\n",
    "```\n",
    "\n",
    "**Aplicar operaciones a una serie**\n",
    "\n",
    "Los operadores binarios (+, , /, etc.) pueden utilizarse con una serie, y devuelven otra serie con el resultado de aplicar la operación a cada elemento de la serie.\n",
    "\n",
    "```python\n",
    ">>> import pandas as pd\n",
    "s = pd.Series([1, 2, 3, 4])\n",
    ">>> s2\n",
    "0 2\n",
    "1 4\n",
    "2 6\n",
    "3 8\n",
    "dtype: int64\n",
    ">>> s%2\n",
    "0 1\n",
    "1 0\n",
    "2 1\n",
    "3 0\n",
    "dtype: int64\n",
    ">>> s = pd.Series(['a', 'b', 'c'])\n",
    ">>> s*5\n",
    "0 aaaaa\n",
    "1 bbbbb\n",
    "2 ccccc\n",
    "dtype: object\n",
    "```\n",
    "\n",
    "**Aplicar funciones a una serie**\n",
    "\n",
    "También es posible aplicar una función a cada elemento de la serie mediante el siguiente método:\n",
    "\n",
    "<font style=\"color:Brown;font-weight:bold;letter-spacing:1px;\"></font>s.apply(f)** : Devuelve una serie con el resultado de aplicar la función f a cada uno de los elementos de la serie s.\n",
    "\n",
    "```python\n",
    ">>> import pandas as pd\n",
    ">>> from math import log\n",
    ">>> s = pd.Series([1, 2, 3, 4])\n",
    ">>> s.apply(log)\n",
    "0 0.000000\n",
    "1 0.693147\n",
    "2 1.098612\n",
    "3 1.386294\n",
    "dtype: float64\n",
    ">>> s = pd.Series(['a', 'b', 'c'])\n",
    ">>> s.apply(str.upper)\n",
    "0 A\n",
    "1 B\n",
    "2 C\n",
    "dtype: object\n",
    "```\n",
    "\n",
    "**Filtrado de una serie**\n",
    "\n",
    "Para filtrar una serie y quedarse con los valores que cumplen una determinada condición se utiliza el siguiente método:\n",
    "\n",
    "<font style=\"color:Brown;font-weight:bold;letter-spacing:1px;\"></font>s[condicion]** : Devuelve una serie con los elementos de la serie s que se corresponden con el valor True de la lista booleana condicion. condicion debe ser una lista de valores booleanos de la misma longitud que la serie.\n",
    "\n",
    "```python\n",
    ">>> import pandas as pd\n",
    ">>> s = pd.Series({'Matemáticas': 6.0, 'Economía': 4.5, 'Programación' : 8.5})\n",
    ">>> print(s[s > 5])\n",
    "Matemáticas 6.0\n",
    "Programación 8.5\n",
    "dtype: float64\n",
    "```\n",
    "\n",
    "**Ordenar una serie**\n",
    "\n",
    "Para ordenar una serie se utilizan los siguientes métodos:\n",
    "\n",
    "<font style=\"color:Brown;font-weight:bold;letter-spacing:1px;\"></font>s.sort_values(ascending=booleano)** : Devuelve la serie que resulta de ordenar los valores la serie s. Si argumento del parámetro ascending es True el orden es creciente y si es False decreciente.\n",
    "\n",
    "<font style=\"color:Brown;font-weight:bold;letter-spacing:1px;\"></font>df.sort_index(ascending=booleano)** : Devuelve la serie que resulta de ordenar el índice de la serie s. Si el argumento del parámetro ascending es True el orden es creciente y si es False decreciente.\n",
    "\n",
    "```python\n",
    ">>> import pandas as pd\n",
    ">>> s = pd.Series({'Matemáticas': 6.0, 'Economía': 4.5, 'Programación' : 8.5})\n",
    ">>> print(s.sort_values())\n",
    "Economía 4.5\n",
    "Matemáticas 6.0\n",
    "Programación 8.5\n",
    "dtype: float64\n",
    ">>> print(s.sort_index(ascending = False))\n",
    "Programación 8.5\n",
    "Matemáticas 6.0\n",
    "Economía 4.5\n",
    "dtype: float64\n",
    "```\n",
    "\n",
    "**Eliminar los dados desconocidos en una serie**\n",
    "\n",
    "Los datos desconocidos representan en Pandas por **NaN** y los nulos por **None**. Tanto unos como otros suelen ser un problema a la hora de realizar algunos análisis de datos, por lo que es habitual eliminarlos.\n",
    "\n",
    "Para eliminarlos de una serie se utiliza el siguiente método:\n",
    "\n",
    "<font style=\"color:Brown;font-weight:bold;letter-spacing:1px;\"></font>s.dropna()** : Elimina los datos desconocidos o nulos de la serie s.\n",
    "\n",
    "```python\n",
    ">>> import pandas as pd\n",
    ">>> import numpy as np\n",
    ">>> s = pd.Series(['a', 'b', None, 'c', np.NaN, 'd'])\n",
    ">>> s\n",
    "0 a\n",
    "1 b\n",
    "2 None\n",
    "3 c\n",
    "4 NaN\n",
    "5 d\n",
    "dtype: object\n",
    ">>> s.dropna()\n",
    "0 a\n",
    "1 b\n",
    "3 c\n",
    "5 d\n",
    "dtype: object\n",
    "```\n",
    "\n",
    "**La clase de objetos DataFrame**\n",
    "\n",
    "Un objeto del tipo DataFrame define un conjunto de datos estructurado en forma de tabla donde cada columna es un objeto de tipo Series, es decir, todos los datos de una misma columna son del mismo tipo, y las filas son registros que pueden contender datos de distintos tipos.\n",
    "\n",
    "Un DataFrame contiene dos índices, uno para las filas y otro para las columnas, y se puede acceder a sus elementos mediante los nombres de las filas y las columnas.\n",
    "\n",
    "**Creación de un DataFrame a partir de un diccionario de listas**\n",
    "\n",
    "Para crear un DataFrame a partir de un diccionario cuyas claves son los nombres de las columnas y los valores son listas con los datos de las columnas se utiliza el método:\n",
    "\n",
    "<font style=\"color:Brown;font-weight:bold;letter-spacing:1px;\"></font>DataFrame(data=diccionario, index=filas, columns=columnas, dtype=tipos)** : Devuelve un objeto del tipo DataFrame cuyas columnas son las listas contenidas en los valores del diccionario diccionario, los nombres de filas indicados en la lista filas, los nombres de columnas indicados en la lista columnas y los tipos indicados en la lista tipos.  \n",
    "La lista filas tiene que tener el mismo tamaño que las listas del diccionario, mientras que las listas columnas y tipos tienen que tener el mismo tamaño que el diccionario.  \n",
    "Si no se pasa la lista de filas se utilizan como nombres los enteros empezando en 0.  \n",
    "Si no se pasa la lista de columnas se utilizan como nombres las claves del diccionario.  \n",
    "Si no se pasa la lista de tipos, se infiere. Los valores asociados a las claves del diccionario deben ser listas del mismo tamaño.\n",
    "\n",
    "```python\n",
    ">>> import pandas as pd\n",
    ">>> datos = {'nombre':['María', 'Luis', 'Carmen', 'Antonio'],'edad':[18, 22, 20, 21],'grado':['Economía', 'Medicina', 'Arquitectura', 'Economía'],'correo':['maria@gmail.com', 'luis@yahoo.es', 'carmen@gmail.com', ' antonio@gmail.com']}\n",
    ">>> df = pd.DataFrame(datos)\n",
    ">>> print(df)\n",
    "nombre edad grado correo\n",
    "0 María 18 Economía maria@gmail.com\n",
    "1 Luis 22 Medicina luis@yahoo.es\n",
    "2 Carmen 20 Arquitectura carmen@gmail.com\n",
    "3 Antonio 21 Economía antonio@gmail.com\n",
    "```\n",
    "\n",
    "**Creación de un DataFrame a partir de una lista de listas**\n",
    "\n",
    "Para crear un DataFrame a partir de una lista de listas con los datos de las columnas se utiliza el siguiente método:\n",
    "\n",
    "<font style=\"color:Brown;font-weight:bold;letter-spacing:1px;\"></font>DataFrame(data=listas, index=filas, columns=columnas, dtype=tipos)** : Devuelve un objeto del tipo DataFrame cuyas columnas son los valores de las listas de la lista listas, los nombres de filas indicados en la lista filas, los nombres de columnas indicados en la lista columnas y los tipos indicados en la lista tipos.  \n",
    "La lista filas, tiene que tener el mismo tamaño que la lista listas mientras que las listas columnas y tipos tienen que tener el mismo tamaño que las listas anidadas en listas.  \n",
    "Si no se pasa la lista de filas o de columnas se utilizan enteros empezando en 0.  \n",
    "Si no se pasa la lista de tipos, se infiere. Si las listas anidadas en listas no tienen el mismo tamaño, las listas menores se rellenan con valores NaN.\n",
    "\n",
    "```python\n",
    ">>> import pandas as pd\n",
    ">>> df = pd.DataFrame([['María', 18], ['Luis', 22], ['Carmen', 20]], columns=['Nombre', 'Edad'])\n",
    ">>> print(df)\n",
    "Nombre Edad\n",
    "0 María 18\n",
    "1 Luis 22\n",
    "2 Carmen 20\n",
    "```\n",
    "\n",
    "**Creación de un DataFrame a partir de una lista de diccionarios**\n",
    "\n",
    "Para crear un DataFrame a partir de una lista de diccionarios con los datos de las filas, se utiliza el siguiente método:\n",
    "\n",
    "<font style=\"color:Brown;font-weight:bold;letter-spacing:1px;\"></font>DataFrame(data=diccionarios, index=filas, columns=columnas, dtype=tipos )** : Devuelve un objeto del tipo DataFrame cuyas filas contienen los valores de los diccionarios de la lista diccionarios, los nombres de filas indicados en la lista filas, los nombres de columnas indicados en la lista columnas y los tipos indicados en la lista tipos.  \n",
    "La lista filas tiene que tener el mismo tamaño que la lista lista.  \n",
    "Si no se pasa la lista de filas se utilizan enteros empezando en 0.  \n",
    "Si no se pasa la lista de columnas se utilizan las claves de los diccionarios.  \n",
    "Si no se pasa la lista de tipos, se infiere. Si los diccionarios no tienen las mismas claves, las claves que no aparecen en el diccionario se rellenan con valores NaN.\n",
    "\n",
    "```python\n",
    ">>> import pandas as pd\n",
    ">>> df = pd.DataFrame([{'Nombre':'María', 'Edad':18}, {'Nombre':'Luis', 'Edad':22}, {'Nombre':'Carmen'}])\n",
    ">>> print(df)\n",
    "0 María 18.0\n",
    "1 Luis 22.0\n",
    "2 Carmen NaN\n",
    "```\n",
    "\n",
    "**Creación de un DataFrame a partir de un array**\n",
    "\n",
    "Para crear un DataFrame a partir de un array de NumPy se utiliza el siguiente método:\n",
    "\n",
    "<font style=\"color:Brown;font-weight:bold;letter-spacing:1px;\"></font>DataFrame(data=array, index=filas, columns=columnas, dtype=tipo)** : Devuelde un objeto del tipo DataFrame cuyas filas y columnas son las del array array, los nombres de filas indicados en la lista filas, los nombres de columnas indicados en la lista columnas y el tipo indicado en tipo.  \n",
    "La lista filas tiene que tener el mismo tamaño que el número de filas del array y la lista columnas el mismo tamaño que el número de columnas del array.  \n",
    "Si no se pasa la lista de filas se utilizan enteros empezando en 0.  \n",
    "Si no se pasa la lista de columnas se utilizan las claves de los diccionarios.  \n",
    "Si no se pasa la lista de tipos, se infiere.\n",
    "\n",
    "```python\n",
    ">>> import pandas as pd\n",
    ">>> df = pd.DataFrame(np.random.randn(4, 3), columns=['a', 'b', 'c'])\n",
    ">>> print(df)\n",
    "a b c\n",
    "0 -1.408238 0.644706 1.077434\n",
    "1 -0.279264 -0.249229 1.019137\n",
    "2 -0.805470 -0.629498 0.935066\n",
    "3 0.236936 -0.431673 -0.177379\n",
    "```\n",
    "\n",
    "**Creación de un DataFrame a partir de un fichero CSV o Excel**\n",
    "\n",
    "Dependiendo del tipo de fichero, existen distintas funciones para importar un DataFrame desde un fichero.\n",
    "\n",
    "<font style=\"color:Brown;font-weight:bold;letter-spacing:1px;\"></font>read_csv(fichero.csv, sep=separador, header=n, index_col=m, na_values= no-validos, decimal=separador-decimal)** : Devuelve un objeto del tipo DataFrame con los datos del fichero CSV fichero.csv usando como separador de los datos la cadena separador.  \n",
    "Como nombres de columnas se utiliza los valores de la fila n y como nombres de filas los valores de la columna m.  \n",
    "Si no se indica m se utilizan como nombres de filas los enteros empezando en 0.  \n",
    "Los valores incluídos en la lista no-validos se convierten en NaN.  \n",
    "Para los datos numéricos se utiliza como separador de decimales el carácter indicado en separador-decimal.\n",
    "\n",
    "<font style=\"color:Brown;font-weight:bold;letter-spacing:1px;\"></font>read_excel(fichero.xlsx, sheet_name=hoja, header=n, index_col=m, na_values=no-validos, decimal=separador-decimal)** : Devuelve un objeto del tipo DataFrame con los datos de la hoja de cálculo hoja del fichero Excel fichero.xlsx.  \n",
    "Como nombres de columnas se utiliza los valores de la fila n y como nombres de filas los valores de la columna m.  \n",
    "Si no se indica m se utilizan como nombres de filas los enteros empezando en 0. Los valores incluídos en la lista no-validos se convierten en NaN.  \n",
    "Para los datos numéricos se utiliza como separador de decimales el carácter indicado en separador-decimal.\n",
    "\n",
    "```python\n",
    ">>> import pandas as pd\n",
    ">>> # Importación del fichero datos-colesteroles.csv\n",
    ">>> df = pd.read_csv('https://raw.githubusercontent.com/asalber/manual-python/master/datos/ colesteroles.csv', sep=';' decimal=',')\n",
    ">>> print(df.head())\n",
    "nombre edad sexo peso altura colesterol\n",
    "0 José Luis Martínez Izquierdo 18 H 85.0 1.79 182.0\n",
    "1 Rosa Díaz Díaz 32 M 65.0 1.73 232.0\n",
    "2 Javier García Sánchez 24 H NaN 1.81 191.0\n",
    "3 Carmen López Pinzón 35 M 65.0 1.70 200.0 11\n",
    "4 Marisa López Collado 46 M 51.0 1.58 148.0 10.19\n",
    "```\n",
    "\n",
    "**Exportación de ficheros**\n",
    "\n",
    "También existen funciones para exportar un DataFrame a un fichero con diferentes formatos.\n",
    "\n",
    "<font style=\"color:Brown;font-weight:bold;letter-spacing:1px;\"></font>df.to_csv(fichero.csv, sep=separador, columns=booleano, index=booleano)** : Exporta el DataFrame df al fichero fichero.csv en formato CSV usando como separador de los datos la cadena separador.  \n",
    "Si se pasa True al parámetro columns se exporta también la fila con los nombres de columnas y si se pasa True al parámetro index se exporta también la columna con los nombres de las filas.  \n",
    "\n",
    "<font style=\"color:Brown;font-weight:bold;letter-spacing:1px;\"></font>df.to_excel(fichero.xlsx, sheet_name = hoja, columns=booleano, index= booleano)** : Exporta el DataFrame df a la hoja de cálculo hoja del fichero fichero.xlsx en formato Excel.  \n",
    "Si se pasa True al parámetro columns se exporta también la fila con los nombres de columnas y si se pasa True al parámetro index se exporta también la columna con los nombres de las filas.\n",
    "\n",
    "**Atributos de un DataFrame**\n",
    "\n",
    "Existen varias propiedades o métodos para ver las características de un DataFrame.\n",
    "\n",
    "<font style=\"color:Brown;font-weight:bold;letter-spacing:1px;\"></font>df.info()** : Devuelve información (número de filas, número de columnas, índices, tipo de las columnas y memoria usado) sobre el DataFrame df.\n",
    "\n",
    "<font style=\"color:Brown;font-weight:bold;letter-spacing:1px;\"></font>df.shape** : Devuelve una tupla con el número de filas y columnas del DataFrame df.\n",
    "\n",
    "<font style=\"color:Brown;font-weight:bold;letter-spacing:1px;\"></font>df.size** : Devuelve el número de elementos del DataFrame.\n",
    "\n",
    "<font style=\"color:Brown;font-weight:bold;letter-spacing:1px;\"></font>df.columns** : Devuelve una lista con los nombres de las columnas del DataFrame df.\n",
    "\n",
    "<font style=\"color:Brown;font-weight:bold;letter-spacing:1px;\"></font>df.index** : Devuelve una lista con los nombres de las filas del DataFrame df.\n",
    "\n",
    "<font style=\"color:Brown;font-weight:bold;letter-spacing:1px;\"></font>df.dtypes** : Devuelve una serie con los tipos de datos de las columnas del DataFrame df.\n",
    "\n",
    "<font style=\"color:Brown;font-weight:bold;letter-spacing:1px;\"></font>df.head(n)** : Devuelve las n primeras filas del DataFrame df.\n",
    "\n",
    "<font style=\"color:Brown;font-weight:bold;letter-spacing:1px;\"></font>df.tail(n)** : Devuelve las n últimas filas del DataFrame df.\n",
    "\n",
    "```python\n",
    ">>> import pandas as pd\n",
    ">>> df = pd.read_csv('https://raw.githubusercontent.com/asalber/manual-python/master/datos/ colesterol.csv')\n",
    ">>> df.info()\n",
    "<class 'pandas.core.frame.DataFrame'>\n",
    "RangeIndex: 14 entries, 0 to 13\n",
    "Data columns (total 6 columns):\n",
    "# Column Non-Null Count Dtype\n",
    "--- ------ -------------- -----\n",
    "0 nombre 14 non-null object\n",
    "1 edad 14 non-null int64\n",
    "2 sexo 14 non-null object\n",
    "3 peso 13 non-null float64\n",
    "4 altura 14 non-null float64\n",
    "5 colesterol 13 non-null float64\n",
    "dtypes: float64(3), int64(1), object(2)\n",
    "memory usage: 800.0+ bytes\n",
    ">>> df.shape\n",
    "(14, 6)\n",
    ">>> df.size\n",
    "84\n",
    ">>> df.columns\n",
    "Index(['nombre', 'edad', 'sexo', 'peso', 'altura', 'colesterol'], dtype ='object')\n",
    ">>> df.index\n",
    "RangeIndex(start=0, stop=14, step=1)\n",
    ">>> df.dtypes\n",
    "nombre object\n",
    "edad int64\n",
    "sexo object\n",
    "peso float64\n",
    "altura float64\n",
    "colesterol float64\n",
    "dtype: object\n",
    "```\n",
    "\n",
    "**Renombrar los nombres de las filas y columnas**\n",
    "\n",
    "Para cambiar el nombre de las filas y las columnas de un DataFrame se utiliza el siguiente método:\n",
    "\n",
    "<font style=\"color:Brown;font-weight:bold;letter-spacing:1px;\"></font>df.rename(columns=columnas, index=filas)** : Devuelve el DataFrame que resulta de renombrar las columnas indicadas en las claves del diccionario columnas con sus valores y las filas indicadas en las claves del diccionario filas con sus valores en el DataFrame df.\n",
    "\n",
    "```python\n",
    ">>> import pandas as pd\n",
    ">>> df = pd.read_csv('https://raw.githubusercontent.com/asalber/manual-python/master/datos/ colesterol.csv')\n",
    ">>> print(df.loc[2, 'colesterol']\n",
    "191\n",
    ">>> print(df.rename(columns={'nombre':'nombre y apellidos', 'altura':' estatura'}, index={0:1000, 1:1001, 2:1002}))\n",
    "nombre y apellidos edad sexo peso estatura colesterol\n",
    "1000 José Luis Martínez Izquierdo 18 H 85.0 1.79 182.0\n",
    "1001 Rosa Díaz Díaz 32 M 65.0 1.73 232.0\n",
    "1002 Javier García Sánchez 24 H NaN 1.81 191.0\n",
    "3 Carmen López Pinzón 35 M 65.0 1.70 200.0\n",
    "4 Marisa López Collado 46 M 51.0 1.58 148.0\n",
    "```\n",
    "\n",
    "**Reindexar un DataFrame**\n",
    "\n",
    "Para reordenar los índices de las filas y las columnas de un DataFrame, así como añadir o eliminar índices, se utiliza el siguiente método:\n",
    "\n",
    "<font style=\"color:Brown;font-weight:bold;letter-spacing:1px;\"></font>df.reindex(index=filas, columns=columnas, fill_value=relleno)** : Devuelve el DataFrame que resulta de tomar del DataFrame df las filas con nombres en la lista filas y las columnas con nombres en la lista columnas.  \n",
    "Si alguno de los nombres indicados en filas o columnas no existía en el DataFrame df, se crean filan o columnas nuevas rellenas con el valor relleno.\n",
    "\n",
    "```python\n",
    ">>> import pandas as pd\n",
    ">>> df = pd.read_csv('https://raw.githubusercontent.com/asalber/manual-python/master/datos/ colesterol.csv')\n",
    ">>> print(df.reindex(index=[4, 3, 1], columns=['nombre', 'tensión', ' colesterol']))\n",
    "nombre tensión colesterol\n",
    "4 Marisa López Collado NaN 148.0\n",
    "3 Carmen López Pinzón NaN 200.0\n",
    "1 Rosa Díaz Díaz NaN 232.0 10.23\n",
    "```\n",
    "**Acceso a los elementos de un DataFrame**\n",
    "\n",
    "El acceso a los datos de un DataFrame se puede hacer a través de posiciones o través de los nombres de las filas y columnas.\n",
    "\n",
    "*Accesos mediante posiciones*\n",
    "\n",
    "<font style=\"color:Brown;font-weight:bold;letter-spacing:1px;\"></font>df.iloc[i, j]** : Devuelve el elemento que se encuentra en la fila i y la columna j del DataFrame df. Pueden indicarse secuencias de índices para obtener partes del DataFrame.\n",
    "\n",
    "<font style=\"color:Brown;font-weight:bold;letter-spacing:1px;\"></font>df.iloc[filas, columnas]** : Devuelve un DataFrame con los elementos de las filas de la lista filas y de las columnas de la lista columnas.\n",
    "\n",
    "<font style=\"color:Brown;font-weight:bold;letter-spacing:1px;\"></font>df.iloc[i]** : Devuelve una serie con los elementos de la fila i del DataFrame df.\n",
    "\n",
    "```python\n",
    ">>> import pandas as pd\n",
    ">>> df = pd.read_csv('https://raw.githubusercontent.com/asalber/manual-python/master/datos/ colesterol.csv')\n",
    ">>> print(df.iloc[1, 3])\n",
    "65\n",
    ">>> print(df.iloc[1, :2])\n",
    "nombre Rosa Díaz Díaz\n",
    "edad 32 10.25\n",
    "```\n",
    "\n",
    "*Acceso a los elementos mediante nombres*\n",
    "\n",
    "<font style=\"color:Brown;font-weight:bold;letter-spacing:1px;\"></font>df.loc[fila, columna]** : Devuelve el elemento que se encuentra en la fila con nombre fila y la columna de con nombre columna del DataFrame df.\n",
    "\n",
    "<font style=\"color:Brown;font-weight:bold;letter-spacing:1px;\"></font>df.loc[filas, columnas]** : Devuelve un DataFrame con los elemento que se encuentra en las filas con los nombres de la lista filas y las columnas con los nombres de la lista columnas del DataFrame df.\n",
    "\n",
    "<font style=\"color:Brown;font-weight:bold;letter-spacing:1px;\"></font>df[columna]** : Devuelve una serie con los elementos de la columna de nombre columna del DataFrame df.\n",
    "\n",
    "<font style=\"color:Brown;font-weight:bold;letter-spacing:1px;\"></font>df.columna** : Devuelve una serie con los elementos de la columna de nombre columna del DataFrame df. Es similar al método anterior pero solo funciona cuando el nombre de la columna no tiene espacios en blanco.\n",
    "\n",
    "```python\n",
    ">>> import pandas as pd\n",
    ">>> df = pd.read_csv('https://raw.githubusercontent.com/asalber/manual-python/master/datos/ colesterol.csv')\n",
    ">>> print(df.loc[2, 'colesterol'])\n",
    "191\n",
    ">>> print(df.loc[:3, ('colesterol','peso')])\n",
    "colesterol peso\n",
    "1 232.0 65.0\n",
    "2 191.0 NaN\n",
    "3 200.0 65.0\n",
    ">>> print(df['colesterol'])\n",
    "0 182.0\n",
    "1 232.0\n",
    "2 191.0\n",
    "3 200.0\n",
    "```\n",
    "\n",
    "**Operaciones con las columnas de un DataFrame**\n",
    "\n",
    "*Añadir columnas a un DataFrame*\n",
    "\n",
    "El procedimiento para añadir una nueva columna a un DataFrame es similar al de añadir un nuevo par aun diccionario, pero pasando los valores de la columna en una lista o serie.\n",
    "\n",
    "<font style=\"color:Brown;font-weight:bold;letter-spacing:1px;\"></font>d[nombre]** = lista: Añade al DataFrame df una nueva columna con el nombre nombre y los valores de la lista lista. La lista debe tener el mismo tamaño que el número de filas de df.\n",
    "\n",
    "<font style=\"color:Brown;font-weight:bold;letter-spacing:1px;\"></font>d[nombre]** = serie: Añade al DataFrame df una nueva columna con el nombre nombre y los valores de la serie serie. Si el tamaño de la serie es menor que el número de filas de df se rellena con valores NaN mientras que si es mayor se recorta.\n",
    "\n",
    "```python\n",
    ">>> import pandas as pd\n",
    ">>> df = pd.read_csv('https://raw.githubusercontent.com/asalber/manual-python/master/datos/ colesterol.csv')\n",
    ">>> df['diabetes'] = pd.Series([False, False, True, False, True])\n",
    ">>> print(df)\n",
    "nombre edad sexo peso altura colesterol diabetes\n",
    "0 José Luis Martínez Izquierdo 18 H 85.0 1.79 182.0 False\n",
    "1 Rosa Díaz Díaz 32 M 65.0 1.73 232.0 False\n",
    "2 Javier García Sánchez 24 H NaN.0 1.81 191.0 True\n",
    "3 Carmen López Pinzón 35 M 65.0 1.70 200.0 False\n",
    "4 Marisa López Collado 46 M 51.0 1.58 148.0 True\n",
    "5 Antonio Ruiz Cruz 68 H 66.0 1.74 249.0 NaN 13\n",
    "```\n",
    "\n",
    "*Operaciones sobre columnas*\n",
    "\n",
    "Puesto que los datos de una misma columna de un DataFrame son del mismo tipo, es fácil aplicar la misma operación a todos los elementos de la columna.\n",
    "\n",
    "```python\n",
    ">>> import pandas as pd\n",
    ">>> df = pd.read_csv('https://raw.githubusercontent.com/asalber/manual-python/master/datos/ colesterol.csv')\n",
    ">>> print(df['altura']*100)\n",
    "0 179\n",
    "1 173\n",
    "2 181\n",
    ">>> print(df['sexo']=='M')\n",
    "0 False\n",
    "1 True\n",
    "2 False\n",
    "```\n",
    "\n",
    "*Aplicar funciones a columnas*\n",
    "\n",
    "Para aplicar funciones a todos los elementos de una columna se utiliza el siguiente método:\n",
    "\n",
    "<font style=\"color:Brown;font-weight:bold;letter-spacing:1px;\"></font>df[columna].apply(f)** : Devuelve una serie con los valores que resulta de aplicar la función f a los elementos de la columna con nombre columna del DataFrame df.\n",
    "\n",
    "```python\n",
    ">>> import pandas as pd\n",
    ">>> from math import log\n",
    ">>> df = pd.read_csv('https://raw.githubusercontent.com/asalber/manual-python/master/datos/ colesterol.csv')\n",
    ">>> print(df['altura'].apply(log))\n",
    "0 0.582216\n",
    "1 0.548121\n",
    "2 0.593327\n",
    "```\n",
    "\n",
    "**Resumen descriptivo de un DataFrame**\n",
    "\n",
    "Al igual que para las series, los siguientes métodos permiten resumir la información de un DataFrame por columnas:\n",
    "\n",
    "<font style=\"color:Brown;font-weight:bold;letter-spacing:1px;\"></font>df.count()** : Devuelve una serie número de elementos que no son nulos ni NaN en cada columna del DataFrame df.\n",
    "\n",
    "<font style=\"color:Brown;font-weight:bold;letter-spacing:1px;\"></font>df.sum(**) : Devuelve una serie con la suma de los datos de las columnas del DataFrame df cuando los datos son de un tipo numérico, o la concatenación de ellos cuando son del tipo cadena str.\n",
    "\n",
    "<font style=\"color:Brown;font-weight:bold;letter-spacing:1px;\"></font>df.cumsum()** : Devuelve un DataFrame con la suma acumulada de los datos de las columnas del DataFrame df cuando los datos son de un tipo numérico.\n",
    "\n",
    "<font style=\"color:Brown;font-weight:bold;letter-spacing:1px;\"></font>df.min()** : Devuelve una serie con los menores de los datos de las columnas del DataFrame df.\n",
    "\n",
    "<font style=\"color:Brown;font-weight:bold;letter-spacing:1px;\"></font>df.max()** : Devuelve una serie con los mayores de los datos de las columnas del DataFrame df.\n",
    "\n",
    "<font style=\"color:Brown;font-weight:bold;letter-spacing:1px;\"></font>df.mean()** : Devuelve una serie con las media de los datos de las columnas del DataFrame df cuando los datos son de un tipo numérico.\n",
    "\n",
    "<font style=\"color:Brown;font-weight:bold;letter-spacing:1px;\"></font>df.std()** : Devuelve una serie con las desviaciones típicas de los datos de las columnas del DataFrame df cuando los datos son de un tipo numérico.\n",
    "\n",
    "<font style=\"color:Brown;font-weight:bold;letter-spacing:1px;\"></font>df.describe(include = tipo)** : Devuelve un DataFrame con un resumen estadístico de las columnas del DataFrame df del tipo tipo.  \n",
    "Para los datos numéricos (number) se calcula la media, la desviación típica, el mínimo, el máximo y los cuartiles de las columnas numéricas.  \n",
    "Para los datos no numéricos (object) se calcula el número de valores, el número de valores distintos, la moda y su frecuencia.  \n",
    "Si no se indica el tipo solo se consideran las columnas numéricas.\n",
    "\n",
    "```python\n",
    ">>> import pandas as pd\n",
    ">>> df = pd.read_csv('https://raw.githubusercontent.com/asalber/manual-python/master/datos/ colesterol.csv')\n",
    ">>> print(df.describe())\n",
    "edad peso altura colesterol\n",
    "count 14.000000 13.000000 14.000000 13.000000\n",
    "mean 38.214286 70.923077 1.768571 220.230769\n",
    "std 15.621379 16.126901 0.115016 39.847948\n",
    "min 18.000000 51.000000 1.580000 148.000000\n",
    "25% 24.750000 61.000000 1.705000 194.000000\n",
    "50% 35.000000 65.000000 1.755000 210.000000\n",
    "75% 49.750000 78.000000 1.840000 249.000000\n",
    "max 68.000000 109.000000 1.980000 280.000000\n",
    ">>> print(df.describe(include='object'))\n",
    "nombre sexo\n",
    "count 14 14\n",
    "unique 14 2\n",
    "top Antonio Fernández Ocaña H\n",
    "freq 1 8\n",
    "```\n",
    "\n",
    "**Eliminar columnas de un DataFrame**\n",
    "\n",
    "Para eliminar columnas de un DataFrame se utilizan los siguientes métodos:\n",
    "\n",
    "<font style=\"color:Brown;font-weight:bold;letter-spacing:1px;\"></font>del d[nombre]** : Elimina la columna con nombre nombre del DataFrame df.\n",
    "\n",
    "<font style=\"color:Brown;font-weight:bold;letter-spacing:1px;\"></font>df.pop(nombre)** : Elimina la columna con nombre nombre del DataFrame df y la devuelve como una serie.\n",
    "\n",
    "```python\n",
    ">>> import pandas as pd\n",
    ">>> df = pd.read_csv('https://raw.githubusercontent.com/asalber/manual-python/master/datos/ colesterol.csv')\n",
    ">>> edad = df.pop('edad')\n",
    ">>> print(df)\n",
    "nombre sexo peso altura colesterol\n",
    "0 José Luis Martínez Izquierdo H 85.0 1.79 182.0\n",
    "1 Rosa Díaz Díaz M 65.0 1.73 232.0\n",
    "2 Javier García Sánchez H\n",
    "NaN 1.81 191.0\n",
    "...\n",
    ">>>print(edad)\n",
    "0 18 14 1 32 15 2 24 16\n",
    "```\n",
    "\n",
    "**Operaciones con las filas de un DataFrame**\n",
    "\n",
    "*Añadir una fila a un DataFrame*\n",
    "\n",
    "Para añadir una fila a un DataFrame se utiliza el siguiente método:\n",
    "\n",
    "<font style=\"color:Brown;font-weight:bold;letter-spacing:1px;\"></font>df.append(serie, ignore_index=True)** : Devuelve el DataFrame que resulta de añadir una fila al DataFrame df con los valores de la serie serie.  \n",
    "Los nombres del índice de la serie deben corresponderse con los nombres de las columnas de df.  \n",
    "Si no se pasa el parámetro ignore_index entonces debe pasarse el parámetro name a la serie, donde su argumento será el nombre de la nueva fila.\n",
    "\n",
    "```python\n",
    ">>> import pandas as pd\n",
    ">>> df = pd.read_csv('https://raw.githubusercontent.com/asalber/manual-python/master/datos/ colesterol.csv')\n",
    ">>> df = df.append(pd.Series(['Carlos Rivas', 28, 'H', 89.0, 1.78, 245.0], index=['nombre','edad','sexo','peso','altura','colesterol']) , ignore_index=True) 66 Manual de Python 10 LA LIBRERÍA PANDAS\n",
    ">>> print(df.tail())\n",
    "nombre edad sexo peso altura colesterol\n",
    "10 Macarena Álvarez Luna 53 M 55.0 1.62 262.0\n",
    "11 José María de la Guía Sanz 58 H 78.0 1.87 198.0\n",
    "12 Miguel Angel Cuadrado Gutiérrez 27 H 109.0 1.98 210.0\n",
    "13 Carolina Rubio Moreno 20 M 61.0 1.77 194.0\n",
    "14 Carlos Rivas 28 H 89.0 1.78 245.0 10.34\n",
    "```\n",
    "\n",
    "- *Eliminar filas de un DataFrame*\n",
    "\n",
    "Para eliminar filas de un DataFrame se utilizan el siguiente método:\n",
    "\n",
    "<font style=\"color:Brown;font-weight:bold;letter-spacing:1px;\"></font>df.drop(filas)** : Devuelve el DataFrame que resulta de eliminar las filas con los nombres indicados en la lista filas del DataFrame df.\n",
    "\n",
    "```python\n",
    ">>> import pandas as pd\n",
    ">>> df = pd.read_csv('https://raw.githubusercontent.com/asalber/manual-python/master/datos/ colesterol.csv')\n",
    ">>> print(df.drop([1, 3]))\n",
    "nombre edad sexo peso altura colesterol\n",
    "0 José Luis Martínez Izquierdo 18 H 85.0 1.79 182.0\n",
    "2 Javier García Sánchez 24 H NaN 1.81 191.0\n",
    "4 Marisa López Collado 46 M 51.0 1.58 148.0\n",
    "```\n",
    "\n",
    "*Filtrado de las filas de un DataFrame*\n",
    "\n",
    "Una operación bastante común con un DataFrame es obtener las filas que cumplen una determinada condición.\n",
    "\n",
    "<font style=\"color:Brown;font-weight:bold;letter-spacing:1px;\"></font>df[condicion]** : Devuelve un DataFrame con las filas del DataFrame df que se corresponden con el valor True de la lista booleana condicion. condicion debe ser una lista de valores booleanos de la misma longitud que el número de filas del DataFrame.\n",
    "\n",
    "```python\n",
    ">>> import pandas as pd\n",
    ">>> df = pd.read_csv('https://raw.githubusercontent.com/asalber/manual-python/master/datos/ colesterol.csv')\n",
    ">>> print(df[(df['sexo']=='H') & (df['colesterol'] > 260)])\n",
    "nombre edad sexo peso altura colesterol\n",
    "6 Antonio Fernández Ocaña 51 H 62.0 1.72 276.0\n",
    "9 Santiago Reillo Manzano 46 H 75.0 1.85 280.0\n",
    "```\n",
    "\n",
    "_Ordenar un DataFrame_\n",
    "\n",
    "Para ordenar un DataFrame de acuerdo a los valores de una determinada columna se utilizan los siguientes métodos:\n",
    "\n",
    "<font style=\"color:Brown;font-weight:bold;letter-spacing:1px;\"></font>df.sort_values(columna, ascending=booleano)** : Devuelve el DataFrame que resulta de ordenar las filas del DataFrame df según los valores del la columna con nombre columna.  \n",
    "Si argumento del parámetro ascending es True el orden es creciente y si es False decreciente.\n",
    "\n",
    "<font style=\"color:Brown;font-weight:bold;letter-spacing:1px;\"></font>df.sort_index(ascending=booleano)** : Devuelve el DataFrame que resulta de ordenar las filas del DataFrame df según los nombres de las filas.  \n",
    "Si el argumento del parámetro ascending es True el orden es creciente y si es False decreciente.\n",
    "\n",
    "```python\n",
    ">>> import pandas as pd\n",
    ">>> df = pd.read_csv('https://raw.githubusercontent.com/asalber/manual-python/master/datos/ colesterol.csv')\n",
    ">>> print(df.sort_values('colesterol'))\n",
    "nombre edad sexo peso altura colesterol\n",
    "4 Marisa López Collado 46 M 51.0 1.58 148.0\n",
    "0 José Luis Martínez Izquierdo 18 H 85.0 1.79 182.0\n",
    "2 Javier García Sánchez 24 H NaN 1.81 191.0\n",
    "13 Carolina Rubio Moreno 20 M 61.0 1.77 194.0\n",
    "```\n",
    "\n",
    "*Eliminar las filas con dados desconocidos en un DataFrame*\n",
    "\n",
    "Para eliminar las filas de un DataFrame que contienen datos desconocidos NaN o nulos None se utiliza el siguiente método:\n",
    "\n",
    "<font style=\"color:Brown;font-weight:bold;letter-spacing:1px;\"></font>s.dropna(subset=columnas)** : Devuelve el DataFrame que resulta de eliminar las filas que contienen algún dato desconocido o nulo en las columnas de la lista columna del DataFrame df.  \n",
    "Si no se pasa un argumento al parámetro subset se aplica a todas las columnas del DataFrame.\n",
    "\n",
    "```python\n",
    ">>> import pandas as pd\n",
    ">>> df = pd.read_csv('https://raw.githubusercontent.com/asalber/manual-python/master/datos/colesterol.csv')\n",
    ">>> print(df.dropna())\n",
    "nombre edad sexo peso altura colesterol\n",
    "0 José Luis Martínez Izquierdo 18 H 85.0 1.79 182.0\n",
    "1 Rosa Díaz Díaz 32 M 65.0 1.73 232.0\n",
    "3 Carmen López Pinzón 35 M 65.0 1.70 200.0\n",
    "4 Marisa López Collado 46 M 51.0 1.58 148.0\n",
    "```\n",
    "\n",
    "*Agrupación de un DataFrame*\n",
    "\n",
    "En muchas aplicaciones es útil agrupar los datos de un DataFrame de acuerdo a los valores de una o varias columnas (categorías), como por ejemplo el sexo o el país.\n",
    "\n",
    "Para dividir un DataFrame en grupos se utiliza el siguiente método:\n",
    "\n",
    "<font style=\"color:Brown;font-weight:bold;letter-spacing:1px;\"></font>df.groupby(columnas).groups** : Devuelve un diccionario con cuyas claves son las tuplas que resultan de todas las combinaciones de los valores de las columnas con nombres en la lista columnas, y valores las listas de los nombres de las filas que contienen esos valores en las correspondientes columnas del DataFrame df.\n",
    "\n",
    "```python\n",
    ">>> import pandas as pd\n",
    ">>> df = pd.read_csv('https://raw.githubusercontent.com/asalber/manual-python/master/datos/ colesterol.csv')\n",
    ">>> print(df.groupby('sexo').groups)\n",
    "{'H': Int64Index([0, 2, 5, 6, 8, 9, 11, 12], dtype='int64'), 'M': Int64Index([1, 3, 4, 7, 10, 13], dtype='int64')}\n",
    ">>> print(df.groupby(['sexo','edad']).groups)\n",
    "{('H', 18): Int64Index([0], dtype='int64'), ('H', 24): Int64Index([2], dtype='int64'), ('H', 27): Int64Index([12], dtype='int64'), ('H', 35): Int64Index([8], dtype='int64'), ('H', 46): Int64Index([9], dtype='int64'), ('H', 51): Int64Index([6], dtype='int64'), ('H', 58) : Int64Index([11], dtype='int64'), ('H', 68): Int64Index([5], dtype= 'int64'), ('M', 20): Int64Index([13], dtype='int64'), ('M', 22): Int64Index([7], dtype='int64'), ('M', 32): Int64Index([1], dtype=' int64'), ('M', 35): Int64Index([3], dtype='int64'), ('M', 46): Int64Index([4], dtype='int64'), ('M', 53): Int64Index([10], dtype=' int64')}\n",
    "```\n",
    "\n",
    "Para obtener un grupo concreto se utiliza el siguiente método:\n",
    "\n",
    "<font style=\"color:Brown;font-weight:bold;letter-spacing:1px;\"></font>df.groupby(columnas).get_group(valores)** : Devuelve un DataFrame con las filas del DataFrame df que cumplen que las columnas de la lista columnas presentan los valores de la tupla valores.  \n",
    "La lista columnas y la tupla valores deben tener el mismo tamaño.\n",
    "\n",
    "```python\n",
    ">>> import pandas as pd\n",
    ">>> df = pd.read_csv('https://raw.githubusercontent.com/asalber/manual-python/master/datos/ colesterol.csv')\n",
    ">>> print(df.groupby('sexo').get_group('M'))\n",
    "nombre edad sexo peso altura colesterol\n",
    "1 Rosa Díaz Díaz 32 M 65.0 1.73 232.0\n",
    "3 Carmen López Pinzón 35 M 65.0 1.70 200.0\n",
    "4 Marisa López Collado 46 M 51.0 1.58 148.0\n",
    "7 Pilar Martín González 22 M 60.0 1.66 NaN\n",
    "10 Macarena Álvarez Luna 53 M 55.0 1.62 262.0\n",
    "13 Carolina Rubio Moreno 20 M 61.0 1.77 194.0\n",
    "```\n",
    "\n",
    "*Aplicar una función de agregación por grupos*\n",
    "\n",
    "Una vez dividido el DataFame en grupos, es posible aplicar funciones de agregación a cada grupo mediante el siguiente método:\n",
    "\n",
    "<font style=\"color:Brown;font-weight:bold;letter-spacing:1px;\"></font>df.groupby(columnas).agg(funciones)** : Devuelve un DataFrame con el resultado de aplicar las funciones de agregación de la lista funciones a cada uno de los DataFrames que resultan de dividir el DataFrame según las columnas de la lista columnas.\n",
    "\n",
    "Una función de agregación toma como argumento una lista y devuelve una único valor.\n",
    "\n",
    "Algunas de las funciones de agregación más comunes son:\n",
    "\n",
    "<font style=\"color:Brown;font-weight:bold;letter-spacing:1px;\"></font>np.min** : Devuelve el mínimo de una lista de valores.\n",
    "\n",
    "<font style=\"color:Brown;font-weight:bold;letter-spacing:1px;\"></font>np.max** : Devuelve el máximo de una lista de valores.\n",
    "\n",
    "<font style=\"color:Brown;font-weight:bold;letter-spacing:1px;\"></font>np.count_nonzero** : Devuelve el número de valores no nulos de una lista de valores.\n",
    "\n",
    "<font style=\"color:Brown;font-weight:bold;letter-spacing:1px;\"></font>np.sum** : Devuelve la suma de una lista de valores.\n",
    "\n",
    "<font style=\"color:Brown;font-weight:bold;letter-spacing:1px;\"></font>np.mean** : Devuelve la media de una lista de valores.\n",
    "\n",
    "<font style=\"color:Brown;font-weight:bold;letter-spacing:1px;\"></font>np.std** : Devuelve la desviación típica de una lista de valores.\n",
    "\n",
    "```python\n",
    ">>> import pandas as pd\n",
    ">>> df = pd.read_csv('https://raw.githubusercontent.com/asalber/manual-python/master/datos/ colesterol.csv')\n",
    ">>> print(df.groupby('sexo').agg(np.mean))\n",
    "edad peso altura colesterol\n",
    "sexo\n",
    "H 40.875000 80.714286 1.837500 228.375\n",
    "M 34.666667 59.500000 1.676667 207.200\n",
    "```\n",
    "\n",
    "*Reestructurar un DataFrame*\n",
    "\n",
    "A menudo la disposición de los datos en un DataFrame no es la adecuada para su tratamiento y es necesario reestructurar el DataFrame.\n",
    "\n",
    "Los datos que contiene un DataFrame pueden organizarse en dos formatos: ancho y largo.\n",
    "\n",
    "Para convertir un DataFrame de formato ancho a formato largo (columnas a filas) se utiliza el siguiente método:\n",
    "\n",
    "<font style=\"color:Brown;font-weight:bold;letter-spacing:1px;\"></font>df.melt(id_vars=id-columnas, value_vars=columnas, var_name=nombrecolumnas, var_value=nombre-valores)** : Devuelve el DataFrame que resulta de convertir el DataFrame df de formato ancho a formato largo.  \n",
    "Todas las columnas de lista columnas se reestructuran en dos nuevas columnas con nombres nombre-columnas y nombre-valores que contienen los nombres de las columnas originales y sus valores, respectivamente.  \n",
    "Las columnas en la lista id-columnas se mantienen sin reestructurar.  \n",
    "Si no se pasa la lista columnas entonces se reestructuran todas las columnas excepto las columnas de la lista id-columnas.\n",
    "\n",
    "```python\n",
    ">>> import pandas as pd\n",
    ">>> datos = {'nombre':['María', 'Luis', 'Carmen'],\n",
    "... 'edad':[18, 22, 20],\n",
    "... 'Matemáticas':[8.5, 7, 3.5],\n",
    "... 'Economía':[8, 6.5, 5],\n",
    "... 'Programación':[6.5, 4, 9]}\n",
    ">>> df = pd.DataFrame(datos)\n",
    ">>> df1 = df.melt(id_vars=['nombre', 'edad'], var_name='asignatura', value_name='nota')\n",
    ">>> print(df1)\n",
    "nombre edad asignatura nota\n",
    "0 María 18 Matemáticas 8.5\n",
    "1 Luis 22 Matemáticas 7.0\n",
    "2 Carmen 20 Matemáticas 3.5\n",
    "3 María 18 Economía 8.0  \n",
    "4 Luis 22 Economía 6.5\n",
    "5 Carmen 20 Economía 5.0\n",
    "6 María 18 Programación 6.5\n",
    "7 Luis 22 Programación 4.0\n",
    "8 Carmen 20 Programación 9.0\n",
    "```\n",
    "\n",
    "*Convertir un DataFrame a formato ancho*\n",
    "\n",
    "Para convertir un DataFrame de formato largo a formato ancho (filas a columnas) se utiliza el siguiente método:\n",
    "\n",
    "<font style=\"color:Brown;font-weight:bold;letter-spacing:1px;\"></font>df.pivot(index=filas, columns=columna, values=valores)** : Devuelve el DataFrame que resulta de convertir el DataFrame df de formato largo a formato ancho.  \n",
    "Se crean tantas columnas nuevas como valores distintos haya en la columna columna.  \n",
    "Los nombres de estas nuevas columnas son los valores de la columna columna mientras que sus valores se toman de la columna valores.  \n",
    "Los nombres del índice del nuevo DataFrame se toman de los valores de la columna filas.\n",
    "\n",
    "```python\n",
    "# Continuación del código anterior\n",
    ">>> print(df1.pivot(index='nombre', columns='asignatura', values='nota' ))\n",
    "asignatura Economía Matemáticas Programación\n",
    "nombre\n",
    "Carmen 5.0 3.5 9.0\n",
    "Luis 6.5 7.0 4.0\n",
    "María 8.0 8.5 6.5\n",
    "```"
   ]
  },
  {
   "cell_type": "markdown",
   "metadata": {
    "id": "mIK5yirm2bNm",
    "jp-MarkdownHeadingCollapsed": true
   },
   "source": [
    "<h3 style=\"color:MediumBlue\">La librería Matplotlib</h3>"
   ]
  },
  {
   "cell_type": "markdown",
   "metadata": {
    "id": "mIK5yirm2bNm"
   },
   "source": [
    "Matplotlib es una librería de Python especializada en la creación de gráficos en dos dimensiones. [Gráfico con matplotlib](img/matplotlib-logo.png” alt=“Gráfico con matplotlib” height=“150px”> Permite crear y personalizar los tipos de gráficos más comunes, entre ellos:\n",
    "\n",
    "Diagramas de barras\n",
    "Histograma\n",
    "Diagramas de sectores\n",
    "    Diagramas de caja y bigotes\n",
    "Diagramas de violín\n",
    "Diagramas de dispersión o puntos\n",
    "Diagramas de lineas\n",
    "Diagramas de areas\n",
    "Diagramas de contorno\n",
    "Mapas de color 73 Manual de Python 11 LA LIBRERÍA MATPLOTLIB y combinaciones de todos ellos. En la siguiente galería de gráficos pueden apreciarse todos los tipos de gráficos que pueden crearse con esta librería. 11.1 Creación de gráficos con matplotlib Para crear un gráfico con matplotlib es habitual seguir los siguientes pasos:\n",
    "\n",
    "Importar el módulo pyplot.\n",
    "Definir la figura que contendrá el gráfico, que es la region (ventana o página) donde se dibujará y los ejes sobre los que se dibujarán los datos. Para ello se utiliza la función subplots().\n",
    "Dibujar los datos sobre los ejes. Para ello se utilizan distintas funciones dependiendo del tipo de gráfico que se quiera.\n",
    "Personalizar el gráfico. Para ello existen multitud de funciones que permiten añadir un título, una leyenda, una rejilla, cambiar colores o personalizar los ejes.\n",
    "Guardar el gráfico. Para ello se utiliza la función savefig().\n",
    "Mostrar el gráfico. Para ello se utiliza la función show(). 1 # Importar el módulo pyplot con el alias plt 2 import matplotlib.pyplot as plt 3 # Crear la figura y los ejes 4 fig, ax = plt.subplot() 5 # Dibujar puntos 6 ax.scatter(x = [1, 2, 3], y = [3, 2, 1]) 7 # Guardar el gráfico en formato png 8 plt.savefig('diagrama-dispersion.png') 9 # Mostrar el gráfico 10 plt.show() 74 Manual de Python 11 LA LIBRERÍA MATPLOTLIB Figura 8: Gráfico con matplotlib 11.2 Diagramas de dispersión o puntos\n",
    "\n",
    "scatter(x, y): Dibuja un diagrama de puntos con las coordenadas de la lista x en el eje X y las coordenadas de la lista y en el eje Y. 1 import matplotlib.pyplot as plt 2 fig, ax = plt.subplot() 3 ax.scatter([1, 2, 3, 4], [1, 2, 0, 0.5]) 4 plt.show() 75 Manual de Python 11 LA LIBRERÍA MATPLOTLIB Figura 9: Gráfico con matplotlib 11.3 Diagramas de líneas\n",
    "plot(x, y): Dibuja un polígono con los vértices dados por las coordenadas de la lista x en el eje X y las coordenadas de la lista y en el eje Y. 1 import matplotlib.pyplot as plt 2 fig, ax = plt.subplot() 3 ax.plot([1, 2, 3, 4], [1, 2, 0, 0.5]) 4 plt.show() 76 Manual de Python 11 LA LIBRERÍA MATPLOTLIB Figura 10: Gráfico con matplotlib 11.4 Diagramas de areas\n",
    "fill_between(x, y): Dibuja el area bajo el polígono con los vértices dados por las coordenadas de la lista x en el eje X y las coordenadas de la lista y en el eje Y. 1 import matplotlib.pyplot as plt 2 fig, ax = plt.subplot() 3 ax.fill_between([1, 2, 3, 4], [1, 2, 0, 0.5]) 4 plt.show() 77 Manual de Python 11 LA LIBRERÍA MATPLOTLIB Figura 11: Gráfico con matplotlib 11.5 Diagramas de barras verticales\n",
    "bar(x, y): Dibuja un diagrama de barras verticales donde x es una lista con la posición de las barras en el eje X, e y es una lista con la altura de las barras en el eje Y. 1 import matplotlib.pyplot as plt 2 fig, ax = plt.subplot() 3 ax.bar([1, 2, 3], [3, 2, 1]) 4 plt.show() 78 Manual de Python 11 LA LIBRERÍA MATPLOTLIB Figura 12: Gráfico con matplotlib 11.6 Diagramas de barras horizontales\n",
    "barh(x, y): Dibuja un diagrama de barras horizontales donde x es una lista con la posición de las barras en el eje Y, y x es una lista con la longitud de las barras en el eje X. 1 import matplotlib.pyplot as plt 2 fig, ax = plt.subplot() 3 ax.barh([1, 2, 3], [3, 2, 1]) 4 plt.show() 79 Manual de Python 11 LA LIBRERÍA MATPLOTLIB Figura 13: Gráfico con matplotlib 11.7 Histogramas\n",
    "hist(x, bins): Dibuja un histograma con las frecuencias resultantes de agrupar los datos de la lista x en las clases definidas por la lista bins. 1 import numpy as np 2 import matplotlib.pyplot as plt 3 fig, ax = plt.subplot() 4 x = np.random.normal(5, 1.5, size=1000) 5 ax.hist(x, np.arange(0, 11)) 6 plt.savefig('histograma.png') 7 plt.show() 80 Manual de Python 11 LA LIBRERÍA MATPLOTLIB Figura 14: Gráfico con matplotlib 11.8 Diagramas de sectores\n",
    "pie(x): Dibuja un diagrama de sectores con las frecuencias de la lista x. 1 import matplotlib.pyplot as plt 2 fig, ax = plt.subplot() 3 ax.pie([5, 4, 3, 2, 1] 4 plt.savefig('diagrama-sectores.png') 5 plt.show() 81 Manual de Python 11 LA LIBRERÍA MATPLOTLIB Figura 15: Gráfico con matplotlib 11.9 Diagramas de caja y bigotes\n",
    "boxplot(x): Dibuja un diagrama de caja y bigotes con los datos de la lista x. 1 import matplotlib.pyplot as plt 2 fig, ax = plt.subplot() 3 ax.boxplot([1, 2, 1, 2, 3, 4, 3, 3, 5, 7]) 4 plt.savefig('diagrama-sectores.png') 5 plt.show() 82 Manual de Python 11 LA LIBRERÍA MATPLOTLIB Figura 16: Gráfico con matplotlib 11.10 Diagramas de violín\n",
    "violinplot(x): Dibuja un diagrama de violín con los datos de la lista x. 1 import matplotlib.pyplot as plt 2 fig, ax = plt.subplot() 3 ax.violinplot([1, 2, 1, 2, 3, 4, 3, 3, 5, 7]) 4 plt.savefig('diagrama-sectores.png') 5 plt.show() 83 Manual de Python 11 LA LIBRERÍA MATPLOTLIB Figura 17: Gráfico con matplotlib 11.11 Diagramas de contorno\n",
    "contourf(x, y, z): Dibuja un diagrama de contorno con las curvas de nivel de la superficie dada por los puntos con las coordenadas de las listas x, y y z en los ejes X, Y y Z respectivamente. 1 import matplotlib.pyplot as plt 2 fig, ax = plt.subplot() 3 x = np.linspace(-3.0, 3.0, 100) 4 y = np.linspace(-3.0, 3.0, 100) 5 x, y = np.meshgrid(x, y) 6 z = np.sqrt(x2 + 2*y2) 7 ax.contourf(x, y, z) 8 plt.show() 84 Manual de Python 11 LA LIBRERÍA MATPLOTLIB Figura 18: Gráfico con matplotlib 11.12 Mapas de color\n",
    "imshow(x): Dibuja un mapa de color a partir de una matriz (array bidimensiona) x. 1 import matplotlib.pyplot as plt 2 fig, ax = plt.subplot() 3 x = np.random.random((16, 16)) 4 ax.imshow(x) 5 plt.show() 85 Manual de Python 11 LA LIBRERÍA MATPLOTLIB 11.13 Mapas de color\n",
    "hist2d(x, y): Dibuja un mapa de color que simula un histograma bidimensional, donde los colores de los cuadrados dependen de las frecuencias de las clases de la muestra dada por las listas x e y. 1 import matplotlib.pyplot as plt 2 fig, ax = plt.subplot() 3 x, y = np.random.multivariate_normal(mean=[0.0, 0.0], cov=[[1.0, 0.4], [0.4, 0.5]], size=1000).T 4 ax.hist2d(x, y) 5 plt.show() 86 Manual de Python 11 LA LIBRERÍA MATPLOTLIB Figura 19: Gráfico con matplotlib 11.14 Cambiar el aspecto de los gráficos Los gráficos creados con Matplotlib son personalizables y puede cambiarse el aspecto de casi todos sus elementos. Los elementos que suelen modificarse más a menudo son:\n",
    "Colores\n",
    "Marcadores de puntos\n",
    "Estilo de líneas\n",
    "Títulos\n",
    "Ejes\n",
    "Leyenda\n",
    "Regilla 87 Manual de Python 11 LA LIBRERÍA MATPLOTLIB 11.15 Colores Para cambiar el color de los objetos se utiliza el parámetro color = nombre-color, donde nombrecolor es una cadena con el nombre del color de entre los colores disponibles. 1 import matplotlib.pyplot as plt 2 fig, ax = plt.subplots() 3 dias = ['L', 'M', 'X', 'J', 'V', 'S', 'D'] 4 temperaturas = {'Madrid':[28.5, 30.5, 31, 30, 28, 27.5, 30.5], ' Barcelona':[24.5, 25.5, 26.5, 25, 26.5, 24.5, 25]} 5 ax.plot(dias, temperaturas['Madrid'], color = 'tab:purple') 6 ax.plot(dias, temperaturas['Barcelona'], color = 'tab:green') 7 plt.show() Figura 20: Gráfico con matplotlib 88 Manual de Python 11 LA LIBRERÍA MATPLOTLIB 11.16 Marcadores Para cambiar la forma de los puntos marcadores se utiliza el parámetro marker = nombre-marcador donde nombre-marcador es una cadena con el nombre del marcador de entre los marcadores disponibles 1 import matplotlib.pyplot as plt 2 fig, ax = plt.subplots() 3 dias = ['L', 'M', 'X', 'J', 'V', 'S', 'D'] 4 temperaturas = {'Madrid':[28.5, 30.5, 31, 30, 28, 27.5, 30.5], ' Barcelona':[24.5, 25.5, 26.5, 25, 26.5, 24.5, 25]} 5 ax.plot(dias, temperaturas['Madrid'], marker = '^') 6 ax.plot(dias, temperaturas['Barcelona'], marker = 'o') 7 plt.show() Figura 21: Gráfico con matplotlib 89 Manual de Python 11 LA LIBRERÍA MATPLOTLIB 11.17 Líneas Para cambiar el estilo de las líneas se utiliza el parámetro linestyle = nombre-estilo donde nombre -estilo es una cadena con el nombre del estilo de entre los estilos disponibles 1 import matplotlib.pyplot as plt 2 fig, ax = plt.subplots() 3 dias = ['L', 'M', 'X', 'J', 'V', 'S', 'D'] 4 temperaturas = {'Madrid':[28.5, 30.5, 31, 30, 28, 27.5, 30.5], ' Barcelona':[24.5, 25.5, 26.5, 25, 26.5, 24.5, 25]} 5 ax.plot(dias, temperaturas['Madrid'], linestyle = 'dashed') 6 ax.plot(dias, temperaturas['Barcelona'], linestyle = 'dotted') 7 plt.show() Figura 22: Gráfico con matplotlib 90 Manual de Python 11 LA LIBRERÍA MATPLOTLIB 11.18 Títulos\n",
    "ax.set_title(titulo, loc=alineacion, fontdict=fuente) : Añade un título con el contenido de la cadena titulo a los ejes ax. El parámetro loc indica la alineación del título, que puede ser 'left' (izquierda), 'center' (centro) o 'right' (derecha), y el parámetro fontdict indica mediante un diccionario las características de la fuente (la el tamaño fontisize, el grosor fontweight o el color color). 1 import matplotlib.pyplot as plt 2 fig, ax = plt.subplots() 3 dias = ['L', 'M', 'X', 'J', 'V', 'S', 'D'] 4 temperaturas = {'Madrid':[28.5, 30.5, 31, 30, 28, 27.5, 30.5], ' Barcelona':[24.5, 25.5, 26.5, 25, 26.5, 24.5, 25]} 5 ax.plot(dias, temperaturas['Madrid']) 6 ax.plot(dias, temperaturas['Barcelona']) 7 ax.set_title('Evolución de la temperatura diaria', loc = \"left\", fontdict = {'fontsize':14, 'fontweight':'bold', 'color':'tab:blue'}) 8 plt.show() Figura 23: Gráfico con matplotlib 91 Manual de Python 11 LA LIBRERÍA MATPLOTLIB 11.19 Ejes\n",
    "ax.set_xlabel(titulo) : Añade un título con el contenido de la cadena titulo al eje x de ax. Se puede personalizar la alineación y la fuente con los mismos parámetros que para el título principal.\n",
    "ax.set_ylabel(titulo) : Añade un título con el contenido de la cadena titulo al eje y de ax. Se puede personalizar la alineación y la fuente con los mismos parámetros que para el título principal.\n",
    "ax.set_xlim([limite-inferior, limite-superior]) : Establece los límites que se muestran en el eje x de ax.\n",
    "ax.set_ylim([limite-inferior, limite-superior]) : Establece los límites que se muestran en el eje y de ax.\n",
    "ax.set_xticks(marcas) : Dibuja marcas en el eje x de ax en las posiciones indicadas en la lista marcas.\n",
    "ax.set_yticks(marcas) : Dibuja marcas en el eje y de ax en las posiciones indicadas en la lista marcas.\n",
    "ax.set_xscale(escala) : Establece la escala del eje x de ax, donde el parámetro escala puede ser 'linear' (lineal) o 'log' (logarítmica).\n",
    "ax.set_yscale(escala) : Establece la escala del eje y de ax, donde el parámetro escala puede ser 'linear' (lineal) o 'log' (logarítmica). 11.20 Ejes 1 import matplotlib.pyplot as plt 2 fig, ax = plt.subplots() 3 dias = ['L', 'M', 'X', 'J', 'V', 'S', 'D'] 4 temperaturas = {'Madrid':[28.5, 30.5, 31, 30, 28, 27.5, 30.5], ' Barcelona':[24.5, 25.5, 26.5, 25, 26.5, 24.5, 25]} 5 ax.plot(dias, temperaturas['Madrid']) 6 ax.plot(dias, temperaturas['Barcelona']) 7 ax.set_xlabel(\"Días\", fontdict = {'fontsize':14, 'fontweight':'bold', ' color':'tab:blue'}) 8 ax.set_ylabel(\"Temperatura ºC\") 9 ax.set_ylim([20,35]) 10 ax.set_yticks(range(20, 35)) 11 plt.show() 92 Manual de Python 11 LA LIBRERÍA MATPLOTLIB Figura 24: Gráfico con matplotlib 11.21 Leyenda\n",
    "ax.legend(leyendas, loc = posición) : Dibuja un leyenda en los ejes ax con los nombres indicados en la lista leyendas. El parámetro loc indica la posición en la que se dibuja la leyenda y puede ser 'upper left' (arriba izquierda), 'upper center' (arriba centro), 'upper right' (arriba derecha), 'center left' (centro izquierda), 'center' (centro), 'center right' (centro derecha), 'lower left' (abajo izquierda), 'lower center' (abajo centro), 'lower right' (abajo derecha). Se puede omitir la lista leyendas si se indica la leyenda de cada serie en la función que la dibuja mediante el parámetro label. 1 import matplotlib.pyplot as plt 2 fig, ax = plt.subplots() 3 dias = ['L', 'M', 'X', 'J', 'V', 'S', 'D'] 4 temperaturas = {'Madrid':[28.5, 30.5, 31, 30, 28, 27.5, 30.5], ' Barcelona':[24.5, 25.5, 26.5, 25, 26.5, 24.5, 25]} 5 ax.plot(dias, temperaturas['Madrid'], label = 'Madrid') 6 ax.plot(dias, temperaturas['Barcelona'], label = 'Barcelona') 93 Manual de Python 11 LA LIBRERÍA MATPLOTLIB 7 ax.legend(loc = 'upper right') 8 plt.show() Figura 25: Gráfico con matplotlib 11.22 Regilla ax.grid(axis=ejes, color=color, linestyle=estilo) : Dibuja una regilla en los ejes de ax. El parámetro axis indica los ejes sobre los que se dibuja la regilla y puede ser 'x' (eje x), 'y' (eje y) o 'both' (ambos). Los parámetros color y linestyle establecen el color y el estilo de las líneas de la rejilla, y pueden tomar los mismos valores vistos en los apartados de colores y líneas. 1 import matplotlib.pyplot as plt 2 fig, ax = plt.subplots() 3 dias = ['L', 'M', 'X', 'J', 'V', 'S', 'D'] 4 temperaturas = {'Madrid':[28.5, 30.5, 31, 30, 28, 27.5, 30.5], ' Barcelona':[24.5, 25.5, 26.5, 25, 26.5, 24.5, 25]} 5 ax.plot(dias, temperaturas['Madrid']) 6 ax.plot(dias, temperaturas['Barcelona']) 94 Manual de Python 11 LA LIBRERÍA MATPLOTLIB 7 ax.grid(axis = 'y', color = 'gray', linestyle = 'dashed') 8 plt.show() Figura 26: Gráfico con matplotlib 11.23 Múltiples gráficos Es posible dibujar varios gráficos en distintos ejes en una misma figura organizados en forma de tabla. Para ello, cuando se inicializa la figura y los ejes, hay que pasarle a la función subplots el número de filas y columnas de la tabla que contendrá los gráficos. Con esto los distintos ejes se organizan en un array y se puede acceder a cada uno de ellos a través de sus índices. Si se quiere que los distintos ejes compartan los mismos límites para los ejes se pueden pasar los parámetros sharex = True para el eje x o sharey = True para el eje y. 1 import matplotlib.pyplot as plt 2 fig, ax = plt.subplots(2, 2, sharey = True) 3 dias = ['L', 'M', 'X', 'J', 'V', 'S', 'D'] 4 temperaturas = {'Madrid':[28.5, 30.5, 31, 30, 28, 27.5, 30.5], ' Barcelona':[24.5, 25.5, 26.5, 25, 26.5, 24.5, 25]} 5 ax[0, 0].plot(dias, temperaturas['Madrid']) 95 Manual de Python 11 LA LIBRERÍA MATPLOTLIB 6 ax[0, 1].plot(dias, temperaturas['Barcelona'], color = 'tab:orange') 7 ax[1, 0].bar(dias, temperaturas['Madrid']) 8 ax[1, 1].bar(dias, temperaturas['Barcelona'], color = 'tab:orange') 9 plt.show() Figura 27: Gráfico con matplotlib 11.24 Integración con Pandas Matplotlib se integra a la perfección con la librería Pandas, permitiendo dibujar gráficos a partir de los datos de las series y DataFrames de Pandas.\n",
    "df.plot(kind=tipo, x=columnax, y=columnay, ax=ejes) : Dibuja un diagrama del tipo indicado por el parámetro kind en los ejes indicados en el parámetro ax, representando en el eje x la columna del parámetro x y en el eje y la columna del parámetro y. El parámetro kind puede tomar como argumentos 'line' (lineas), 'scatter' (puntos), 'bar' (barras verticales), 'barh' (barras horizontales), 'hist' (histograma), 'box' (cajas), 'density' (densidad), 'area' (area) o 'pie' (sectores). Es posible pasar otros parámetros para indicar el color, el marcador o el estilo de línea como 96 Manual de Python 11 LA LIBRERÍA MATPLOTLIB se vió en los apartados anteriores. 1 import pandas as pd 2 import matplotlib.pyplot as plt 3 df = pd.DataFrame({'Días':['L', 'M', 'X', 'J', 'V', 'S', 'D'], 4 'Madrid':[28.5, 30.5, 31, 30, 28, 27.5, 30.5], 5 'Barcelona':[24.5, 25.5, 26.5, 25, 26.5, 24.5, 25]}) 6 fig, ax = plt.subplots() 7 df.plot(x = 'Días', y = 'Madrid', ax = ax) 8 df.plot(x = 'Días', y = 'Barcelona', ax = ax) 9 plt.show() Figura 28: Gráfico con matplotlib Si no se indican los parámetros x e y se representa el índice de las filas en el eje x y una serie por cada columna del Dataframe. Las columnas no númericas se ignoran. 1 import pandas as pd 2 import matplotlib.pyplot as plt 3 df = pd.DataFrame({'Días':['L', 'M', 'X', 'J', 'V', 'S', 'D'], 97 Manual de Python 12 APÉNDICE: DEPURACIÓN DE CÓDIGO 4 'Madrid':[28.5, 30.5, 31, 30, 28, 27.5, 30.5], 5 'Barcelona':[24.5, 25.5, 26.5, 25, 26.5, 24.5, 25]}) 6 df = df.set_index('Días') 7 fig, ax = plt.subplots() 8 df.plot() 9 plt.show() Figura 29: Gráfico con matplotlib 12"
   ]
  }
 ],
 "metadata": {
  "colab": {
   "authorship_tag": "ABX9TyMuGHeUueb91BhT0i0Qk0y7",
   "mount_file_id": "19vkkgZL2jN4nJyqGtllIqKm7Ep6qUkUf",
   "provenance": [
    {
     "file_id": "19vkkgZL2jN4nJyqGtllIqKm7Ep6qUkUf",
     "timestamp": 1731347737427
    },
    {
     "file_id": "1aczs796G2QTwW9VsK278mLtrMFabZoWU",
     "timestamp": 1730822970219
    },
    {
     "file_id": "1XI5yw7_dIqOletcYL-O2UEtf-mFmqS4C",
     "timestamp": 1730814180098
    }
   ]
  },
  "kernelspec": {
   "display_name": "Python 3 (ipykernel)",
   "language": "python",
   "name": "python3"
  },
  "language_info": {
   "codemirror_mode": {
    "name": "ipython",
    "version": 3
   },
   "file_extension": ".py",
   "mimetype": "text/x-python",
   "name": "python",
   "nbconvert_exporter": "python",
   "pygments_lexer": "ipython3",
   "version": "3.11.5"
  },
  "toc-autonumbering": false,
  "toc-showcode": false,
  "toc-showmarkdowntxt": false,
  "toc-showtags": false
 },
 "nbformat": 4,
 "nbformat_minor": 4
}
